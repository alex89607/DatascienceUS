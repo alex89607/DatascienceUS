{
 "cells": [
  {
   "cell_type": "markdown",
   "id": "bb571acb",
   "metadata": {},
   "source": [
    "# Защита персональных данных клиентов"
   ]
  },
  {
   "cell_type": "markdown",
   "id": "beb75666",
   "metadata": {},
   "source": [
    "Вам нужно защитить данные клиентов страховой компании «Хоть потоп». Разработайте такой метод преобразования данных, чтобы по ним было сложно восстановить персональную информацию. Обоснуйте корректность его работы.\n",
    "\n",
    "Нужно защитить данные, чтобы при преобразовании качество моделей машинного обучения не ухудшилось. Подбирать наилучшую модель не требуется."
   ]
  },
  {
   "cell_type": "markdown",
   "id": "1530aa2b-f687-4df1-b174-eb9530bc988e",
   "metadata": {},
   "source": [
    "\n",
    "\n",
    "\n",
    "Цель проекта, показать на реальных данных, что качество предсказания не ухудшится при использовании предложенных методов защиты персональных данных\n",
    "\n"
   ]
  },
  {
   "cell_type": "markdown",
   "id": "d48155cf-7b05-4d07-9523-94bef57cecab",
   "metadata": {},
   "source": [
    "    Ответьте на вопрос и обоснуйте решение.\n",
    "    Признаки умножают на обратимую матрицу. Изменится ли качество линейной регрессии? (Её можно обучить заново.)\n",
    "    a. Изменится. Приведите примеры матриц.\n",
    "    b. Не изменится. Укажите, как связаны параметры линейной регрессии в исходной задаче и в преобразованной."
   ]
  },
  {
   "cell_type": "markdown",
   "id": "52344b3d-c0a3-42a0-917f-02b2ea2f8c76",
   "metadata": {},
   "source": [
    "Вариант \"b\""
   ]
  },
  {
   "cell_type": "markdown",
   "id": "7a88a66e-3031-4aa7-bac4-ddde80030f4f",
   "metadata": {},
   "source": [
    "Параметры в Предсказания:\n",
    "\n",
    "$$\n",
    "a = Xw\n",
    "$$\n",
    "\n",
    "Задача обучения:\n",
    "\n",
    "$$\n",
    "w = \\arg\\min_w MSE(Xw, y)\n",
    "$$\n",
    "\n",
    "Формула обучения:\n",
    "\n",
    "$$\n",
    "w = (X^T X)^{-1} X^T y\n",
    "$$"
   ]
  },
  {
   "cell_type": "markdown",
   "id": "4fd7b12d-39d5-43fe-a498-f1e1eb05ac91",
   "metadata": {},
   "source": [
    "Следовательно, при умножении на обратную матрицу от исходной результат не должен измениться."
   ]
  },
  {
   "cell_type": "markdown",
   "id": "ba53bddd",
   "metadata": {},
   "source": [
    "**Обоснование:**\n",
    "\n",
    "Используемые свойства:\n",
    "$$\n",
    "(AB)^T=B^T A^T\n",
    "$$\n",
    "$$\n",
    "(AB)^{-1} = B^{-1} A^{-1}\n",
    "$$\n",
    "$$\n",
    "A A^{-1} = A^{-1} A = E\n",
    "$$\n",
    "$$\n",
    "AE = EA = A\n",
    "$$\n",
    "Доказательство:\n",
    "$$\n",
    "a = Xw = XEw = XPP^{-1}w = (XP)P^{-1}w = (XP)w'\n",
    "$$\n",
    "\\\n",
    "$$\n",
    "w = (X^T X)^{-1} X^T y\n",
    "$$\n",
    "\\\n",
    "$$\n",
    "w' = ((XP)^T XP)^{-1} (XP)^T y\n",
    "$$\n",
    "$$\n",
    "w' = (P^T (X^T X) P)^{-1} (XP)^T y\n",
    "$$"
   ]
  },
  {
   "cell_type": "markdown",
   "id": "d1d8d0cb-7dec-494f-9d99-2ab8d73029aa",
   "metadata": {},
   "source": [
    " \n",
    "    \n",
    "    \n",
    "$$\n",
    "w' = (P^T (X^T X) P)^{-1} (XP)^T y\n",
    "$$\n",
    "\\   \n",
    "$$\n",
    "w' = (P^T) ^{-1} (X^T X)^{-1} (P)^{-1} (XP)^T y\n",
    "$$\n",
    "\\  \n",
    "$$\n",
    "w' =  (X^T X)^{-1}(X)^Ty  (P^T) ^{-1} (P)^{-1} (P)^T \n",
    "$$\n",
    "\\   \n",
    "$$\n",
    "w' =  (X^T X)^{-1}(X)^Ty  (P^T) ^{-1} (P)^{-1} (P)^T \n",
    "$$\n",
    "\\\n",
    "$$\n",
    "w' P=  (X^T X)^{-1}(X)^Ty  (P^T) ^{-1}  (P)^T \n",
    "$$\n",
    "\\\n",
    "$$\n",
    "w=  (X^T X)^{-1}(X)^Ty \n",
    "$$\n",
    "    \n",
    "</div>"
   ]
  },
  {
   "cell_type": "markdown",
   "id": "274bfc4a",
   "metadata": {},
   "source": [
    "\n",
    "\n",
    "$$w' = (P^T (X^T X) P)^{-1} (XP)^T y$$\n",
    "$$w' = P^{-1} (X^TX)^{-1} (P^T)^{-1} P^T X^T y$$\n",
    "$$w=  (X^T X)^{-1}(X)^Ty $$\n",
    "\n",
    "\n"
   ]
  },
  {
   "cell_type": "markdown",
   "id": "cfaaa83c",
   "metadata": {},
   "source": [
    "## Загрузка данных"
   ]
  },
  {
   "cell_type": "markdown",
   "id": "e73987dd-87ea-4e5f-b2b6-95919778a80a",
   "metadata": {},
   "source": [
    "    Загрузим и изучим данные."
   ]
  },
  {
   "cell_type": "code",
   "execution_count": 1,
   "id": "659b0eea",
   "metadata": {},
   "outputs": [],
   "source": [
    "import pandas as pd\n",
    "import numpy as np\n",
    "from IPython.display import display\n",
    "import os\n",
    "import matplotlib.pyplot as plt\n",
    "from scipy import stats as st\n",
    "from sklearn.model_selection import train_test_split\n",
    "pd.options.display.max_columns = None\n",
    "from sklearn.linear_model import LinearRegression\n",
    "from sklearn.model_selection import cross_val_score\n",
    "from sklearn.metrics import make_scorer\n",
    "from sklearn.metrics import r2_score"
   ]
  },
  {
   "cell_type": "code",
   "execution_count": 2,
   "id": "4af526d3-b489-4ca0-becc-adb3f5d6ddb0",
   "metadata": {
    "tags": []
   },
   "outputs": [],
   "source": [
    "#pd.read_csv('ins.csv')  \n",
    "\n",
    "pth1 = '/datasets/insurance.csv'\n",
    "pth2 = 'ins.csv'\n",
    "df = pd.read_csv(pth2)\n",
    "if os.path.exists(pth1):\n",
    "    df = pd.read_csv(pth1)\n",
    "elif os.path.exists(pth2):\n",
    "    df = pd.read_csv(pth2)\n",
    "else:\n",
    "    pass\n",
    "    print('Something is wrong')"
   ]
  },
  {
   "cell_type": "code",
   "execution_count": 3,
   "id": "3c7ac042-4753-4dc8-868f-1ff163804e1c",
   "metadata": {
    "tags": []
   },
   "outputs": [
    {
     "data": {
      "text/html": [
       "<div>\n",
       "<style scoped>\n",
       "    .dataframe tbody tr th:only-of-type {\n",
       "        vertical-align: middle;\n",
       "    }\n",
       "\n",
       "    .dataframe tbody tr th {\n",
       "        vertical-align: top;\n",
       "    }\n",
       "\n",
       "    .dataframe thead th {\n",
       "        text-align: right;\n",
       "    }\n",
       "</style>\n",
       "<table border=\"1\" class=\"dataframe\">\n",
       "  <thead>\n",
       "    <tr style=\"text-align: right;\">\n",
       "      <th></th>\n",
       "      <th>Пол</th>\n",
       "      <th>Возраст</th>\n",
       "      <th>Зарплата</th>\n",
       "      <th>Члены семьи</th>\n",
       "      <th>Страховые выплаты</th>\n",
       "    </tr>\n",
       "  </thead>\n",
       "  <tbody>\n",
       "    <tr>\n",
       "      <th>1239</th>\n",
       "      <td>1</td>\n",
       "      <td>24.0</td>\n",
       "      <td>33300.0</td>\n",
       "      <td>2</td>\n",
       "      <td>0</td>\n",
       "    </tr>\n",
       "    <tr>\n",
       "      <th>4808</th>\n",
       "      <td>0</td>\n",
       "      <td>23.0</td>\n",
       "      <td>50900.0</td>\n",
       "      <td>0</td>\n",
       "      <td>0</td>\n",
       "    </tr>\n",
       "    <tr>\n",
       "      <th>3109</th>\n",
       "      <td>0</td>\n",
       "      <td>35.0</td>\n",
       "      <td>48800.0</td>\n",
       "      <td>0</td>\n",
       "      <td>0</td>\n",
       "    </tr>\n",
       "    <tr>\n",
       "      <th>3099</th>\n",
       "      <td>1</td>\n",
       "      <td>34.0</td>\n",
       "      <td>53100.0</td>\n",
       "      <td>0</td>\n",
       "      <td>0</td>\n",
       "    </tr>\n",
       "    <tr>\n",
       "      <th>1477</th>\n",
       "      <td>0</td>\n",
       "      <td>20.0</td>\n",
       "      <td>33100.0</td>\n",
       "      <td>2</td>\n",
       "      <td>0</td>\n",
       "    </tr>\n",
       "    <tr>\n",
       "      <th>4474</th>\n",
       "      <td>0</td>\n",
       "      <td>41.0</td>\n",
       "      <td>46000.0</td>\n",
       "      <td>1</td>\n",
       "      <td>0</td>\n",
       "    </tr>\n",
       "    <tr>\n",
       "      <th>796</th>\n",
       "      <td>1</td>\n",
       "      <td>36.0</td>\n",
       "      <td>32300.0</td>\n",
       "      <td>2</td>\n",
       "      <td>0</td>\n",
       "    </tr>\n",
       "    <tr>\n",
       "      <th>3013</th>\n",
       "      <td>0</td>\n",
       "      <td>19.0</td>\n",
       "      <td>53500.0</td>\n",
       "      <td>2</td>\n",
       "      <td>0</td>\n",
       "    </tr>\n",
       "    <tr>\n",
       "      <th>2986</th>\n",
       "      <td>1</td>\n",
       "      <td>33.0</td>\n",
       "      <td>40200.0</td>\n",
       "      <td>1</td>\n",
       "      <td>0</td>\n",
       "    </tr>\n",
       "    <tr>\n",
       "      <th>791</th>\n",
       "      <td>1</td>\n",
       "      <td>34.0</td>\n",
       "      <td>31700.0</td>\n",
       "      <td>2</td>\n",
       "      <td>0</td>\n",
       "    </tr>\n",
       "  </tbody>\n",
       "</table>\n",
       "</div>"
      ],
      "text/plain": [
       "      Пол  Возраст  Зарплата  Члены семьи  Страховые выплаты\n",
       "1239    1     24.0   33300.0            2                  0\n",
       "4808    0     23.0   50900.0            0                  0\n",
       "3109    0     35.0   48800.0            0                  0\n",
       "3099    1     34.0   53100.0            0                  0\n",
       "1477    0     20.0   33100.0            2                  0\n",
       "4474    0     41.0   46000.0            1                  0\n",
       "796     1     36.0   32300.0            2                  0\n",
       "3013    0     19.0   53500.0            2                  0\n",
       "2986    1     33.0   40200.0            1                  0\n",
       "791     1     34.0   31700.0            2                  0"
      ]
     },
     "execution_count": 3,
     "metadata": {},
     "output_type": "execute_result"
    }
   ],
   "source": [
    "df.sample(10)"
   ]
  },
  {
   "cell_type": "code",
   "execution_count": 4,
   "id": "25eec3c6-4734-4417-b1a4-089453b8d60e",
   "metadata": {
    "tags": []
   },
   "outputs": [
    {
     "name": "stdout",
     "output_type": "stream",
     "text": [
      "---------------------------------Пол-----------------------------------------\n",
      "   Пол  size\n",
      "0    0  2505\n",
      "1    1  2495\n",
      "---------------------------------Возраст-----------------------------------------\n",
      "    Возраст  size\n",
      "0      18.0   117\n",
      "1      19.0   223\n",
      "2      20.0   195\n",
      "3      21.0   200\n",
      "4      22.0   209\n",
      "5      23.0   202\n",
      "6      24.0   182\n",
      "7      25.0   214\n",
      "8      26.0   211\n",
      "9      27.0   209\n",
      "10     28.0   204\n",
      "11     29.0   203\n",
      "12     30.0   202\n",
      "13     31.0   212\n",
      "14     32.0   206\n",
      "15     33.0   191\n",
      "16     34.0   177\n",
      "17     35.0   179\n",
      "18     36.0   193\n",
      "19     37.0   147\n",
      "20     38.0   139\n",
      "21     39.0   141\n",
      "22     40.0   114\n",
      "23     41.0   129\n",
      "24     42.0    93\n",
      "25     43.0    77\n",
      "26     44.0    74\n",
      "27     45.0    73\n",
      "28     46.0    60\n",
      "29     47.0    47\n",
      "30     48.0    26\n",
      "31     49.0    37\n",
      "32     50.0    27\n",
      "33     51.0    21\n",
      "34     52.0    22\n",
      "35     53.0    11\n",
      "36     54.0     7\n",
      "37     55.0     9\n",
      "38     56.0     5\n",
      "39     57.0     2\n",
      "40     58.0     2\n",
      "41     59.0     3\n",
      "42     60.0     2\n",
      "43     61.0     1\n",
      "44     62.0     1\n",
      "45     65.0     1\n",
      "---------------------------------Зарплата-----------------------------------------\n",
      "     Зарплата  size\n",
      "0      5300.0     1\n",
      "1      6000.0     1\n",
      "2      7400.0     1\n",
      "3      8900.0     1\n",
      "4      9800.0     1\n",
      "..        ...   ...\n",
      "519   71400.0     1\n",
      "520   71600.0     1\n",
      "521   74800.0     1\n",
      "522   75200.0     1\n",
      "523   79000.0     1\n",
      "\n",
      "[524 rows x 2 columns]\n",
      "---------------------------------Члены семьи-----------------------------------------\n",
      "   Члены семьи  size\n",
      "0            0  1513\n",
      "1            1  1814\n",
      "2            2  1071\n",
      "3            3   439\n",
      "4            4   124\n",
      "5            5    32\n",
      "6            6     7\n",
      "---------------------------------Страховые выплаты-----------------------------------------\n",
      "   Страховые выплаты  size\n",
      "0                  0  4436\n",
      "1                  1   423\n",
      "2                  2   115\n",
      "3                  3    18\n",
      "4                  4     7\n",
      "5                  5     1\n"
     ]
    }
   ],
   "source": [
    "# посмотрим более детально на то, какие данные содержатся в каждом из столбцов данных\n",
    "for col in df.columns:\n",
    "    if not \"sales\" in col:\n",
    "        print('---------------------------------'+col+'-----------------------------------------')\n",
    "\n",
    "        print(df.groupby([col], dropna=False, as_index=False).size())"
   ]
  },
  {
   "cell_type": "code",
   "execution_count": 5,
   "id": "78c3439b-c66b-407b-a133-0fed5eb2cc65",
   "metadata": {},
   "outputs": [
    {
     "name": "stdout",
     "output_type": "stream",
     "text": [
      "<class 'pandas.core.frame.DataFrame'>\n",
      "RangeIndex: 5000 entries, 0 to 4999\n",
      "Data columns (total 5 columns):\n",
      " #   Column             Non-Null Count  Dtype  \n",
      "---  ------             --------------  -----  \n",
      " 0   Пол                5000 non-null   int64  \n",
      " 1   Возраст            5000 non-null   float64\n",
      " 2   Зарплата           5000 non-null   float64\n",
      " 3   Члены семьи        5000 non-null   int64  \n",
      " 4   Страховые выплаты  5000 non-null   int64  \n",
      "dtypes: float64(2), int64(3)\n",
      "memory usage: 195.4 KB\n"
     ]
    }
   ],
   "source": [
    "df.info()"
   ]
  },
  {
   "cell_type": "code",
   "execution_count": 6,
   "id": "34fae1db-f9da-49e6-ba20-fc31fca1f165",
   "metadata": {},
   "outputs": [
    {
     "data": {
      "text/plain": [
       "(5000, 4)"
      ]
     },
     "execution_count": 6,
     "metadata": {},
     "output_type": "execute_result"
    }
   ],
   "source": [
    "features = df.drop('Страховые выплаты',axis = 1).values\n",
    "target = df['Страховые выплаты']\n",
    "features.shape"
   ]
  },
  {
   "cell_type": "markdown",
   "id": "102c8f23-ecd1-46db-9093-3e633afa5ebc",
   "metadata": {},
   "source": [
    "## Алгоритм преобразования"
   ]
  },
  {
   "cell_type": "markdown",
   "id": "9a7f7bb2-8c9f-489e-960b-68c1734b560a",
   "metadata": {},
   "source": [
    "    Предложите алгоритм преобразования данных для решения задачи. Обоснуйте, почему качество линейной регрессии не поменяется."
   ]
  },
  {
   "cell_type": "markdown",
   "id": "aa06b28e-8494-4bf0-be01-f6f2056515e5",
   "metadata": {},
   "source": [
    "Для преобразования данных используем умножение исходных данных на произвольную обратимую матрицу:"
   ]
  },
  {
   "cell_type": "code",
   "execution_count": 7,
   "id": "fd983e83-6aca-4371-9c9f-1658373f76df",
   "metadata": {},
   "outputs": [],
   "source": [
    "def X_modified(X, X_test, seed):\n",
    "    try:\n",
    "        state = np.random.RandomState(seed=seed)\n",
    "        rand_matrix = state.normal(size=(X.shape[1], X.shape[1])) # Квадратная матрица P\n",
    "        inv = np.linalg.inv(rand_matrix) # Проверка на обратимость\n",
    "        x_modified = X @ rand_matrix # Умножаем признаки на обратимую матрицу\n",
    "        x_test_modified = X_test @ rand_matrix\n",
    "        return x_modified, inv, x_test_modified\n",
    "    except np.linalg.LinAlgError:\n",
    "        X_modified(X, X_test, seed) # Если возникла ошибка, заново запускаем нашу функцию\n",
    "        \n"
   ]
  },
  {
   "cell_type": "code",
   "execution_count": 8,
   "id": "2a396b2a-7020-4245-a97a-66b9c27e0c76",
   "metadata": {},
   "outputs": [],
   "source": [
    "results=[]"
   ]
  },
  {
   "cell_type": "markdown",
   "id": "075db2b7-e04d-4eff-9957-bd0599b7fb9e",
   "metadata": {},
   "source": [
    "## Проверка алгоритма"
   ]
  },
  {
   "cell_type": "markdown",
   "id": "7e8995a7-4606-46fe-ac57-f55938106494",
   "metadata": {},
   "source": [
    "    Запрограммируйте этот алгоритм, применив матричные операции. Проверьте, что качество линейной регрессии из sklearn не отличается до и после преобразования. Примените метрику R2."
   ]
  },
  {
   "cell_type": "code",
   "execution_count": 9,
   "id": "a58601bd-7ba4-4d44-b001-e6d0731233bd",
   "metadata": {},
   "outputs": [],
   "source": [
    "def get_r2_linear(train_features,test_features,train_target, test_target):\n",
    "    reg = LinearRegression().fit(train_features, train_target)\n",
    "    predicts = reg.predict(test_features)\n",
    "    print(\"r2_score( test_target, predicts)=\",r2_score(test_target, predicts))"
   ]
  },
  {
   "cell_type": "markdown",
   "id": "9a7a17fc-3c8a-4c19-8cea-30910bef1d40",
   "metadata": {},
   "source": [
    "Определим коэффициент детерминации на исходных данных:"
   ]
  },
  {
   "cell_type": "code",
   "execution_count": 10,
   "id": "e64eab74-1a5a-42e0-a0e7-9087da957379",
   "metadata": {},
   "outputs": [],
   "source": [
    "features_train, features_test, target_train, target_test = train_test_split(\n",
    "   features, target, test_size=0.20, random_state=12345)\n"
   ]
  },
  {
   "cell_type": "code",
   "execution_count": 11,
   "id": "c16253fd-fb07-43cb-9c1b-fe78ff818381",
   "metadata": {},
   "outputs": [
    {
     "name": "stdout",
     "output_type": "stream",
     "text": [
      "r2_score( test_target, predicts)= 0.41176839567705226\n"
     ]
    }
   ],
   "source": [
    "get_r2_linear(features_train, features_test, target_train, target_test)"
   ]
  },
  {
   "cell_type": "markdown",
   "id": "f7940a4d-90b2-4a28-8020-2ce188110c22",
   "metadata": {
    "jupyter": {
     "outputs_hidden": true
    },
    "tags": []
   },
   "source": [
    "Подготовим данные для расчета R2 после преобразования:"
   ]
  },
  {
   "cell_type": "code",
   "execution_count": 12,
   "id": "74906b8b-f6d9-4f97-be47-e389b57900c7",
   "metadata": {},
   "outputs": [],
   "source": [
    "features_new, inv_P,features_new_test = X_modified(features_train,features_test, 12345)"
   ]
  },
  {
   "cell_type": "code",
   "execution_count": 13,
   "id": "b8314022-71df-4d26-bb3d-007274cb4c96",
   "metadata": {},
   "outputs": [
    {
     "name": "stdout",
     "output_type": "stream",
     "text": [
      "r2_score( test_target, predicts)= 0.4117683956770183\n"
     ]
    }
   ],
   "source": [
    "get_r2_linear(features_new, features_new_test, target_train, target_test)\n"
   ]
  },
  {
   "cell_type": "code",
   "execution_count": 14,
   "id": "d6eebd56-d49f-450d-b740-324df026ebe4",
   "metadata": {},
   "outputs": [
    {
     "data": {
      "text/plain": [
       "array([[0.00e+00, 2.00e+01, 3.98e+04, 2.00e+00],\n",
       "       [1.00e+00, 4.00e+01, 3.42e+04, 0.00e+00],\n",
       "       [1.00e+00, 4.50e+01, 5.08e+04, 1.00e+00],\n",
       "       ...,\n",
       "       [1.00e+00, 4.10e+01, 4.47e+04, 1.00e+00],\n",
       "       [0.00e+00, 2.20e+01, 5.01e+04, 4.00e+00],\n",
       "       [0.00e+00, 1.90e+01, 4.08e+04, 0.00e+00]])"
      ]
     },
     "execution_count": 14,
     "metadata": {},
     "output_type": "execute_result"
    }
   ],
   "source": [
    "features_train"
   ]
  },
  {
   "cell_type": "code",
   "execution_count": 15,
   "id": "47890e7e-d8aa-4091-ae20-215a7f5ab1b7",
   "metadata": {},
   "outputs": [
    {
     "data": {
      "text/plain": [
       "array([[ 30646.96378567,  49636.42845059,  40090.70042301,\n",
       "        -51582.19236093],\n",
       "       [ 26378.99832757,  42684.28316107,  34449.07290569,\n",
       "        -44320.04781583],\n",
       "       [ 39154.87684442,  63382.29572712,  51170.23369779,\n",
       "        -65835.02306699],\n",
       "       ...,\n",
       "       [ 34455.9760597 ,  55773.47021184,  45026.00698503,\n",
       "        -57929.20128602],\n",
       "       [ 38572.37777648,  62477.95087279,  50467.64245554,\n",
       "        -64930.9334338 ],\n",
       "       [ 31413.47058944,  50881.01195539,  41095.09103904,\n",
       "        -52880.46807488]])"
      ]
     },
     "execution_count": 15,
     "metadata": {},
     "output_type": "execute_result"
    }
   ],
   "source": [
    "features_new"
   ]
  },
  {
   "cell_type": "markdown",
   "id": "9a27834f-cee2-41ce-9dfa-7a65eaa965ca",
   "metadata": {},
   "source": [
    "Функция детерменации для исходного и преобразованного датасета совпадает до 11 знака. Следовательно, данный метод можно использовать при защите данных, качество машинного обучения и предсказания от этого не изменится."
   ]
  }
 ],
 "metadata": {
  "kernelspec": {
   "display_name": "base",
   "language": "python",
   "name": "base"
  },
  "language_info": {
   "codemirror_mode": {
    "name": "ipython",
    "version": 3
   },
   "file_extension": ".py",
   "mimetype": "text/x-python",
   "name": "python",
   "nbconvert_exporter": "python",
   "pygments_lexer": "ipython3",
   "version": "3.8.8"
  },
  "toc": {
   "base_numbering": 1,
   "nav_menu": {},
   "number_sections": true,
   "sideBar": true,
   "skip_h1_title": false,
   "title_cell": "Table of Contents",
   "title_sidebar": "Contents",
   "toc_cell": false,
   "toc_position": {},
   "toc_section_display": true,
   "toc_window_display": false
  }
 },
 "nbformat": 4,
 "nbformat_minor": 5
}