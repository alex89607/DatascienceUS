{
 "cells": [
  {
   "cell_type": "markdown",
   "id": "94a4f29a",
   "metadata": {},
   "source": [
    "# Цель проекта"
   ]
  },
  {
   "cell_type": "markdown",
   "id": "93506ae5",
   "metadata": {
    "jupyter": {
     "outputs_hidden": true
    }
   },
   "source": [
    "Подготовьте прототип модели машинного обучения для «Цифры». Компания разрабатывает решения для эффективной работы промышленных предприятий.\n",
    "Модель должна предсказать коэффициент восстановления золота из золотосодержащей руды. В вашем распоряжении данные с параметрами добычи и очистки.\n",
    "Модель поможет оптимизировать производство, чтобы не запускать предприятие с убыточными характеристиками."
   ]
  },
  {
   "cell_type": "markdown",
   "id": "86a9dc65",
   "metadata": {},
   "source": [
    "# 1. Подготовьте данные\n",
    "## 1.1. Откройте файлы и изучите их.\n",
    "Путь к файлам:\n",
    "\n",
    "    /datasets/gold_recovery_train_new.csv. Скачать датасет\n",
    "    /datasets/gold_recovery_test_new.csv. Скачать датасет\n",
    "    /datasets/gold_recovery_full_new.csv. Скачать датасет"
   ]
  },
  {
   "cell_type": "markdown",
   "id": "18eabb3a",
   "metadata": {},
   "source": [
    "импортируем библиотеки "
   ]
  },
  {
   "cell_type": "code",
   "execution_count": 223,
   "id": "c1f99611",
   "metadata": {
    "tags": []
   },
   "outputs": [],
   "source": [
    "# \n",
    "from IPython.display import display\n",
    "from random import randint\n",
    "from sklearn.ensemble import RandomForestRegressor\n",
    "from sklearn.linear_model import LogisticRegression\n",
    "from sklearn.linear_model import LinearRegression\n",
    "from sklearn.model_selection import cross_val_score\n",
    "from sklearn.metrics import mean_squared_error, mean_absolute_error, accuracy_score, make_scorer, precision_score, recall_score\n",
    "from sklearn.model_selection import GridSearchCV\n",
    "from sklearn.model_selection import train_test_split\n",
    "from sklearn.preprocessing import StandardScaler \n",
    "from sklearn.tree import DecisionTreeRegressor\n",
    "from matplotlib.pyplot import figure\n",
    "import numpy \n",
    "from matplotlib import pyplot\n",
    "import numpy as np\n",
    "import os\n",
    "import pandas as pd\n",
    "\n",
    "pd.options.display.max_columns = None"
   ]
  },
  {
   "cell_type": "markdown",
   "id": "faa6fafb",
   "metadata": {},
   "source": [
    "импортируем данные"
   ]
  },
  {
   "cell_type": "code",
   "execution_count": 224,
   "id": "6dd7c116",
   "metadata": {},
   "outputs": [],
   "source": [
    "#\n",
    "sources = {}\n",
    "filelist=['gold_recovery_train_new',\n",
    "'gold_recovery_full_new',\n",
    "'gold_recovery_test_new']\n",
    "\n",
    "for f in filelist:\n",
    "    pth12 = '/datasets/'+f+'.csv'\n",
    "    pth11 =f+'.csv'\n",
    "\n",
    "    if os.path.exists(pth12):\n",
    "        sources[f] = pd.read_csv(pth12)\n",
    "    elif os.path.exists(pth11):\n",
    "        sources[f] = pd.read_csv(pth11)\n",
    "    else:\n",
    "        print('Something is wrong')"
   ]
  },
  {
   "cell_type": "markdown",
   "id": "f5635529",
   "metadata": {},
   "source": [
    "## 1.2. Проверьте, что эффективность обогащения рассчитана правильно."
   ]
  },
  {
   "cell_type": "markdown",
   "id": "f575a26e",
   "metadata": {},
   "source": [
    "###  Вычислите её на обучающей выборке для признака rougher.output.recovery. "
   ]
  },
  {
   "cell_type": "code",
   "execution_count": 225,
   "id": "3572b929",
   "metadata": {
    "tags": []
   },
   "outputs": [
    {
     "name": "stdout",
     "output_type": "stream",
     "text": [
      "gold_recovery_train_new\n",
      "gold_recovery_full_new\n",
      "gold_recovery_test_new\n"
     ]
    }
   ],
   "source": [
    "for f in filelist:\n",
    "    print(f)\n"
   ]
  },
  {
   "cell_type": "markdown",
   "id": "5b1564e2",
   "metadata": {},
   "source": [
    "\n",
    "\n"
   ]
  },
  {
   "cell_type": "code",
   "execution_count": 226,
   "id": "d9623acc",
   "metadata": {},
   "outputs": [],
   "source": [
    "def get_recovery(name_column, df, C,F,T): \n",
    "    \n",
    "    #     C — доля золота в концентрате после флотации/очистки;\n",
    "    #     F — доля золота в сырье/концентрате до флотации/очистки;\n",
    "    #     T — доля золота в отвальных хвостах после флотации/очистки.\n",
    "    C = df[C]\n",
    "    F = df[F]\n",
    "    T = df[T]\n",
    "    df[name_column] = C * ( F - T) / ( F * ( C - T )) * 100\n",
    "\n",
    "    return df[name_column].mean()"
   ]
  },
  {
   "cell_type": "code",
   "execution_count": 227,
   "id": "9564ebb8",
   "metadata": {},
   "outputs": [
    {
     "data": {
      "text/html": [
       "<div>\n",
       "<style scoped>\n",
       "    .dataframe tbody tr th:only-of-type {\n",
       "        vertical-align: middle;\n",
       "    }\n",
       "\n",
       "    .dataframe tbody tr th {\n",
       "        vertical-align: top;\n",
       "    }\n",
       "\n",
       "    .dataframe thead th {\n",
       "        text-align: right;\n",
       "    }\n",
       "</style>\n",
       "<table border=\"1\" class=\"dataframe\">\n",
       "  <thead>\n",
       "    <tr style=\"text-align: right;\">\n",
       "      <th></th>\n",
       "      <th>rougher.output.recovery</th>\n",
       "      <th>rougher.calculation.recovery</th>\n",
       "    </tr>\n",
       "  </thead>\n",
       "  <tbody>\n",
       "    <tr>\n",
       "      <th>7752</th>\n",
       "      <td>81.540847</td>\n",
       "      <td>81.540847</td>\n",
       "    </tr>\n",
       "    <tr>\n",
       "      <th>13559</th>\n",
       "      <td>88.426149</td>\n",
       "      <td>88.426149</td>\n",
       "    </tr>\n",
       "    <tr>\n",
       "      <th>6602</th>\n",
       "      <td>85.701502</td>\n",
       "      <td>85.701502</td>\n",
       "    </tr>\n",
       "    <tr>\n",
       "      <th>1039</th>\n",
       "      <td>79.751839</td>\n",
       "      <td>79.751839</td>\n",
       "    </tr>\n",
       "    <tr>\n",
       "      <th>8652</th>\n",
       "      <td>60.769985</td>\n",
       "      <td>60.769985</td>\n",
       "    </tr>\n",
       "  </tbody>\n",
       "</table>\n",
       "</div>"
      ],
      "text/plain": [
       "       rougher.output.recovery  rougher.calculation.recovery\n",
       "7752                 81.540847                     81.540847\n",
       "13559                88.426149                     88.426149\n",
       "6602                 85.701502                     85.701502\n",
       "1039                 79.751839                     79.751839\n",
       "8652                 60.769985                     60.769985"
      ]
     },
     "metadata": {},
     "output_type": "display_data"
    }
   ],
   "source": [
    "df =  sources['gold_recovery_train_new']\n",
    "\n",
    "#флотация\n",
    "Cp1 = 'rougher.output.concentrate_au'# C — доля золота в концентрате после флотации/очистки;\n",
    "Fp1 = 'rougher.input.feed_au'# F — доля золота в сырье/концентрате до флотации/очистки;\n",
    "Tp1 = 'rougher.output.tail_au'# T — доля золота в отвальных хвостах после флотации/очистки.\n",
    "\n",
    "Rt1 = 'rougher.output.recovery'\n",
    "Rc1 = 'rougher.calculation.recovery'\n",
    "\n",
    "get_recovery(Rc1,df,Cp1,Fp1,Tp1)\n",
    "\n",
    "display(df[[Rt1,Rc1]].sample(5))\n"
   ]
  },
  {
   "cell_type": "markdown",
   "id": "fce42036",
   "metadata": {},
   "source": [
    "### Найдите MAE между вашими расчётами и значением признака. "
   ]
  },
  {
   "cell_type": "code",
   "execution_count": 228,
   "id": "15ec5f64",
   "metadata": {},
   "outputs": [
    {
     "data": {
      "text/plain": [
       "'mean_absolute_error: 9.73512347450521e-15'"
      ]
     },
     "metadata": {},
     "output_type": "display_data"
    }
   ],
   "source": [
    "display('mean_absolute_error: '+ str(mean_absolute_error(df[Rt1], df[Rc1])))"
   ]
  },
  {
   "cell_type": "markdown",
   "id": "9bf8af06",
   "metadata": {},
   "source": [
    "### Опишите выводы."
   ]
  },
  {
   "cell_type": "markdown",
   "id": "1ea45b90",
   "metadata": {},
   "source": [
    "Есть небольшая погрешность в расчете. "
   ]
  },
  {
   "cell_type": "markdown",
   "id": "c12e403d",
   "metadata": {},
   "source": [
    "## 1.3. Проанализируйте признаки, недоступные в тестовой выборке. Что это за параметры? К какому типу относятся?"
   ]
  },
  {
   "cell_type": "markdown",
   "id": "ef07e415",
   "metadata": {},
   "source": [
    "Сравним списки столбцов в предоставленных данных:"
   ]
  },
  {
   "cell_type": "code",
   "execution_count": 229,
   "id": "7056f9d0",
   "metadata": {
    "tags": []
   },
   "outputs": [],
   "source": [
    "diff_train_test = sources['gold_recovery_train_new'].columns.difference(sources['gold_recovery_test_new'].columns)\n"
   ]
  },
  {
   "cell_type": "code",
   "execution_count": 230,
   "id": "291d44b3",
   "metadata": {
    "tags": []
   },
   "outputs": [
    {
     "data": {
      "text/plain": [
       "Index(['final.output.concentrate_ag', 'final.output.concentrate_au',\n",
       "       'final.output.concentrate_pb', 'final.output.concentrate_sol',\n",
       "       'final.output.recovery', 'final.output.tail_ag', 'final.output.tail_au',\n",
       "       'final.output.tail_pb', 'final.output.tail_sol',\n",
       "       'primary_cleaner.output.concentrate_ag',\n",
       "       'primary_cleaner.output.concentrate_au',\n",
       "       'primary_cleaner.output.concentrate_pb',\n",
       "       'primary_cleaner.output.concentrate_sol',\n",
       "       'primary_cleaner.output.tail_ag', 'primary_cleaner.output.tail_au',\n",
       "       'primary_cleaner.output.tail_pb', 'primary_cleaner.output.tail_sol',\n",
       "       'rougher.calculation.au_pb_ratio',\n",
       "       'rougher.calculation.floatbank10_sulfate_to_au_feed',\n",
       "       'rougher.calculation.floatbank11_sulfate_to_au_feed',\n",
       "       'rougher.calculation.sulfate_to_au_concentrate',\n",
       "       'rougher.output.concentrate_ag', 'rougher.output.concentrate_au',\n",
       "       'rougher.output.concentrate_pb', 'rougher.output.concentrate_sol',\n",
       "       'rougher.output.recovery', 'rougher.output.tail_ag',\n",
       "       'rougher.output.tail_au', 'rougher.output.tail_pb',\n",
       "       'rougher.output.tail_sol', 'secondary_cleaner.output.tail_ag',\n",
       "       'secondary_cleaner.output.tail_au', 'secondary_cleaner.output.tail_pb',\n",
       "       'secondary_cleaner.output.tail_sol'],\n",
       "      dtype='object')"
      ]
     },
     "metadata": {},
     "output_type": "display_data"
    }
   ],
   "source": [
    "diff_full_test =  sources['gold_recovery_full_new'].columns.difference(sources['gold_recovery_test_new'].columns)\n",
    "display(diff_full_test)"
   ]
  },
  {
   "cell_type": "code",
   "execution_count": 231,
   "id": "f01c5468",
   "metadata": {},
   "outputs": [
    {
     "data": {
      "text/plain": [
       "Index(['rougher.calculation.recovery'], dtype='object')"
      ]
     },
     "execution_count": 231,
     "metadata": {},
     "output_type": "execute_result"
    }
   ],
   "source": [
    "diff_train_test.difference(diff_full_test)"
   ]
  },
  {
   "cell_type": "markdown",
   "id": "c982d83c",
   "metadata": {},
   "source": [
    "Данные недоступные в тестовой выборке:\n",
    "    - концентрации параметры продукта всех этапов, а именно, содержание Au Ag Pb во каждом из этапов, кроме исходного сырья"
   ]
  },
  {
   "cell_type": "markdown",
   "id": "0be59089",
   "metadata": {},
   "source": [
    "## 1.4. Проведите предобработку данных."
   ]
  },
  {
   "cell_type": "markdown",
   "id": "ed5a1216",
   "metadata": {},
   "source": [
    "Посмотрим на пропуски по столбцам, по процентам:"
   ]
  },
  {
   "cell_type": "code",
   "execution_count": 232,
   "id": "28ad7c10",
   "metadata": {
    "tags": []
   },
   "outputs": [],
   "source": [
    "def check_empty():\n",
    "    for fl in filelist:\n",
    "        df = sources[fl]\n",
    "        ov_len = len(df)\n",
    "        df.rename(columns = {key:key.lower() for (key) in df.columns}, inplace=True)\n",
    "        for clm in df.columns:\n",
    "            empty = df[clm].isnull().sum()\n",
    "            empty_perc = empty *100 /ov_len\n",
    "            if empty and empty > 0 and round(empty_perc) > 0:\n",
    "                display(' '+fl+' '+clm+' '+str(empty)+' empty_perc::'+str(round(empty_perc)))"
   ]
  },
  {
   "cell_type": "code",
   "execution_count": 233,
   "id": "8f70a468",
   "metadata": {},
   "outputs": [
    {
     "data": {
      "text/plain": [
       "' gold_recovery_train_new final.output.concentrate_sol 211 empty_perc::1'"
      ]
     },
     "metadata": {},
     "output_type": "display_data"
    },
    {
     "data": {
      "text/plain": [
       "' gold_recovery_train_new final.output.tail_pb 100 empty_perc::1'"
      ]
     },
     "metadata": {},
     "output_type": "display_data"
    },
    {
     "data": {
      "text/plain": [
       "' gold_recovery_train_new primary_cleaner.input.xanthate 100 empty_perc::1'"
      ]
     },
     "metadata": {},
     "output_type": "display_data"
    },
    {
     "data": {
      "text/plain": [
       "' gold_recovery_train_new primary_cleaner.output.concentrate_pb 86 empty_perc::1'"
      ]
     },
     "metadata": {},
     "output_type": "display_data"
    },
    {
     "data": {
      "text/plain": [
       "' gold_recovery_train_new primary_cleaner.output.concentrate_sol 286 empty_perc::2'"
      ]
     },
     "metadata": {},
     "output_type": "display_data"
    },
    {
     "data": {
      "text/plain": [
       "' gold_recovery_train_new rougher.input.feed_pb 100 empty_perc::1'"
      ]
     },
     "metadata": {},
     "output_type": "display_data"
    },
    {
     "data": {
      "text/plain": [
       "' gold_recovery_train_new rougher.input.feed_size 144 empty_perc::1'"
      ]
     },
     "metadata": {},
     "output_type": "display_data"
    },
    {
     "data": {
      "text/plain": [
       "' gold_recovery_train_new rougher.input.feed_sol 78 empty_perc::1'"
      ]
     },
     "metadata": {},
     "output_type": "display_data"
    },
    {
     "data": {
      "text/plain": [
       "' gold_recovery_train_new rougher.input.floatbank11_xanthate 428 empty_perc::3'"
      ]
     },
     "metadata": {},
     "output_type": "display_data"
    },
    {
     "data": {
      "text/plain": [
       "' gold_recovery_train_new rougher.state.floatbank10_e_air 436 empty_perc::3'"
      ]
     },
     "metadata": {},
     "output_type": "display_data"
    },
    {
     "data": {
      "text/plain": [
       "' gold_recovery_train_new secondary_cleaner.output.tail_sol 1605 empty_perc::11'"
      ]
     },
     "metadata": {},
     "output_type": "display_data"
    },
    {
     "data": {
      "text/plain": [
       "' gold_recovery_train_new secondary_cleaner.state.floatbank2_a_air 217 empty_perc::2'"
      ]
     },
     "metadata": {},
     "output_type": "display_data"
    },
    {
     "data": {
      "text/plain": [
       "' gold_recovery_full_new final.output.concentrate_sol 211 empty_perc::1'"
      ]
     },
     "metadata": {},
     "output_type": "display_data"
    },
    {
     "data": {
      "text/plain": [
       "' gold_recovery_full_new final.output.tail_pb 101 empty_perc::1'"
      ]
     },
     "metadata": {},
     "output_type": "display_data"
    },
    {
     "data": {
      "text/plain": [
       "' gold_recovery_full_new primary_cleaner.input.xanthate 104 empty_perc::1'"
      ]
     },
     "metadata": {},
     "output_type": "display_data"
    },
    {
     "data": {
      "text/plain": [
       "' gold_recovery_full_new primary_cleaner.output.concentrate_pb 116 empty_perc::1'"
      ]
     },
     "metadata": {},
     "output_type": "display_data"
    },
    {
     "data": {
      "text/plain": [
       "' gold_recovery_full_new primary_cleaner.output.concentrate_sol 370 empty_perc::2'"
      ]
     },
     "metadata": {},
     "output_type": "display_data"
    },
    {
     "data": {
      "text/plain": [
       "' gold_recovery_full_new rougher.input.feed_pb 100 empty_perc::1'"
      ]
     },
     "metadata": {},
     "output_type": "display_data"
    },
    {
     "data": {
      "text/plain": [
       "' gold_recovery_full_new rougher.input.feed_size 145 empty_perc::1'"
      ]
     },
     "metadata": {},
     "output_type": "display_data"
    },
    {
     "data": {
      "text/plain": [
       "' gold_recovery_full_new rougher.input.feed_sol 99 empty_perc::1'"
      ]
     },
     "metadata": {},
     "output_type": "display_data"
    },
    {
     "data": {
      "text/plain": [
       "' gold_recovery_full_new rougher.input.floatbank11_xanthate 453 empty_perc::2'"
      ]
     },
     "metadata": {},
     "output_type": "display_data"
    },
    {
     "data": {
      "text/plain": [
       "' gold_recovery_full_new rougher.state.floatbank10_e_air 436 empty_perc::2'"
      ]
     },
     "metadata": {},
     "output_type": "display_data"
    },
    {
     "data": {
      "text/plain": [
       "' gold_recovery_full_new secondary_cleaner.output.tail_sol 1748 empty_perc::9'"
      ]
     },
     "metadata": {},
     "output_type": "display_data"
    },
    {
     "data": {
      "text/plain": [
       "' gold_recovery_full_new secondary_cleaner.state.floatbank2_a_air 220 empty_perc::1'"
      ]
     },
     "metadata": {},
     "output_type": "display_data"
    }
   ],
   "source": [
    "check_empty()"
   ]
  },
  {
   "cell_type": "code",
   "execution_count": 234,
   "id": "335cb5e0",
   "metadata": {},
   "outputs": [
    {
     "data": {
      "text/plain": [
       "'gold_recovery_train_new duplicated: 0'"
      ]
     },
     "metadata": {},
     "output_type": "display_data"
    },
    {
     "data": {
      "text/plain": [
       "'gold_recovery_full_new duplicated: 0'"
      ]
     },
     "metadata": {},
     "output_type": "display_data"
    },
    {
     "data": {
      "text/plain": [
       "'gold_recovery_test_new duplicated: 0'"
      ]
     },
     "metadata": {},
     "output_type": "display_data"
    }
   ],
   "source": [
    "for fl in filelist:\n",
    "    df = sources[fl]\n",
    "    display(fl+' duplicated: '+str(df.duplicated().sum()))"
   ]
  },
  {
   "cell_type": "markdown",
   "id": "2bbd1723",
   "metadata": {},
   "source": [
    "Вывод: в наличие пропуски по многим столбцам, но само количество пропусков не более 11%. Оставляем как есть пока."
   ]
  },
  {
   "cell_type": "markdown",
   "id": "26119a37",
   "metadata": {},
   "source": [
    "## 2. Проанализируйте данные"
   ]
  },
  {
   "cell_type": "markdown",
   "id": "d4ffc262",
   "metadata": {},
   "source": [
    "Уберем пропуски заменив их на среднее значение по соседним значеням, как сказано в задании.\n",
    "Посмотрим на пропуск и соседние данные:"
   ]
  },
  {
   "cell_type": "code",
   "execution_count": 235,
   "id": "81302e1a",
   "metadata": {},
   "outputs": [],
   "source": [
    "columns_to_fill_nan=['final.output.concentrate_sol',\n",
    "'final.output.tail_pb',\n",
    "'primary_cleaner.input.xanthate',\n",
    "'primary_cleaner.output.concentrate_pb',\n",
    "'primary_cleaner.output.concentrate_sol',\n",
    "'rougher.input.feed_pb',\n",
    "'rougher.input.feed_size',\n",
    "'rougher.input.feed_sol',\n",
    "'rougher.input.floatbank11_xanthate',\n",
    "'rougher.state.floatbank10_e_air',\n",
    "'secondary_cleaner.output.tail_sol',\n",
    "'secondary_cleaner.state.floatbank2_a_air']"
   ]
  },
  {
   "cell_type": "code",
   "execution_count": 236,
   "id": "1ccf37a3",
   "metadata": {},
   "outputs": [],
   "source": [
    "sources['gold_recovery_train_new'][columns_to_fill_nan]=sources['gold_recovery_train_new'][columns_to_fill_nan].fillna(method ='ffill')"
   ]
  },
  {
   "cell_type": "markdown",
   "id": "672cfa11",
   "metadata": {},
   "source": [
    "## 2.1. Посмотрите, как меняется концентрация металлов (Au, Ag, Pb) на различных этапах очистки. Опишите выводы."
   ]
  },
  {
   "cell_type": "markdown",
   "id": "8ca5fb95",
   "metadata": {},
   "source": [
    "Посмотрим на временные характеристики:"
   ]
  },
  {
   "cell_type": "code",
   "execution_count": 237,
   "id": "7dac8529",
   "metadata": {},
   "outputs": [
    {
     "data": {
      "text/plain": [
       "'2018-08-18 10:59:59'"
      ]
     },
     "metadata": {},
     "output_type": "display_data"
    },
    {
     "data": {
      "text/plain": [
       "'2016-01-15 00:00:00'"
      ]
     },
     "metadata": {},
     "output_type": "display_data"
    },
    {
     "data": {
      "text/html": [
       "<div>\n",
       "<style scoped>\n",
       "    .dataframe tbody tr th:only-of-type {\n",
       "        vertical-align: middle;\n",
       "    }\n",
       "\n",
       "    .dataframe tbody tr th {\n",
       "        vertical-align: top;\n",
       "    }\n",
       "\n",
       "    .dataframe thead th {\n",
       "        text-align: right;\n",
       "    }\n",
       "</style>\n",
       "<table border=\"1\" class=\"dataframe\">\n",
       "  <thead>\n",
       "    <tr style=\"text-align: right;\">\n",
       "      <th></th>\n",
       "      <th>date</th>\n",
       "      <th>rougher.output.concentrate_au</th>\n",
       "    </tr>\n",
       "  </thead>\n",
       "  <tbody>\n",
       "    <tr>\n",
       "      <th>0</th>\n",
       "      <td>2016-01-15 00:00:00</td>\n",
       "      <td>19.793808</td>\n",
       "    </tr>\n",
       "    <tr>\n",
       "      <th>1</th>\n",
       "      <td>2016-01-15 01:00:00</td>\n",
       "      <td>20.050975</td>\n",
       "    </tr>\n",
       "    <tr>\n",
       "      <th>2</th>\n",
       "      <td>2016-01-15 02:00:00</td>\n",
       "      <td>19.737170</td>\n",
       "    </tr>\n",
       "    <tr>\n",
       "      <th>3</th>\n",
       "      <td>2016-01-15 03:00:00</td>\n",
       "      <td>19.320810</td>\n",
       "    </tr>\n",
       "    <tr>\n",
       "      <th>4</th>\n",
       "      <td>2016-01-15 04:00:00</td>\n",
       "      <td>19.216101</td>\n",
       "    </tr>\n",
       "    <tr>\n",
       "      <th>5</th>\n",
       "      <td>2016-01-15 05:00:00</td>\n",
       "      <td>18.950385</td>\n",
       "    </tr>\n",
       "    <tr>\n",
       "      <th>6</th>\n",
       "      <td>2016-01-15 06:00:00</td>\n",
       "      <td>19.319591</td>\n",
       "    </tr>\n",
       "    <tr>\n",
       "      <th>7</th>\n",
       "      <td>2016-01-15 07:00:00</td>\n",
       "      <td>19.507897</td>\n",
       "    </tr>\n",
       "    <tr>\n",
       "      <th>8</th>\n",
       "      <td>2016-01-15 08:00:00</td>\n",
       "      <td>19.789465</td>\n",
       "    </tr>\n",
       "    <tr>\n",
       "      <th>9</th>\n",
       "      <td>2016-01-15 09:00:00</td>\n",
       "      <td>19.497669</td>\n",
       "    </tr>\n",
       "  </tbody>\n",
       "</table>\n",
       "</div>"
      ],
      "text/plain": [
       "                  date  rougher.output.concentrate_au\n",
       "0  2016-01-15 00:00:00                      19.793808\n",
       "1  2016-01-15 01:00:00                      20.050975\n",
       "2  2016-01-15 02:00:00                      19.737170\n",
       "3  2016-01-15 03:00:00                      19.320810\n",
       "4  2016-01-15 04:00:00                      19.216101\n",
       "5  2016-01-15 05:00:00                      18.950385\n",
       "6  2016-01-15 06:00:00                      19.319591\n",
       "7  2016-01-15 07:00:00                      19.507897\n",
       "8  2016-01-15 08:00:00                      19.789465\n",
       "9  2016-01-15 09:00:00                      19.497669"
      ]
     },
     "metadata": {},
     "output_type": "display_data"
    }
   ],
   "source": [
    "df = sources['gold_recovery_train_new'][['date','rougher.output.concentrate_au']]\n",
    "display(df['date'].max())\n",
    "display(df['date'].min())\n",
    "display(df.head(10))\n"
   ]
  },
  {
   "cell_type": "markdown",
   "id": "51497d95",
   "metadata": {},
   "source": [
    "Может быть стоит посмотреть на наличие зависимости от времени суток.\n"
   ]
  },
  {
   "cell_type": "markdown",
   "id": "e449531e",
   "metadata": {},
   "source": [
    "Но вначале, посмотрим на обычный график."
   ]
  },
  {
   "cell_type": "code",
   "execution_count": 238,
   "id": "a088d678",
   "metadata": {},
   "outputs": [],
   "source": [
    "import itertools\n",
    "\n",
    "\n",
    "def show_param_box(df_name,params_name,disp=True):\n",
    "    bins = 50\n",
    "    figure(figsize=(18, 6), dpi=180)\n",
    "    \n",
    "    labels = []\n",
    "    for param in params_name:\n",
    "        if 'calculation' not in param:\n",
    "            x = sources[df_name][['date',param]].copy()\n",
    "            x['only_date'] = pd.to_datetime(x['date']).dt.date\n",
    "            x = x.pivot_table(index='only_date', aggfunc = 'median')\n",
    "            if disp:\n",
    "                display('param: ',param, x.describe())\n",
    "            label,_=pyplot.plot(x.index,x[param], bins, alpha=0.5, label=param,linewidth=2)#,linestyle = next(linecycler))#marker = next(marker))\n",
    "            labels.append(label)\n",
    "\n",
    "    pyplot.legend(loc = 'upper right',handles=labels)\n",
    "    ax = pyplot.gca()\n",
    "    ax.set_xlim([pd.to_datetime('2016-01-01'), pd.to_datetime('2018-12-31')])\n",
    "\n",
    "    pyplot.show()"
   ]
  },
  {
   "cell_type": "code",
   "execution_count": 239,
   "id": "459ad415",
   "metadata": {},
   "outputs": [],
   "source": [
    "def show_param_at_time(df_name,params_name,disp=False):\n",
    "    bins = 50\n",
    "    \n",
    "    fig, ax = pyplot.subplots()\n",
    "    fig.set_figheight(6)\n",
    "    fig.set_figwidth(15)\n",
    "\n",
    "    labels = []\n",
    "    data=[]\n",
    "    for param in params_name:\n",
    "        if 'calculation' not in param:\n",
    "            x = sources[df_name][['date',param]].copy()\n",
    "            x['only_date'] = pd.to_datetime(x['date']).dt.date\n",
    "            x = x.pivot_table(index='only_date', aggfunc = 'median')\n",
    "            if disp:\n",
    "                display('param: ',param, x.describe())\n",
    "            data.append(x[param])\n",
    "            #labels.append(label)\n",
    "    pyplot.boxplot(data, bins  )#,linestyle = next(linecycler))#marker = next(marker))\n",
    "\n",
    "    if len(data)==len(params_name):\n",
    "        ax.set_xticklabels(params_name)\n",
    "    pyplot.show()\n",
    "    \n",
    "    "
   ]
  },
  {
   "cell_type": "code",
   "execution_count": 240,
   "id": "9bec6240",
   "metadata": {},
   "outputs": [
    {
     "data": {
      "image/png": "[encoded data removed]",
      "text/plain": [
       "<Figure size 1080x432 with 1 Axes>"
      ]
     },
     "metadata": {
      "needs_background": "light"
     },
     "output_type": "display_data"
    }
   ],
   "source": [
    "show_param_at_time('gold_recovery_train_new',['rougher.output.concentrate_au',\n",
    "                                              'primary_cleaner.output.concentrate_au',\n",
    "                                              'final.output.concentrate_au'])"
   ]
  },
  {
   "cell_type": "markdown",
   "id": "a6e06360",
   "metadata": {},
   "source": [
    "Можно сделать вывод, что:\n",
    "- концентрация золота растёт "
   ]
  },
  {
   "cell_type": "code",
   "execution_count": 241,
   "id": "ec009bfe",
   "metadata": {},
   "outputs": [
    {
     "data": {
      "image/png": "[encoded data removed]",
      "text/plain": [
       "<Figure size 1080x432 with 1 Axes>"
      ]
     },
     "metadata": {
      "needs_background": "light"
     },
     "output_type": "display_data"
    }
   ],
   "source": [
    "show_param_at_time('gold_recovery_train_new',['rougher.output.concentrate_ag',\n",
    "                                              'primary_cleaner.output.concentrate_ag',\n",
    "                                              'final.output.concentrate_ag'])"
   ]
  },
  {
   "cell_type": "markdown",
   "id": "dd8ed57e",
   "metadata": {},
   "source": [
    "Можно сделать вывод, что:\n",
    "- концентрация Ag падает"
   ]
  },
  {
   "cell_type": "code",
   "execution_count": 242,
   "id": "3a785efb",
   "metadata": {},
   "outputs": [
    {
     "data": {
      "image/png": "[encoded data removed]",
      "text/plain": [
       "<Figure size 1080x432 with 1 Axes>"
      ]
     },
     "metadata": {
      "needs_background": "light"
     },
     "output_type": "display_data"
    }
   ],
   "source": [
    "show_param_at_time('gold_recovery_train_new',['rougher.output.concentrate_pb',\n",
    "                                              'primary_cleaner.output.concentrate_pb',\n",
    "                                              'final.output.concentrate_pb'])"
   ]
  },
  {
   "cell_type": "markdown",
   "id": "31024917",
   "metadata": {},
   "source": [
    "Можно сделать вывод, что:\n",
    "- концентрация Pb остается приблизительно на одном уровне "
   ]
  },
  {
   "cell_type": "markdown",
   "id": "39eb6f63",
   "metadata": {},
   "source": [
    "## 2.2. Сравните распределения размеров гранул сырья на обучающей и тестовой выборках. Если распределения сильно отличаются друг от друга, оценка модели будет неправильной."
   ]
  },
  {
   "cell_type": "markdown",
   "id": "263dfe58",
   "metadata": {},
   "source": [
    "Сравним размер гранул на гистограмме на входе и на стадии грубой очистки"
   ]
  },
  {
   "cell_type": "markdown",
   "id": "f6c4361e",
   "metadata": {},
   "source": [
    "размер гранул на гистограмме на входе"
   ]
  },
  {
   "cell_type": "code",
   "execution_count": 243,
   "id": "6f434dbb",
   "metadata": {},
   "outputs": [
    {
     "data": {
      "image/png": "[encoded data removed]",
      "text/plain": [
       "<Figure size 432x288 with 1 Axes>"
      ]
     },
     "metadata": {
      "needs_background": "light"
     },
     "output_type": "display_data"
    }
   ],
   "source": [
    "samples_A = sources['gold_recovery_train_new']['primary_cleaner.input.feed_size']\n",
    "samples_B = sources['gold_recovery_test_new']['primary_cleaner.input.feed_size']\n",
    "\n",
    "fig = pyplot.figure()\n",
    "ax = fig.add_subplot(111)\n",
    "_ = ax.hist(samples_A.values, color='green', alpha=.2)\n",
    "_ = ax.hist(samples_B.values, color='red', alpha=.2)\n"
   ]
  },
  {
   "cell_type": "markdown",
   "id": "163b8839",
   "metadata": {},
   "source": [
    "Размер гранул на тренировочной выборке(зеленый цвет) и размер гранул на тестовой выборке(красный) примерно одинаковый."
   ]
  },
  {
   "cell_type": "markdown",
   "id": "b8994ce8",
   "metadata": {},
   "source": [
    "размер гранул на гистограмме  на стадии грубой очистки"
   ]
  },
  {
   "cell_type": "code",
   "execution_count": 244,
   "id": "47dd1f31",
   "metadata": {},
   "outputs": [
    {
     "data": {
      "image/png": "[encoded data removed]",
      "text/plain": [
       "<Figure size 432x288 with 1 Axes>"
      ]
     },
     "metadata": {
      "needs_background": "light"
     },
     "output_type": "display_data"
    }
   ],
   "source": [
    "\n",
    "samples_A = sources['gold_recovery_train_new']['rougher.input.feed_size']\n",
    "samples_B = sources['gold_recovery_test_new']['rougher.input.feed_size']\n",
    "\n",
    "fig = pyplot.figure()\n",
    "ax = fig.add_subplot(111)\n",
    "_ = ax.hist(samples_A.values, color='green', alpha=.2)\n",
    "_ = ax.hist(samples_B.values, color='red', alpha=.2)"
   ]
  },
  {
   "cell_type": "markdown",
   "id": "80ce5d11",
   "metadata": {},
   "source": [
    "Размер гранул на тренировочной выборке(зеленый цвет) и размер гранул на тестовой выборке(красный) примерно одинаковый."
   ]
  },
  {
   "cell_type": "markdown",
   "id": "76234482",
   "metadata": {},
   "source": [
    "## 2.3. Исследуйте суммарную концентрацию всех веществ на разных стадиях: в сырье, в черновом и финальном концентратах."
   ]
  },
  {
   "cell_type": "markdown",
   "id": "b28a3fa7",
   "metadata": {},
   "source": [
    "Возьмем столбы с концентрациями ag, au, pb, sol , после флотации, просуммируем их и посмотрим  боксплот."
   ]
  },
  {
   "cell_type": "code",
   "execution_count": 245,
   "id": "3c92e990",
   "metadata": {
    "scrolled": true
   },
   "outputs": [],
   "source": [
    "#sources['gold_recovery_train_new'].columns\n",
    "sources['gold_recovery_train_new']['rougher.output.concentrate_summary']=sources['gold_recovery_train_new']['rougher.output.concentrate_ag']+sources['gold_recovery_train_new']['rougher.output.concentrate_pb']+sources['gold_recovery_train_new']['rougher.output.concentrate_sol']+sources['gold_recovery_train_new']['rougher.output.concentrate_sol']\n",
    "\n"
   ]
  },
  {
   "cell_type": "code",
   "execution_count": 246,
   "id": "8fdb0b20",
   "metadata": {},
   "outputs": [
    {
     "data": {
      "image/png": "[encoded data removed]",
      "text/plain": [
       "<Figure size 1080x432 with 1 Axes>"
      ]
     },
     "metadata": {
      "needs_background": "light"
     },
     "output_type": "display_data"
    }
   ],
   "source": [
    "show_param_at_time('gold_recovery_train_new',['rougher.output.concentrate_summary'],disp=False)"
   ]
  },
  {
   "cell_type": "markdown",
   "id": "51bd6614",
   "metadata": {},
   "source": [
    "Вывод: концентрация после грубой очистки не превышает 100 %"
   ]
  },
  {
   "cell_type": "markdown",
   "id": "5dd9d631",
   "metadata": {},
   "source": [
    "на входе:"
   ]
  },
  {
   "cell_type": "code",
   "execution_count": 247,
   "id": "fa363aa0",
   "metadata": {
    "scrolled": true
   },
   "outputs": [
    {
     "data": {
      "text/plain": [
       "Index(['date', 'final.output.concentrate_ag', 'final.output.concentrate_pb',\n",
       "       'final.output.concentrate_sol', 'final.output.concentrate_au',\n",
       "       'final.output.recovery', 'final.output.tail_ag', 'final.output.tail_pb',\n",
       "       'final.output.tail_sol', 'final.output.tail_au',\n",
       "       'primary_cleaner.input.sulfate', 'primary_cleaner.input.depressant',\n",
       "       'primary_cleaner.input.feed_size', 'primary_cleaner.input.xanthate',\n",
       "       'primary_cleaner.output.concentrate_ag',\n",
       "       'primary_cleaner.output.concentrate_pb',\n",
       "       'primary_cleaner.output.concentrate_sol',\n",
       "       'primary_cleaner.output.concentrate_au',\n",
       "       'primary_cleaner.output.tail_ag', 'primary_cleaner.output.tail_pb',\n",
       "       'primary_cleaner.output.tail_sol', 'primary_cleaner.output.tail_au',\n",
       "       'primary_cleaner.state.floatbank8_a_air',\n",
       "       'primary_cleaner.state.floatbank8_a_level',\n",
       "       'primary_cleaner.state.floatbank8_b_air',\n",
       "       'primary_cleaner.state.floatbank8_b_level',\n",
       "       'primary_cleaner.state.floatbank8_c_air',\n",
       "       'primary_cleaner.state.floatbank8_c_level',\n",
       "       'primary_cleaner.state.floatbank8_d_air',\n",
       "       'primary_cleaner.state.floatbank8_d_level',\n",
       "       'rougher.calculation.sulfate_to_au_concentrate',\n",
       "       'rougher.calculation.floatbank10_sulfate_to_au_feed',\n",
       "       'rougher.calculation.floatbank11_sulfate_to_au_feed',\n",
       "       'rougher.calculation.au_pb_ratio', 'rougher.input.feed_ag',\n",
       "       'rougher.input.feed_pb', 'rougher.input.feed_rate',\n",
       "       'rougher.input.feed_size', 'rougher.input.feed_sol',\n",
       "       'rougher.input.feed_au', 'rougher.input.floatbank10_sulfate',\n",
       "       'rougher.input.floatbank10_xanthate',\n",
       "       'rougher.input.floatbank11_sulfate',\n",
       "       'rougher.input.floatbank11_xanthate', 'rougher.output.concentrate_ag',\n",
       "       'rougher.output.concentrate_pb', 'rougher.output.concentrate_sol',\n",
       "       'rougher.output.concentrate_au', 'rougher.output.recovery',\n",
       "       'rougher.output.tail_ag', 'rougher.output.tail_pb',\n",
       "       'rougher.output.tail_sol', 'rougher.output.tail_au',\n",
       "       'rougher.state.floatbank10_a_air', 'rougher.state.floatbank10_a_level',\n",
       "       'rougher.state.floatbank10_b_air', 'rougher.state.floatbank10_b_level',\n",
       "       'rougher.state.floatbank10_c_air', 'rougher.state.floatbank10_c_level',\n",
       "       'rougher.state.floatbank10_d_air', 'rougher.state.floatbank10_d_level',\n",
       "       'rougher.state.floatbank10_e_air', 'rougher.state.floatbank10_e_level',\n",
       "       'rougher.state.floatbank10_f_air', 'rougher.state.floatbank10_f_level',\n",
       "       'secondary_cleaner.output.tail_ag', 'secondary_cleaner.output.tail_pb',\n",
       "       'secondary_cleaner.output.tail_sol', 'secondary_cleaner.output.tail_au',\n",
       "       'secondary_cleaner.state.floatbank2_a_air',\n",
       "       'secondary_cleaner.state.floatbank2_a_level',\n",
       "       'secondary_cleaner.state.floatbank2_b_air',\n",
       "       'secondary_cleaner.state.floatbank2_b_level',\n",
       "       'secondary_cleaner.state.floatbank3_a_air',\n",
       "       'secondary_cleaner.state.floatbank3_a_level',\n",
       "       'secondary_cleaner.state.floatbank3_b_air',\n",
       "       'secondary_cleaner.state.floatbank3_b_level',\n",
       "       'secondary_cleaner.state.floatbank4_a_air',\n",
       "       'secondary_cleaner.state.floatbank4_a_level',\n",
       "       'secondary_cleaner.state.floatbank4_b_air',\n",
       "       'secondary_cleaner.state.floatbank4_b_level',\n",
       "       'secondary_cleaner.state.floatbank5_a_air',\n",
       "       'secondary_cleaner.state.floatbank5_a_level',\n",
       "       'secondary_cleaner.state.floatbank5_b_air',\n",
       "       'secondary_cleaner.state.floatbank5_b_level',\n",
       "       'secondary_cleaner.state.floatbank6_a_air',\n",
       "       'secondary_cleaner.state.floatbank6_a_level',\n",
       "       'rougher.calculation.recovery', 'rougher.output.concentrate_summary'],\n",
       "      dtype='object')"
      ]
     },
     "execution_count": 247,
     "metadata": {},
     "output_type": "execute_result"
    }
   ],
   "source": [
    "sources['gold_recovery_train_new'].columns"
   ]
  },
  {
   "cell_type": "code",
   "execution_count": 248,
   "id": "03d5f1c3",
   "metadata": {},
   "outputs": [],
   "source": [
    "\n",
    "sources['gold_recovery_train_new']['rougher.input.concentrate_summary']=\\\n",
    "(sources['gold_recovery_train_new']['rougher.input.feed_ag']\n",
    "+sources['gold_recovery_train_new']['rougher.input.feed_sol']\n",
    "+sources['gold_recovery_train_new']['rougher.input.feed_pb']\n",
    "+sources['gold_recovery_train_new']['rougher.input.feed_au'])\n"
   ]
  },
  {
   "cell_type": "code",
   "execution_count": 249,
   "id": "1b96fd3c",
   "metadata": {},
   "outputs": [
    {
     "data": {
      "image/png": "[encoded data removed]",
      "text/plain": [
       "<Figure size 1080x432 with 1 Axes>"
      ]
     },
     "metadata": {
      "needs_background": "light"
     },
     "output_type": "display_data"
    }
   ],
   "source": [
    "show_param_at_time('gold_recovery_train_new',['rougher.input.concentrate_summary'],disp=False)"
   ]
  },
  {
   "cell_type": "markdown",
   "id": "89040140",
   "metadata": {},
   "source": [
    "Вывод: концентрация веществ на входе не превышает 100 %"
   ]
  },
  {
   "cell_type": "code",
   "execution_count": 250,
   "id": "066969db",
   "metadata": {},
   "outputs": [],
   "source": [
    "\n",
    "sources['gold_recovery_train_new']['final.output.concentrate_summary']=\\\n",
    "(sources['gold_recovery_train_new']['final.output.concentrate_ag']\n",
    "+sources['gold_recovery_train_new']['final.output.concentrate_pb']\n",
    "+sources['gold_recovery_train_new']['final.output.concentrate_sol']\n",
    "+sources['gold_recovery_train_new']['final.output.concentrate_au'])\n"
   ]
  },
  {
   "cell_type": "code",
   "execution_count": 251,
   "id": "a02db587",
   "metadata": {},
   "outputs": [
    {
     "data": {
      "image/png": "[encoded data removed]",
      "text/plain": [
       "<Figure size 1080x432 with 1 Axes>"
      ]
     },
     "metadata": {
      "needs_background": "light"
     },
     "output_type": "display_data"
    }
   ],
   "source": [
    "show_param_at_time('gold_recovery_train_new',['final.output.concentrate_summary'],disp=False)"
   ]
  },
  {
   "cell_type": "markdown",
   "id": "583b42a9",
   "metadata": {},
   "source": [
    "Вывод: концентрация веществ на выходе не превышает 100 %"
   ]
  },
  {
   "cell_type": "markdown",
   "id": "0027d0db",
   "metadata": {},
   "source": [
    "Для наглядности посмотрим все три графика вместе:"
   ]
  },
  {
   "cell_type": "code",
   "execution_count": 252,
   "id": "77dd7444",
   "metadata": {},
   "outputs": [
    {
     "data": {
      "image/png": "[encoded data removed]",
      "text/plain": [
       "<Figure size 1080x432 with 1 Axes>"
      ]
     },
     "metadata": {
      "needs_background": "light"
     },
     "output_type": "display_data"
    }
   ],
   "source": [
    "show_param_at_time('gold_recovery_train_new',['final.output.concentrate_summary','rougher.input.concentrate_summary','rougher.output.concentrate_summary'],disp=False)"
   ]
  },
  {
   "cell_type": "markdown",
   "id": "5564c070",
   "metadata": {},
   "source": [
    "# 3. Постройте модель"
   ]
  },
  {
   "cell_type": "markdown",
   "id": "f056cba9",
   "metadata": {},
   "source": [
    "## 3.1. Напишите функцию для вычисления итоговой sMAPE."
   ]
  },
  {
   "cell_type": "code",
   "execution_count": 253,
   "id": "dbbd5ac5",
   "metadata": {},
   "outputs": [],
   "source": [
    "df =  sources['gold_recovery_full_new'].copy()"
   ]
  },
  {
   "cell_type": "code",
   "execution_count": 254,
   "id": "206da8f3",
   "metadata": {},
   "outputs": [],
   "source": [
    "def get_recovery_col_exc(name_column, df, Cn,Fn,Tn): \n",
    "    df = df.reset_index()  # make sure indexes pair with number of rows\n",
    "    a=df.columns.to_list()\n",
    "    \n",
    "    for index,row in df.iterrows():\n",
    "        C = row.values[a.index(Cn)]\n",
    "        F = row.values[a.index(Fn)]\n",
    "        T = row.values[a.index(Tn)]\n",
    "        try: \n",
    "            df.loc[index,name_column] = C * ( F - T) / ( F * ( C - T )) * 100\n",
    "        except:\n",
    "            display(index, 'error',C,T,F)\n",
    "    return df #df[name_column].mean()\n",
    "        "
   ]
  },
  {
   "cell_type": "markdown",
   "id": "89248a55",
   "metadata": {
    "tags": []
   },
   "source": [
    "\n",
    "\n",
    "\n",
    "\n",
    "\n",
    "\n",
    "\n",
    "\n",
    "### 3.2. Обучите разные модели и оцените их качество кросс-валидацией. Выберите лучшую модель и проверьте её на тестовой выборке. Опишите выводы.\n"
   ]
  },
  {
   "cell_type": "markdown",
   "id": "3ac6dc30",
   "metadata": {},
   "source": [
    "Данные для подготовки функций с моделями. "
   ]
  },
  {
   "cell_type": "code",
   "execution_count": 255,
   "id": "3cbe849e",
   "metadata": {},
   "outputs": [],
   "source": [
    "def prepare_data_rougher(sources):\n",
    "    df = sources['gold_recovery_train_new'].copy()\n",
    "    df=df.drop(['date'], axis=1)\n",
    "\n",
    "    #df=df.fillna(0)\n",
    "    \n",
    "    features = df.drop(['rougher.output.recovery'], axis=1)\n",
    "    features=features.fillna(method ='ffill')\n",
    "    target = df['rougher.output.recovery']\n",
    "    \n",
    "    # удалим фичи, отсутствующие в датасете test:\n",
    "    #diff_full_test\n",
    "    all_features = ['rougher.calculation.sulfate_to_au_concentrate',\n",
    "           'rougher.calculation.floatbank10_sulfate_to_au_feed',\n",
    "           'rougher.calculation.floatbank11_sulfate_to_au_feed',\n",
    "           'rougher.calculation.au_pb_ratio', 'rougher.input.feed_ag',\n",
    "           'rougher.input.feed_pb', 'rougher.input.feed_rate',\n",
    "           'rougher.input.feed_size', 'rougher.input.feed_sol',\n",
    "           'rougher.input.feed_au', 'rougher.input.floatbank10_sulfate',\n",
    "           'rougher.input.floatbank10_xanthate',\n",
    "           'rougher.input.floatbank11_sulfate',\n",
    "           'rougher.input.floatbank11_xanthate']\n",
    "    \n",
    "    needed_features = [item for item in all_features if item in sources['gold_recovery_test_new'].columns]\n",
    "    features=features[needed_features]\n",
    "    \n",
    "    \n",
    "    scaler = StandardScaler()\n",
    "    scaler.fit(features) \n",
    "    features = scaler.transform(features)\n",
    "\n",
    "    display(np.isnan(features).any())\n",
    "    display(np.isfinite(features).all())\n",
    "    \n",
    "    return features, target"
   ]
  },
  {
   "cell_type": "code",
   "execution_count": 256,
   "id": "ced0ac45",
   "metadata": {},
   "outputs": [],
   "source": [
    "def prepare_data_final(sources):\n",
    "    df = sources['gold_recovery_train_new'].copy()\n",
    "    df=df.drop(['date'], axis=1)\n",
    "\n",
    "    #df=df.fillna(0)\n",
    "\n",
    "    features = df.drop(['final.output.recovery'], axis=1)\n",
    "    features=features.fillna(method ='ffill')\n",
    "    target = df['final.output.recovery']\n",
    "\n",
    "    # удалим фичи, отсутствующие в датасете test:\n",
    "    #diff_full_test\n",
    "    all_features = ['primary_cleaner.input.sulfate', 'primary_cleaner.input.depressant',\n",
    "       'primary_cleaner.input.feed_size', 'primary_cleaner.input.xanthate',\n",
    "       'primary_cleaner.state.floatbank8_a_air',\n",
    "       'primary_cleaner.state.floatbank8_a_level',\n",
    "       'primary_cleaner.state.floatbank8_b_air',\n",
    "       'primary_cleaner.state.floatbank8_b_level',\n",
    "       'primary_cleaner.state.floatbank8_c_air',\n",
    "       'primary_cleaner.state.floatbank8_c_level',\n",
    "       'primary_cleaner.state.floatbank8_d_air',\n",
    "       'primary_cleaner.state.floatbank8_d_level',\n",
    "       'rougher.calculation.sulfate_to_au_concentrate',\n",
    "       'rougher.calculation.floatbank10_sulfate_to_au_feed',\n",
    "       'rougher.calculation.floatbank11_sulfate_to_au_feed',\n",
    "       'rougher.calculation.au_pb_ratio', 'rougher.input.feed_ag',\n",
    "       'rougher.input.feed_pb', 'rougher.input.feed_rate',\n",
    "       'rougher.input.feed_size', 'rougher.input.feed_sol',\n",
    "       'rougher.input.feed_au', 'rougher.input.floatbank10_sulfate',\n",
    "       'rougher.input.floatbank10_xanthate',\n",
    "       'rougher.input.floatbank11_sulfate',\n",
    "       'rougher.input.floatbank11_xanthate', 'rougher.output.concentrate_ag',\n",
    "       'rougher.state.floatbank10_a_air', 'rougher.state.floatbank10_a_level',\n",
    "       'rougher.state.floatbank10_b_air', 'rougher.state.floatbank10_b_level',\n",
    "       'rougher.state.floatbank10_c_air', 'rougher.state.floatbank10_c_level',\n",
    "       'rougher.state.floatbank10_d_air', 'rougher.state.floatbank10_d_level',\n",
    "       'rougher.state.floatbank10_e_air', 'rougher.state.floatbank10_e_level',\n",
    "       'rougher.state.floatbank10_f_air', 'rougher.state.floatbank10_f_level',\n",
    "       'secondary_cleaner.state.floatbank2_a_air',\n",
    "       'secondary_cleaner.state.floatbank2_a_level',\n",
    "       'secondary_cleaner.state.floatbank2_b_air',\n",
    "       'secondary_cleaner.state.floatbank2_b_level',\n",
    "       'secondary_cleaner.state.floatbank3_a_air',\n",
    "       'secondary_cleaner.state.floatbank3_a_level',\n",
    "       'secondary_cleaner.state.floatbank3_b_air',\n",
    "       'secondary_cleaner.state.floatbank3_b_level',\n",
    "       'secondary_cleaner.state.floatbank4_a_air',\n",
    "       'secondary_cleaner.state.floatbank4_a_level',\n",
    "       'secondary_cleaner.state.floatbank4_b_air',\n",
    "       'secondary_cleaner.state.floatbank4_b_level',\n",
    "       'secondary_cleaner.state.floatbank5_a_air',\n",
    "       'secondary_cleaner.state.floatbank5_a_level',\n",
    "       'secondary_cleaner.state.floatbank5_b_air',\n",
    "       'secondary_cleaner.state.floatbank5_b_level',\n",
    "       'secondary_cleaner.state.floatbank6_a_air',\n",
    "       'secondary_cleaner.state.floatbank6_a_level']\n",
    "    needed_features = [item for item in all_features if item in sources['gold_recovery_test_new'].columns]\n",
    "    features=features[needed_features]\n",
    "\n",
    "    scaler = StandardScaler()\n",
    "    scaler.fit(features) \n",
    "    features = scaler.transform(features)\n",
    "\n",
    "    display(np.isnan(features).any())\n",
    "    display(np.isfinite(features).all())\n",
    "    \n",
    "    return features, target"
   ]
  },
  {
   "cell_type": "code",
   "execution_count": 257,
   "id": "7b2ba458",
   "metadata": {},
   "outputs": [],
   "source": [
    "def smape (target, predictions):\n",
    "    error = np.abs(target - predictions)\n",
    "    scale = 0.0000001 + (np.abs(target) + np.abs(predictions)) / 2\n",
    "    return (error / scale).mean() * 100\n",
    "\n"
   ]
  },
  {
   "cell_type": "markdown",
   "id": "2bd625e0",
   "metadata": {},
   "source": [
    "определим функцию, для подсчета и вывода на экран предсказаний и метрик:"
   ]
  },
  {
   "cell_type": "code",
   "execution_count": 258,
   "id": "cc732f14",
   "metadata": {},
   "outputs": [],
   "source": [
    "def get_test_valid_metrics(cort_model, disp = True):    \n",
    "    model, score = cort_model  \n",
    "    print(' Модель:',model,' SMAPE',score)\n",
    "      \n",
    "    return None"
   ]
  },
  {
   "cell_type": "markdown",
   "id": "a2c2aba0",
   "metadata": {},
   "source": [
    "#### RandomForestRegressor Классификатор случайного леса"
   ]
  },
  {
   "cell_type": "code",
   "execution_count": 259,
   "id": "1f108f3d",
   "metadata": {
    "pycharm": {
     "is_executing": true
    },
    "tags": []
   },
   "outputs": [
    {
     "name": "stdout",
     "output_type": "stream",
     "text": [
      "CPU times: user 6 µs, sys: 1e+03 ns, total: 7 µs\n",
      "Wall time: 9.06 µs\n"
     ]
    }
   ],
   "source": [
    "%%time\n",
    "def trip_RandomForest(results,features, target):   \n",
    "    scorer = make_scorer(smape, greater_is_better=False)\n",
    "\n",
    "    tuned_parameters = [{\n",
    "    'n_estimators': [5],\n",
    "    'random_state': [0],\n",
    "    'max_depth': [4]}]\n",
    "    \n",
    "    clf = GridSearchCV(RandomForestRegressor(verbose=2),tuned_parameters, \n",
    "                   cv=3, scoring=scorer, \n",
    "                   verbose=2, n_jobs=-1)\n",
    "\n",
    "    clf.fit(features, target)\n",
    "    results1 = clf.cv_results_\n",
    "\n",
    "    scores_mean = results1['mean_test_score'].mean()\n",
    "    results.append((clf,scores_mean))\n",
    "    return results\n"
   ]
  },
  {
   "cell_type": "markdown",
   "id": "6ee8a9fd",
   "metadata": {},
   "source": [
    "####  DecisionTreeRegressor дерева решений."
   ]
  },
  {
   "cell_type": "code",
   "execution_count": 260,
   "id": "84b04f45",
   "metadata": {
    "pycharm": {
     "is_executing": true
    }
   },
   "outputs": [
    {
     "name": "stdout",
     "output_type": "stream",
     "text": [
      "CPU times: user 0 ns, sys: 7 µs, total: 7 µs\n",
      "Wall time: 10 µs\n"
     ]
    }
   ],
   "source": [
    "%%time\n",
    "def trip_DecisionTree(results,features, target):\n",
    "\n",
    "    scorer = make_scorer(smape, greater_is_better=False)\n",
    "\n",
    "    g_cv = GridSearchCV(DecisionTreeRegressor(random_state=12345),\n",
    "                  param_grid={'min_samples_split': range(2, 10)},\n",
    "                  scoring=scorer, cv=5, refit=True)\n",
    "\n",
    "    g_cv.fit(features, target)\n",
    "\n",
    "    result = g_cv.cv_results_\n",
    "    scores_mean = result['mean_test_score'].mean()\n",
    "    results.append((g_cv,scores_mean))\n",
    "    return results\n",
    "\n",
    "  "
   ]
  },
  {
   "cell_type": "markdown",
   "id": "6dd4d366",
   "metadata": {},
   "source": [
    "#### LinearRegression линейной регрессии."
   ]
  },
  {
   "cell_type": "code",
   "execution_count": 261,
   "id": "802c436a",
   "metadata": {
    "pycharm": {
     "is_executing": true
    }
   },
   "outputs": [
    {
     "name": "stdout",
     "output_type": "stream",
     "text": [
      "CPU times: user 7 µs, sys: 1e+03 ns, total: 8 µs\n",
      "Wall time: 11 µs\n"
     ]
    }
   ],
   "source": [
    "%%time\n",
    "def trip_Linear(results, features, target):\n",
    "\n",
    "    model = LinearRegression()\n",
    "    scorer = make_scorer(smape, greater_is_better=False)\n",
    "    scores = cross_val_score(model, features, target, scoring=scorer, cv=5)\n",
    "    scores_mean = scores.mean()\n",
    "\n",
    "    results.append((model,scores_mean))\n"
   ]
  },
  {
   "cell_type": "markdown",
   "id": "c70ff756",
   "metadata": {},
   "source": [
    "#### проверка на \"вменяемость\" "
   ]
  },
  {
   "cell_type": "code",
   "execution_count": 262,
   "id": "c9a77341",
   "metadata": {
    "pycharm": {
     "is_executing": true
    }
   },
   "outputs": [],
   "source": [
    "def trip_dummy(results,features, target):\n",
    "    from sklearn.dummy import DummyRegressor\n",
    "    dummy_clf = DummyRegressor(strategy='mean')\n",
    "\n",
    "    scorer = make_scorer(smape, greater_is_better=False)\n",
    "    scores = cross_val_score(dummy_clf, features, target, scoring=scorer, cv=5)\n",
    "    scores_mean = scores.mean()\n",
    "\n",
    "    results.append((dummy_clf,scores_mean))\n",
    "    \n"
   ]
  },
  {
   "cell_type": "markdown",
   "id": "f2959c65",
   "metadata": {},
   "source": [
    "#### trip_display Напишем функцию для вывода в удобочитаемом формате результата:"
   ]
  },
  {
   "cell_type": "code",
   "execution_count": 263,
   "id": "2bb7b149",
   "metadata": {},
   "outputs": [],
   "source": [
    "def trip_display(results_in):\n",
    "    pd.set_option('display.max_colwidth', None)    \n",
    "    df = pd.DataFrame(columns=['Classifier','Parameters','SMAPE'])\n",
    "    for idx,model1 in enumerate(results_in):\n",
    "        model, smape = model1\n",
    "        try:\n",
    "            a1=model.estimator\n",
    "        except:\n",
    "            a1=str(model)\n",
    "        try:    \n",
    "            a2=model.best_params_\n",
    "        except:\n",
    "            a2=''\n",
    "        a5=smape\n",
    "        df.loc[len(df.index)] = [a1, a2,  a5]\n",
    "    display(df)\n",
    "\n"
   ]
  },
  {
   "cell_type": "markdown",
   "id": "2a36692c",
   "metadata": {},
   "source": [
    "## Основной расчет "
   ]
  },
  {
   "cell_type": "code",
   "execution_count": 264,
   "id": "6319f094",
   "metadata": {},
   "outputs": [
    {
     "data": {
      "text/plain": [
       "False"
      ]
     },
     "metadata": {},
     "output_type": "display_data"
    },
    {
     "data": {
      "text/plain": [
       "True"
      ]
     },
     "metadata": {},
     "output_type": "display_data"
    },
    {
     "name": "stdout",
     "output_type": "stream",
     "text": [
      "Fitting 3 folds for each of 1 candidates, totalling 3 fits\n",
      "building tree 1 of 5\n",
      "building tree 2 of 5\n",
      "building tree 3 of 5\n",
      "building tree 4 of 5\n",
      "building tree 5 of 5\n",
      "[CV] END ........max_depth=4, n_estimators=5, random_state=0; total time=   0.1s\n",
      "building tree 1 of 5\n",
      "building tree 2 of 5\n",
      "building tree 3 of 5\n"
     ]
    },
    {
     "name": "stderr",
     "output_type": "stream",
     "text": [
      "[Parallel(n_jobs=1)]: Using backend SequentialBackend with 1 concurrent workers.\n",
      "[Parallel(n_jobs=1)]: Done   1 out of   1 | elapsed:    0.0s remaining:    0.0s\n",
      "[Parallel(n_jobs=1)]: Done   5 out of   5 | elapsed:    0.1s finished\n",
      "[Parallel(n_jobs=1)]: Using backend SequentialBackend with 1 concurrent workers.\n",
      "[Parallel(n_jobs=1)]: Done   1 out of   1 | elapsed:    0.0s remaining:    0.0s\n",
      "[Parallel(n_jobs=1)]: Done   5 out of   5 | elapsed:    0.0s finished\n",
      "[Parallel(n_jobs=1)]: Using backend SequentialBackend with 1 concurrent workers.\n",
      "[Parallel(n_jobs=1)]: Done   1 out of   1 | elapsed:    0.0s remaining:    0.0s\n"
     ]
    },
    {
     "name": "stdout",
     "output_type": "stream",
     "text": [
      "building tree 4 of 5\n",
      "building tree 5 of 5\n",
      "[CV] END ........max_depth=4, n_estimators=5, random_state=0; total time=   0.1s\n",
      "building tree 1 of 5\n",
      "building tree 2 of 5\n",
      "building tree 3 of 5\n",
      "building tree 4 of 5\n",
      "building tree 5 of 5\n",
      "[CV] END ........max_depth=4, n_estimators=5, random_state=0; total time=   0.1s\n",
      "building tree 1 of 5\n"
     ]
    },
    {
     "name": "stderr",
     "output_type": "stream",
     "text": [
      "[Parallel(n_jobs=1)]: Done   5 out of   5 | elapsed:    0.1s finished\n",
      "[Parallel(n_jobs=1)]: Using backend SequentialBackend with 1 concurrent workers.\n",
      "[Parallel(n_jobs=1)]: Done   1 out of   1 | elapsed:    0.0s remaining:    0.0s\n",
      "[Parallel(n_jobs=1)]: Done   5 out of   5 | elapsed:    0.0s finished\n",
      "[Parallel(n_jobs=1)]: Using backend SequentialBackend with 1 concurrent workers.\n",
      "[Parallel(n_jobs=1)]: Done   1 out of   1 | elapsed:    0.0s remaining:    0.0s\n",
      "[Parallel(n_jobs=1)]: Done   5 out of   5 | elapsed:    0.1s finished\n",
      "[Parallel(n_jobs=1)]: Using backend SequentialBackend with 1 concurrent workers.\n",
      "[Parallel(n_jobs=1)]: Done   1 out of   1 | elapsed:    0.0s remaining:    0.0s\n",
      "[Parallel(n_jobs=1)]: Done   5 out of   5 | elapsed:    0.0s finished\n",
      "[Parallel(n_jobs=1)]: Using backend SequentialBackend with 1 concurrent workers.\n",
      "[Parallel(n_jobs=1)]: Done   1 out of   1 | elapsed:    0.0s remaining:    0.0s\n"
     ]
    },
    {
     "name": "stdout",
     "output_type": "stream",
     "text": [
      "building tree 2 of 5\n",
      "building tree 3 of 5\n",
      "building tree 4 of 5\n",
      "building tree 5 of 5\n",
      " Модель: GridSearchCV(cv=3, estimator=RandomForestRegressor(verbose=2), n_jobs=-1,\n",
      "             param_grid=[{'max_depth': [4], 'n_estimators': [5],\n",
      "                          'random_state': [0]}],\n",
      "             scoring=make_scorer(smape, greater_is_better=False), verbose=2)  SMAPE -14.401207193431262\n"
     ]
    },
    {
     "name": "stderr",
     "output_type": "stream",
     "text": [
      "[Parallel(n_jobs=1)]: Done   5 out of   5 | elapsed:    0.2s finished\n"
     ]
    },
    {
     "name": "stdout",
     "output_type": "stream",
     "text": [
      " Модель: GridSearchCV(cv=5, estimator=DecisionTreeRegressor(random_state=12345),\n",
      "             param_grid={'min_samples_split': range(2, 10)},\n",
      "             scoring=make_scorer(smape, greater_is_better=False))  SMAPE -23.705104673364076\n",
      " Модель: LinearRegression()  SMAPE -11.97245277470741\n",
      " Модель: DummyRegressor()  SMAPE -12.215336393282353\n"
     ]
    },
    {
     "data": {
      "text/plain": [
       "False"
      ]
     },
     "metadata": {},
     "output_type": "display_data"
    },
    {
     "data": {
      "text/plain": [
       "True"
      ]
     },
     "metadata": {},
     "output_type": "display_data"
    },
    {
     "name": "stdout",
     "output_type": "stream",
     "text": [
      "Fitting 3 folds for each of 1 candidates, totalling 3 fits\n",
      "building tree 1 of 5\n",
      "building tree 2 of 5\n"
     ]
    },
    {
     "name": "stderr",
     "output_type": "stream",
     "text": [
      "[Parallel(n_jobs=1)]: Using backend SequentialBackend with 1 concurrent workers.\n",
      "[Parallel(n_jobs=1)]: Done   1 out of   1 | elapsed:    0.1s remaining:    0.0s\n"
     ]
    },
    {
     "name": "stdout",
     "output_type": "stream",
     "text": [
      "building tree 3 of 5\n",
      "building tree 4 of 5\n",
      "building tree 5 of 5\n",
      "[CV] END ........max_depth=4, n_estimators=5, random_state=0; total time=   0.7s\n",
      "building tree 1 of 5\n"
     ]
    },
    {
     "name": "stderr",
     "output_type": "stream",
     "text": [
      "[Parallel(n_jobs=1)]: Done   5 out of   5 | elapsed:    0.7s finished\n",
      "[Parallel(n_jobs=1)]: Using backend SequentialBackend with 1 concurrent workers.\n",
      "[Parallel(n_jobs=1)]: Done   1 out of   1 | elapsed:    0.0s remaining:    0.0s\n",
      "[Parallel(n_jobs=1)]: Done   5 out of   5 | elapsed:    0.0s finished\n",
      "[Parallel(n_jobs=1)]: Using backend SequentialBackend with 1 concurrent workers.\n",
      "[Parallel(n_jobs=1)]: Done   1 out of   1 | elapsed:    0.1s remaining:    0.0s\n"
     ]
    },
    {
     "name": "stdout",
     "output_type": "stream",
     "text": [
      "building tree 2 of 5\n",
      "building tree 3 of 5\n",
      "building tree 4 of 5\n",
      "building tree 5 of 5\n",
      "[CV] END ........max_depth=4, n_estimators=5, random_state=0; total time=   0.6s\n",
      "building tree 1 of 5\n"
     ]
    },
    {
     "name": "stderr",
     "output_type": "stream",
     "text": [
      "[Parallel(n_jobs=1)]: Done   5 out of   5 | elapsed:    0.6s finished\n",
      "[Parallel(n_jobs=1)]: Using backend SequentialBackend with 1 concurrent workers.\n",
      "[Parallel(n_jobs=1)]: Done   1 out of   1 | elapsed:    0.0s remaining:    0.0s\n",
      "[Parallel(n_jobs=1)]: Done   5 out of   5 | elapsed:    0.0s finished\n",
      "[Parallel(n_jobs=1)]: Using backend SequentialBackend with 1 concurrent workers.\n",
      "[Parallel(n_jobs=1)]: Done   1 out of   1 | elapsed:    0.1s remaining:    0.0s\n"
     ]
    },
    {
     "name": "stdout",
     "output_type": "stream",
     "text": [
      "building tree 2 of 5\n",
      "building tree 3 of 5\n",
      "building tree 4 of 5\n",
      "building tree 5 of 5\n",
      "[CV] END ........max_depth=4, n_estimators=5, random_state=0; total time=   0.6s\n",
      "building tree 1 of 5\n"
     ]
    },
    {
     "name": "stderr",
     "output_type": "stream",
     "text": [
      "[Parallel(n_jobs=1)]: Done   5 out of   5 | elapsed:    0.6s finished\n",
      "[Parallel(n_jobs=1)]: Using backend SequentialBackend with 1 concurrent workers.\n",
      "[Parallel(n_jobs=1)]: Done   1 out of   1 | elapsed:    0.0s remaining:    0.0s\n",
      "[Parallel(n_jobs=1)]: Done   5 out of   5 | elapsed:    0.0s finished\n",
      "[Parallel(n_jobs=1)]: Using backend SequentialBackend with 1 concurrent workers.\n",
      "[Parallel(n_jobs=1)]: Done   1 out of   1 | elapsed:    0.2s remaining:    0.0s\n"
     ]
    },
    {
     "name": "stdout",
     "output_type": "stream",
     "text": [
      "building tree 2 of 5\n",
      "building tree 3 of 5\n",
      "building tree 4 of 5\n",
      "building tree 5 of 5\n",
      " Модель: GridSearchCV(cv=3, estimator=RandomForestRegressor(verbose=2), n_jobs=-1,\n",
      "             param_grid=[{'max_depth': [4], 'n_estimators': [5],\n",
      "                          'random_state': [0]}],\n",
      "             scoring=make_scorer(smape, greater_is_better=False), verbose=2)  SMAPE -12.6057558583489\n"
     ]
    },
    {
     "name": "stderr",
     "output_type": "stream",
     "text": [
      "[Parallel(n_jobs=1)]: Done   5 out of   5 | elapsed:    0.9s finished\n"
     ]
    },
    {
     "name": "stdout",
     "output_type": "stream",
     "text": [
      " Модель: GridSearchCV(cv=5, estimator=DecisionTreeRegressor(random_state=12345),\n",
      "             param_grid={'min_samples_split': range(2, 10)},\n",
      "             scoring=make_scorer(smape, greater_is_better=False))  SMAPE -20.785691416583642\n",
      " Модель: LinearRegression()  SMAPE -12.245300299221473\n",
      " Модель: DummyRegressor()  SMAPE -11.361359283941985\n",
      "CPU times: user 52.1 s, sys: 1.4 s, total: 53.5 s\n",
      "Wall time: 53.6 s\n"
     ]
    }
   ],
   "source": [
    "%%time\n",
    "results = []\n",
    "\n",
    "features, target = prepare_data_rougher(sources)\n",
    "\n",
    "trip_RandomForest(results, features, target) \n",
    "get_test_valid_metrics(results[0])\n",
    "\n",
    "trip_DecisionTree(results, features, target)\n",
    "get_test_valid_metrics(results[1])\n",
    "\n",
    "trip_Linear(results, features, target)\n",
    "get_test_valid_metrics(results[2])\n",
    "\n",
    "trip_dummy(results, features, target)\n",
    "get_test_valid_metrics(results[3])\n",
    "\n",
    "features, target = prepare_data_final(sources)\n",
    "\n",
    "trip_RandomForest(results, features, target) \n",
    "get_test_valid_metrics(results[4])\n",
    "\n",
    "trip_DecisionTree(results, features, target)\n",
    "get_test_valid_metrics(results[5])\n",
    "\n",
    "trip_Linear(results, features, target)\n",
    "get_test_valid_metrics(results[6])\n",
    "\n",
    "trip_dummy(results, features, target)\n",
    "get_test_valid_metrics(results[7])\n",
    "\n",
    "\n"
   ]
  },
  {
   "cell_type": "markdown",
   "id": "1b0622db",
   "metadata": {},
   "source": [
    "## Промежуточные выводы"
   ]
  },
  {
   "cell_type": "markdown",
   "id": "dc1a8f03",
   "metadata": {},
   "source": [
    "Отобразим результаты:"
   ]
  },
  {
   "cell_type": "code",
   "execution_count": 265,
   "id": "f2b61b82",
   "metadata": {
    "pycharm": {
     "is_executing": true
    },
    "scrolled": true
   },
   "outputs": [
    {
     "data": {
      "text/html": [
       "<div>\n",
       "<style scoped>\n",
       "    .dataframe tbody tr th:only-of-type {\n",
       "        vertical-align: middle;\n",
       "    }\n",
       "\n",
       "    .dataframe tbody tr th {\n",
       "        vertical-align: top;\n",
       "    }\n",
       "\n",
       "    .dataframe thead th {\n",
       "        text-align: right;\n",
       "    }\n",
       "</style>\n",
       "<table border=\"1\" class=\"dataframe\">\n",
       "  <thead>\n",
       "    <tr style=\"text-align: right;\">\n",
       "      <th></th>\n",
       "      <th>Classifier</th>\n",
       "      <th>Parameters</th>\n",
       "      <th>SMAPE</th>\n",
       "    </tr>\n",
       "  </thead>\n",
       "  <tbody>\n",
       "    <tr>\n",
       "      <th>0</th>\n",
       "      <td>RandomForestRegressor(verbose=2)</td>\n",
       "      <td>{'max_depth': 4, 'n_estimators': 5, 'random_state': 0}</td>\n",
       "      <td>-14.401207</td>\n",
       "    </tr>\n",
       "    <tr>\n",
       "      <th>1</th>\n",
       "      <td>DecisionTreeRegressor(random_state=12345)</td>\n",
       "      <td>{'min_samples_split': 9}</td>\n",
       "      <td>-23.705105</td>\n",
       "    </tr>\n",
       "    <tr>\n",
       "      <th>2</th>\n",
       "      <td>LinearRegression()</td>\n",
       "      <td></td>\n",
       "      <td>-11.972453</td>\n",
       "    </tr>\n",
       "    <tr>\n",
       "      <th>3</th>\n",
       "      <td>DummyRegressor()</td>\n",
       "      <td></td>\n",
       "      <td>-12.215336</td>\n",
       "    </tr>\n",
       "    <tr>\n",
       "      <th>4</th>\n",
       "      <td>RandomForestRegressor(verbose=2)</td>\n",
       "      <td>{'max_depth': 4, 'n_estimators': 5, 'random_state': 0}</td>\n",
       "      <td>-12.605756</td>\n",
       "    </tr>\n",
       "    <tr>\n",
       "      <th>5</th>\n",
       "      <td>DecisionTreeRegressor(random_state=12345)</td>\n",
       "      <td>{'min_samples_split': 9}</td>\n",
       "      <td>-20.785691</td>\n",
       "    </tr>\n",
       "    <tr>\n",
       "      <th>6</th>\n",
       "      <td>LinearRegression()</td>\n",
       "      <td></td>\n",
       "      <td>-12.245300</td>\n",
       "    </tr>\n",
       "    <tr>\n",
       "      <th>7</th>\n",
       "      <td>DummyRegressor()</td>\n",
       "      <td></td>\n",
       "      <td>-11.361359</td>\n",
       "    </tr>\n",
       "  </tbody>\n",
       "</table>\n",
       "</div>"
      ],
      "text/plain": [
       "                                  Classifier  \\\n",
       "0           RandomForestRegressor(verbose=2)   \n",
       "1  DecisionTreeRegressor(random_state=12345)   \n",
       "2                         LinearRegression()   \n",
       "3                           DummyRegressor()   \n",
       "4           RandomForestRegressor(verbose=2)   \n",
       "5  DecisionTreeRegressor(random_state=12345)   \n",
       "6                         LinearRegression()   \n",
       "7                           DummyRegressor()   \n",
       "\n",
       "                                               Parameters      SMAPE  \n",
       "0  {'max_depth': 4, 'n_estimators': 5, 'random_state': 0} -14.401207  \n",
       "1                                {'min_samples_split': 9} -23.705105  \n",
       "2                                                         -11.972453  \n",
       "3                                                         -12.215336  \n",
       "4  {'max_depth': 4, 'n_estimators': 5, 'random_state': 0} -12.605756  \n",
       "5                                {'min_samples_split': 9} -20.785691  \n",
       "6                                                         -12.245300  \n",
       "7                                                         -11.361359  "
      ]
     },
     "metadata": {},
     "output_type": "display_data"
    }
   ],
   "source": [
    "trip_display(results)"
   ]
  },
  {
   "cell_type": "markdown",
   "id": "29cfb931",
   "metadata": {},
   "source": [
    "Первые четыре строки (№№ 0-3 )это кросс-валидация выбраных типов моделей и расчет параметра SMAPE для стадии флотации.\n",
    "Следующие четыре строки (№№ 4-7) это кросс-валидация выбраных типов моделей и расчет параметра SMAPE для полного цикла.\n",
    "\n",
    "\n",
    "По итогу подбора параметров и обучения моделей можно сказать, что лучшая модель для стадии флотации(Rougher) это **№2 \tLinearRegression() \t\t-12.125062**\n",
    "\n",
    "Лучшая модель для полного цикла(Final) - **№ 6 \tLinearRegression() \t\t-12.380287**"
   ]
  },
  {
   "cell_type": "markdown",
   "id": "b42df898",
   "metadata": {},
   "source": [
    "#### итоговый SMAPE"
   ]
  },
  {
   "cell_type": "code",
   "execution_count": 266,
   "id": "0f530150",
   "metadata": {},
   "outputs": [
    {
     "data": {
      "text/plain": [
       "False"
      ]
     },
     "metadata": {},
     "output_type": "display_data"
    },
    {
     "data": {
      "text/plain": [
       "True"
      ]
     },
     "metadata": {},
     "output_type": "display_data"
    },
    {
     "name": "stdout",
     "output_type": "stream",
     "text": [
      " Модель: LinearRegression()  SMAPE -12.245300299221473\n",
      "CPU times: user 1.18 s, sys: 1.27 s, total: 2.45 s\n",
      "Wall time: 2.4 s\n"
     ]
    }
   ],
   "source": [
    "%%time\n",
    "resultsSMAPE = []\n",
    "\n",
    "features, target = prepare_data_final(sources)\n",
    "trip_Linear(resultsSMAPE, features, target)\n",
    "get_test_valid_metrics(resultsSMAPE[0])"
   ]
  },
  {
   "cell_type": "markdown",
   "id": "9ec55dce",
   "metadata": {},
   "source": [
    "#### Проверим лучшую модель (модели) на тестовой выборке ('gold_recovery_test_new')"
   ]
  },
  {
   "cell_type": "code",
   "execution_count": 267,
   "id": "de98439c",
   "metadata": {},
   "outputs": [],
   "source": [
    "def prepare_data_test_final(sources):\n",
    "    df = sources['gold_recovery_test_new'].copy()\n",
    "    df=df.drop(['date'], axis=1)\n",
    "    \n",
    "    features = df\n",
    "    features=features.fillna(method ='ffill')\n",
    "    scaler = StandardScaler()\n",
    "    scaler.fit(features) \n",
    "    features = scaler.transform(features)\n",
    "\n",
    "    display(np.isnan(features).any())\n",
    "    display(np.isfinite(features).all())\n",
    "    \n",
    "    return features"
   ]
  },
  {
   "cell_type": "code",
   "execution_count": 268,
   "id": "bdb12cb2",
   "metadata": {},
   "outputs": [],
   "source": [
    "def prepare_data_test_rougher(sources):\n",
    "    df = sources['gold_recovery_test_new'].copy()\n",
    "    df=df.drop(['date'], axis=1)\n",
    "    \n",
    "    df=df.fillna(method ='ffill')\n",
    "    all_features = ['rougher.calculation.sulfate_to_au_concentrate',\n",
    "           'rougher.calculation.floatbank10_sulfate_to_au_feed',\n",
    "           'rougher.calculation.floatbank11_sulfate_to_au_feed',\n",
    "           'rougher.calculation.au_pb_ratio', 'rougher.input.feed_ag',\n",
    "           'rougher.input.feed_pb', 'rougher.input.feed_rate',\n",
    "           'rougher.input.feed_size', 'rougher.input.feed_sol',\n",
    "           'rougher.input.feed_au', 'rougher.input.floatbank10_sulfate',\n",
    "           'rougher.input.floatbank10_xanthate',\n",
    "           'rougher.input.floatbank11_sulfate',\n",
    "           'rougher.input.floatbank11_xanthate']\n",
    "    \n",
    "    needed_features = [item for item in all_features if item in sources['gold_recovery_test_new'].columns]\n",
    "    features=df[needed_features]\n",
    "\n",
    "    scaler = StandardScaler()\n",
    "    scaler.fit(features) \n",
    "    features = scaler.transform(features)\n",
    "\n",
    "    display(np.isnan(features).any())\n",
    "    display(np.isfinite(features).all())\n",
    "    \n",
    "    return features"
   ]
  },
  {
   "cell_type": "code",
   "execution_count": 269,
   "id": "a0aa5446",
   "metadata": {},
   "outputs": [
    {
     "data": {
      "text/plain": [
       "False"
      ]
     },
     "metadata": {},
     "output_type": "display_data"
    },
    {
     "data": {
      "text/plain": [
       "True"
      ]
     },
     "metadata": {},
     "output_type": "display_data"
    },
    {
     "data": {
      "text/plain": [
       "False"
      ]
     },
     "metadata": {},
     "output_type": "display_data"
    },
    {
     "data": {
      "text/plain": [
       "True"
      ]
     },
     "metadata": {},
     "output_type": "display_data"
    },
    {
     "name": "stdout",
     "output_type": "stream",
     "text": [
      "CPU times: user 330 ms, sys: 411 ms, total: 742 ms\n",
      "Wall time: 685 ms\n"
     ]
    },
    {
     "data": {
      "text/plain": [
       "array([72.19894502, 73.41644531, 73.37282303, ..., 74.20546439,\n",
       "       71.21996855, 72.28231963])"
      ]
     },
     "execution_count": 269,
     "metadata": {},
     "output_type": "execute_result"
    }
   ],
   "source": [
    "%%time\n",
    "# для предсказания final.recovery\n",
    "\n",
    "resultsSMAPE = []\n",
    "features, target = prepare_data_final(sources)\n",
    "\n",
    "results[6][0].fit(features, target)\n",
    "features = prepare_data_test_final(sources)\n",
    "\n",
    "test_results_final = results[6][0].predict(features)\n",
    "test_results_final"
   ]
  },
  {
   "cell_type": "code",
   "execution_count": 270,
   "id": "9f91f462",
   "metadata": {
    "scrolled": true
   },
   "outputs": [
    {
     "data": {
      "text/plain": [
       "False"
      ]
     },
     "metadata": {},
     "output_type": "display_data"
    },
    {
     "data": {
      "text/plain": [
       "True"
      ]
     },
     "metadata": {},
     "output_type": "display_data"
    },
    {
     "data": {
      "text/plain": [
       "False"
      ]
     },
     "metadata": {},
     "output_type": "display_data"
    },
    {
     "data": {
      "text/plain": [
       "True"
      ]
     },
     "metadata": {},
     "output_type": "display_data"
    },
    {
     "name": "stdout",
     "output_type": "stream",
     "text": [
      "CPU times: user 83 ms, sys: 83.6 ms, total: 167 ms\n",
      "Wall time: 191 ms\n"
     ]
    },
    {
     "data": {
      "text/plain": [
       "array([87.62267123, 86.45657692, 86.45856997, ..., 90.59116061,\n",
       "       90.4201097 , 89.05574833])"
      ]
     },
     "execution_count": 270,
     "metadata": {},
     "output_type": "execute_result"
    }
   ],
   "source": [
    "%%time\n",
    "#для предсказания rougher.recovery\n",
    "\n",
    "resultsSMAPE = []\n",
    "features, target = prepare_data_rougher(sources)\n",
    "\n",
    "results[2][0].fit(features, target)\n",
    "\n",
    "features = prepare_data_test_rougher(sources)\n",
    "\n",
    "test_results_rougher = results[2][0].predict(features)\n",
    "test_results_rougher"
   ]
  },
  {
   "cell_type": "code",
   "execution_count": null,
   "id": "db4fcd16",
   "metadata": {},
   "outputs": [],
   "source": []
  },
  {
   "cell_type": "markdown",
   "id": "9d562c78",
   "metadata": {},
   "source": [
    "### Рассчитаем итоговый SMAPE на тестовой выборке"
   ]
  },
  {
   "cell_type": "markdown",
   "id": "ab966f59",
   "metadata": {},
   "source": [
    "Возьмем целевой столбец из Full датасета:"
   ]
  },
  {
   "cell_type": "code",
   "execution_count": 271,
   "id": "0e287aa9",
   "metadata": {},
   "outputs": [
    {
     "name": "stdout",
     "output_type": "stream",
     "text": [
      "5290\n"
     ]
    }
   ],
   "source": [
    "print(sources['gold_recovery_test_new']['date'].count())"
   ]
  },
  {
   "cell_type": "code",
   "execution_count": 272,
   "id": "4efbf602",
   "metadata": {},
   "outputs": [
    {
     "name": "stdout",
     "output_type": "stream",
     "text": [
      "5290\n"
     ]
    }
   ],
   "source": [
    "df = sources['gold_recovery_test_new']\n",
    "df = sources['gold_recovery_test_new'].merge(sources['gold_recovery_full_new'][['date','rougher.output.recovery','final.output.recovery']], left_on='date', right_on='date')\n",
    "print(df['date'].count())"
   ]
  },
  {
   "cell_type": "markdown",
   "id": "0f04d5fd",
   "metadata": {},
   "source": [
    "Количество строк не изменилось, это хорошо, значит склейка прошла правильно.\n",
    "Рассчитаем финальный SMAPE:"
   ]
  },
  {
   "cell_type": "code",
   "execution_count": 273,
   "id": "68182fb5",
   "metadata": {},
   "outputs": [
    {
     "name": "stdout",
     "output_type": "stream",
     "text": [
      "finalSMAPE= 11.081347357202883\n",
      "CPU times: user 3.86 ms, sys: 0 ns, total: 3.86 ms\n",
      "Wall time: 3.18 ms\n"
     ]
    }
   ],
   "source": [
    "%%time\n",
    "target = df['final.output.recovery']\n",
    "features = test_results_final\n",
    "finalSMAPE = smape(features,target)\n",
    "print('finalSMAPE=',finalSMAPE)"
   ]
  },
  {
   "cell_type": "code",
   "execution_count": 274,
   "id": "2027dc27",
   "metadata": {},
   "outputs": [
    {
     "name": "stdout",
     "output_type": "stream",
     "text": [
      "finalSMAPE= 9.96623906817651\n",
      "CPU times: user 1.85 ms, sys: 130 µs, total: 1.98 ms\n",
      "Wall time: 1.67 ms\n"
     ]
    }
   ],
   "source": [
    "%%time\n",
    "target = df['rougher.output.recovery']\n",
    "features = test_results_rougher\n",
    "rougherSMAPE = smape(features,target)\n",
    "print('finalSMAPE=',rougherSMAPE)"
   ]
  },
  {
   "cell_type": "markdown",
   "id": "7eeac14b",
   "metadata": {},
   "source": [
    "Рассчитаем итоговый по формуле SMAPE:"
   ]
  },
  {
   "cell_type": "code",
   "execution_count": 275,
   "id": "812bb962",
   "metadata": {},
   "outputs": [
    {
     "data": {
      "text/plain": [
       "10.802570284946288"
      ]
     },
     "execution_count": 275,
     "metadata": {},
     "output_type": "execute_result"
    }
   ],
   "source": [
    "SMAPE = 0.25 * rougherSMAPE + 0.75 * finalSMAPE\n",
    "SMAPE"
   ]
  },
  {
   "cell_type": "markdown",
   "id": "a4dd5b09",
   "metadata": {},
   "source": [
    "классификатор(DummyRegressor) служит простой базой для сравнения с другими более сложными классификаторами.\n",
    "\n",
    "Конкретное поведение базовой линии выбирается с помощью параметра стратегии.\n",
    "В данной задаче более честной является стратегия median.\n",
    "Все стратегии делают прогнозы, которые игнорируют значения входных признаков, переданные в качестве аргумента X, для подгонки и прогнозирования. Прогнозы, однако, обычно зависят от значений, наблюдаемых в параметре y, переданном для обучения. \n",
    "\n",
    "Результат случайной модели на тестовой выборке приближен, но все же меньше чем самый малый результат. что подтверждает вменяемость всех рассмотренных моделей."
   ]
  }
 ],
 "metadata": {
  "kernelspec": {
   "display_name": "base",
   "language": "python",
   "name": "base"
  },
  "language_info": {
   "codemirror_mode": {
    "name": "ipython",
    "version": 3
   },
   "file_extension": ".py",
   "mimetype": "text/x-python",
   "name": "python",
   "nbconvert_exporter": "python",
   "pygments_lexer": "ipython3",
   "version": "3.8.8"
  },
  "toc": {
   "base_numbering": 1,
   "nav_menu": {},
   "number_sections": true,
   "sideBar": true,
   "skip_h1_title": false,
   "title_cell": "Table of Contents",
   "title_sidebar": "Contents",
   "toc_cell": false,
   "toc_position": {},
   "toc_section_display": true,
   "toc_window_display": false
  }
 },
 "nbformat": 4,
 "nbformat_minor": 5
}
