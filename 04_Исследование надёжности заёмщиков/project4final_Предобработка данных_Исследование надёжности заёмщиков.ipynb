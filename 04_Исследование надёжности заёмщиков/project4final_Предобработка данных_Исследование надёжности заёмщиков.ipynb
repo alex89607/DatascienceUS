{
 "cells": [
  {
   "cell_type": "markdown",
   "id": "7e504d27",
   "metadata": {},
   "source": [
    "# Исследование надежности заемщиков."
   ]
  },
  {
   "cell_type": "markdown",
   "id": "7dfd5e04",
   "metadata": {},
   "source": [
    "### Шаг 1. Обзор данных"
   ]
  },
  {
   "cell_type": "code",
   "execution_count": 58,
   "id": "903e349f",
   "metadata": {},
   "outputs": [],
   "source": [
    "import pandas as pd"
   ]
  },
  {
   "cell_type": "code",
   "execution_count": 59,
   "id": "7522c970",
   "metadata": {},
   "outputs": [
    {
     "name": "stdout",
     "output_type": "stream",
     "text": [
      "0    253875.639453\n",
      "1    112080.014102\n",
      "2    145885.952297\n",
      "3    267628.550329\n",
      "4    158616.077870\n",
      "Name: total_income, dtype: float64\n"
     ]
    }
   ],
   "source": [
    "df = pd.read_csv('/datasets/data.csv')\n",
    "print(df['total_income'].head(5))"
   ]
  },
  {
   "cell_type": "code",
   "execution_count": 60,
   "id": "5e1d3120",
   "metadata": {},
   "outputs": [
    {
     "name": "stdout",
     "output_type": "stream",
     "text": [
      "<class 'pandas.core.frame.DataFrame'>\n",
      "RangeIndex: 21525 entries, 0 to 21524\n",
      "Data columns (total 12 columns):\n",
      "children            21525 non-null int64\n",
      "days_employed       19351 non-null float64\n",
      "dob_years           21525 non-null int64\n",
      "education           21525 non-null object\n",
      "education_id        21525 non-null int64\n",
      "family_status       21525 non-null object\n",
      "family_status_id    21525 non-null int64\n",
      "gender              21525 non-null object\n",
      "income_type         21525 non-null object\n",
      "debt                21525 non-null int64\n",
      "total_income        19351 non-null float64\n",
      "purpose             21525 non-null object\n",
      "dtypes: float64(2), int64(5), object(5)\n",
      "memory usage: 2.0+ MB\n"
     ]
    },
    {
     "data": {
      "text/plain": [
       "Index(['children', 'days_employed', 'dob_years', 'education', 'education_id',\n",
       "       'family_status', 'family_status_id', 'gender', 'income_type', 'debt',\n",
       "       'total_income', 'purpose'],\n",
       "      dtype='object')"
      ]
     },
     "execution_count": 60,
     "metadata": {},
     "output_type": "execute_result"
    }
   ],
   "source": [
    "# Исправление в ответ на комментарий v_1\n",
    "df.info()\n",
    "df.columns"
   ]
  },
  {
   "cell_type": "markdown",
   "id": "c63c17a2",
   "metadata": {},
   "source": [
    "### Шаг 2.1 Заполнение пропусков"
   ]
  },
  {
   "cell_type": "code",
   "execution_count": 61,
   "id": "a90f6389",
   "metadata": {},
   "outputs": [
    {
     "name": "stdout",
     "output_type": "stream",
     "text": [
      "Index(['children', 'days_employed', 'dob_years', 'education', 'education_id',\n",
      "       'family_status', 'family_status_id', 'gender', 'income_type', 'debt',\n",
      "       'total_income', 'purpose'],\n",
      "      dtype='object')\n",
      "<class 'pandas.core.frame.DataFrame'>\n",
      "RangeIndex: 21525 entries, 0 to 21524\n",
      "Data columns (total 12 columns):\n",
      "children            21525 non-null int64\n",
      "days_employed       19351 non-null float64\n",
      "job_years           21525 non-null int64\n",
      "education           21525 non-null object\n",
      "education_id        21525 non-null int64\n",
      "family_status       21525 non-null object\n",
      "family_status_id    21525 non-null int64\n",
      "gender              21525 non-null object\n",
      "income_type         21525 non-null object\n",
      "debt                21525 non-null int64\n",
      "total_income        19351 non-null float64\n",
      "purpose             21525 non-null object\n",
      "dtypes: float64(2), int64(5), object(5)\n",
      "memory usage: 2.0+ MB\n"
     ]
    }
   ],
   "source": [
    "\n",
    "\n",
    "#проверим корректность заголовков столбцов\n",
    "print(df.columns)\n",
    "df=df.rename(columns={\"dob_years\":\"job_years\"})\n",
    "#получим общую информацию о датафрейме\n",
    "df.info()\n"
   ]
  },
  {
   "cell_type": "code",
   "execution_count": 62,
   "id": "228f2b58",
   "metadata": {},
   "outputs": [
    {
     "data": {
      "text/html": [
       "<div>\n",
       "<style scoped>\n",
       "    .dataframe tbody tr th:only-of-type {\n",
       "        vertical-align: middle;\n",
       "    }\n",
       "\n",
       "    .dataframe tbody tr th {\n",
       "        vertical-align: top;\n",
       "    }\n",
       "\n",
       "    .dataframe thead th {\n",
       "        text-align: right;\n",
       "    }\n",
       "</style>\n",
       "<table border=\"1\" class=\"dataframe\">\n",
       "  <thead>\n",
       "    <tr style=\"text-align: right;\">\n",
       "      <th></th>\n",
       "      <th>children</th>\n",
       "      <th>days_employed</th>\n",
       "      <th>job_years</th>\n",
       "      <th>education</th>\n",
       "      <th>education_id</th>\n",
       "      <th>family_status</th>\n",
       "      <th>family_status_id</th>\n",
       "      <th>gender</th>\n",
       "      <th>income_type</th>\n",
       "      <th>debt</th>\n",
       "      <th>total_income</th>\n",
       "      <th>purpose</th>\n",
       "    </tr>\n",
       "  </thead>\n",
       "  <tbody>\n",
       "    <tr>\n",
       "      <td>12</td>\n",
       "      <td>0</td>\n",
       "      <td>NaN</td>\n",
       "      <td>65</td>\n",
       "      <td>среднее</td>\n",
       "      <td>1</td>\n",
       "      <td>гражданский брак</td>\n",
       "      <td>1</td>\n",
       "      <td>M</td>\n",
       "      <td>пенсионер</td>\n",
       "      <td>0</td>\n",
       "      <td>NaN</td>\n",
       "      <td>сыграть свадьбу</td>\n",
       "    </tr>\n",
       "    <tr>\n",
       "      <td>26</td>\n",
       "      <td>0</td>\n",
       "      <td>NaN</td>\n",
       "      <td>41</td>\n",
       "      <td>среднее</td>\n",
       "      <td>1</td>\n",
       "      <td>женат / замужем</td>\n",
       "      <td>0</td>\n",
       "      <td>M</td>\n",
       "      <td>госслужащий</td>\n",
       "      <td>0</td>\n",
       "      <td>NaN</td>\n",
       "      <td>образование</td>\n",
       "    </tr>\n",
       "    <tr>\n",
       "      <td>29</td>\n",
       "      <td>0</td>\n",
       "      <td>NaN</td>\n",
       "      <td>63</td>\n",
       "      <td>среднее</td>\n",
       "      <td>1</td>\n",
       "      <td>Не женат / не замужем</td>\n",
       "      <td>4</td>\n",
       "      <td>F</td>\n",
       "      <td>пенсионер</td>\n",
       "      <td>0</td>\n",
       "      <td>NaN</td>\n",
       "      <td>строительство жилой недвижимости</td>\n",
       "    </tr>\n",
       "    <tr>\n",
       "      <td>41</td>\n",
       "      <td>0</td>\n",
       "      <td>NaN</td>\n",
       "      <td>50</td>\n",
       "      <td>среднее</td>\n",
       "      <td>1</td>\n",
       "      <td>женат / замужем</td>\n",
       "      <td>0</td>\n",
       "      <td>F</td>\n",
       "      <td>госслужащий</td>\n",
       "      <td>0</td>\n",
       "      <td>NaN</td>\n",
       "      <td>сделка с подержанным автомобилем</td>\n",
       "    </tr>\n",
       "    <tr>\n",
       "      <td>55</td>\n",
       "      <td>0</td>\n",
       "      <td>NaN</td>\n",
       "      <td>54</td>\n",
       "      <td>среднее</td>\n",
       "      <td>1</td>\n",
       "      <td>гражданский брак</td>\n",
       "      <td>1</td>\n",
       "      <td>F</td>\n",
       "      <td>пенсионер</td>\n",
       "      <td>1</td>\n",
       "      <td>NaN</td>\n",
       "      <td>сыграть свадьбу</td>\n",
       "    </tr>\n",
       "  </tbody>\n",
       "</table>\n",
       "</div>"
      ],
      "text/plain": [
       "    children  days_employed  job_years education  education_id  \\\n",
       "12         0            NaN         65   среднее             1   \n",
       "26         0            NaN         41   среднее             1   \n",
       "29         0            NaN         63   среднее             1   \n",
       "41         0            NaN         50   среднее             1   \n",
       "55         0            NaN         54   среднее             1   \n",
       "\n",
       "            family_status  family_status_id gender  income_type  debt  \\\n",
       "12       гражданский брак                 1      M    пенсионер     0   \n",
       "26        женат / замужем                 0      M  госслужащий     0   \n",
       "29  Не женат / не замужем                 4      F    пенсионер     0   \n",
       "41        женат / замужем                 0      F  госслужащий     0   \n",
       "55       гражданский брак                 1      F    пенсионер     1   \n",
       "\n",
       "    total_income                           purpose  \n",
       "12           NaN                   сыграть свадьбу  \n",
       "26           NaN                       образование  \n",
       "29           NaN  строительство жилой недвижимости  \n",
       "41           NaN  сделка с подержанным автомобилем  \n",
       "55           NaN                   сыграть свадьбу  "
      ]
     },
     "execution_count": 62,
     "metadata": {},
     "output_type": "execute_result"
    }
   ],
   "source": [
    "#опишите, какие пропущенные значения вы обнаружили;\n",
    "df[df['days_employed'].isna()].head(5)"
   ]
  },
  {
   "cell_type": "code",
   "execution_count": 63,
   "id": "9a49d5a0",
   "metadata": {},
   "outputs": [
    {
     "name": "stdout",
     "output_type": "stream",
     "text": [
      " какую долю составляют пропущенные значения days_employed: 0.10099883855981417\n"
     ]
    }
   ],
   "source": [
    "#проверьте, какую долю составляют пропущенные значения в каждом из столбцов с пропусками;\n",
    "len_col1_lack=len(df[df['days_employed'].isna()]) \n",
    "len_all=len(df['days_employed'])\n",
    "print(' какую долю составляют пропущенные значения days_employed: '+str(len_col1_lack/len_all))"
   ]
  },
  {
   "cell_type": "code",
   "execution_count": 64,
   "id": "353adb78",
   "metadata": {},
   "outputs": [
    {
     "name": "stdout",
     "output_type": "stream",
     "text": [
      " какую долю составляют пропущенные значения total_income: 0.10099883855981417\n"
     ]
    }
   ],
   "source": [
    "#проверьте, какую долю составляют пропущенные значения в каждом из столбцов с пропусками;\n",
    "len_col2_lack=len(df[df['total_income'].isna()]) \n",
    "print(' какую долю составляют пропущенные значения total_income: '+str(len_col2_lack/len_all))"
   ]
  },
  {
   "cell_type": "markdown",
   "id": "f54e16bb",
   "metadata": {},
   "source": [
    "приведите возможные причины появления пропусков в данных;\n",
    "-Причина - отсутствие официальных данных о трудовом стаже и доходе\n",
    "\n",
    "объясните, почему заполнить пропуски медианным значением — лучшее решение для количественных переменных.\n",
    "-Таким образом, отсутствующие изначально значения будут меньше всего влиять на достоверность конечного результата(меньше аномалия).\n",
    "\n"
   ]
  },
  {
   "cell_type": "code",
   "execution_count": 65,
   "id": "aa5e638e",
   "metadata": {},
   "outputs": [
    {
     "name": "stdout",
     "output_type": "stream",
     "text": [
      "median_income: 145017.93753253992\n",
      "0\n"
     ]
    }
   ],
   "source": [
    "median_income = df['total_income'].median(skipna=True)\n",
    "print('median_income: '+str(median_income))\n",
    "df['total_income'] = df['total_income'].fillna(median_income)\n",
    "print(len(df[df['total_income'].isna()]))"
   ]
  },
  {
   "cell_type": "code",
   "execution_count": 66,
   "id": "d0d944ad",
   "metadata": {},
   "outputs": [
    {
     "name": "stdout",
     "output_type": "stream",
     "text": [
      "0\n",
      "<class 'pandas.core.frame.DataFrame'>\n",
      "RangeIndex: 21525 entries, 0 to 21524\n",
      "Data columns (total 12 columns):\n",
      "children            21525 non-null int64\n",
      "days_employed       21525 non-null float64\n",
      "job_years           21525 non-null int64\n",
      "education           21525 non-null object\n",
      "education_id        21525 non-null int64\n",
      "family_status       21525 non-null object\n",
      "family_status_id    21525 non-null int64\n",
      "gender              21525 non-null object\n",
      "income_type         21525 non-null object\n",
      "debt                21525 non-null int64\n",
      "total_income        21525 non-null float64\n",
      "purpose             21525 non-null object\n",
      "dtypes: float64(2), int64(5), object(5)\n",
      "memory usage: 2.0+ MB\n"
     ]
    }
   ],
   "source": [
    "median_days_employed = df['days_employed'].median(skipna=True)\n",
    "df['days_employed'] = df['days_employed'].fillna(median_days_employed)\n",
    "print(len(df[df['days_employed'].isna()]))\n",
    "\n",
    "#получим общую информацию о датафрейме\n",
    "df.info()"
   ]
  },
  {
   "cell_type": "markdown",
   "id": "b64dc279",
   "metadata": {},
   "source": [
    "### Шаг 2.2 Проверка данных на аномалии и исправления."
   ]
  },
  {
   "cell_type": "raw",
   "id": "8b1b1963",
   "metadata": {},
   "source": [
    "Ок, спасибо за понимание. Постараюсь не допускать подобных моментов в последующих работах."
   ]
  },
  {
   "cell_type": "code",
   "execution_count": null,
   "id": "ca0182b1",
   "metadata": {},
   "outputs": [],
   "source": []
  },
  {
   "cell_type": "raw",
   "id": "a4fc4f54",
   "metadata": {},
   "source": [
    "Данные в столбце 'children' представлены с несколькими, на мой взгляд, искажениями:  количество детей равно 20, у 76 семей, думаю это нереалистичные данные. "
   ]
  },
  {
   "cell_type": "code",
   "execution_count": 67,
   "id": "4a924b62",
   "metadata": {},
   "outputs": [
    {
     "name": "stdout",
     "output_type": "stream",
     "text": [
      "[ 1  0  3  2 -1  4 20  5]\n",
      " 0     14149\n",
      " 1      4818\n",
      " 2      2055\n",
      " 3       330\n",
      " 20       76\n",
      "-1        47\n",
      " 4        41\n",
      " 5         9\n",
      "Name: children, dtype: int64\n"
     ]
    }
   ],
   "source": [
    "print(df['children'].unique())\n",
    "print(df['children'].value_counts())"
   ]
  },
  {
   "cell_type": "markdown",
   "id": "3da82abe",
   "metadata": {},
   "source": [
    "Также есть отклонения с отрицательными значениями показателя, думаю, это тоже нереалистично. Исправим это заполнив значения медианным значением, рассчитанным из данных, без отклонений."
   ]
  },
  {
   "cell_type": "code",
   "execution_count": 68,
   "id": "c22c2b3d",
   "metadata": {},
   "outputs": [
    {
     "name": "stdout",
     "output_type": "stream",
     "text": [
      "children<0: 47\n",
      "median_children: 1\n",
      "children<0: 0\n",
      "children>=20: 76\n",
      "children>=20: 0\n"
     ]
    }
   ],
   "source": [
    "#'children'\n",
    "print('children<0: '+str(len(df[df['children']<0])))#отклонения с отрицательными значениями показателя, думаю, это тоже нереалистично\n",
    "\n",
    "median_children = int(df[df['children']>0]['children'].median(skipna=True))\n",
    "print('median_children: '+str(median_children)) #медианным значением, рассчитанным из данных, без отклонений.\n",
    "df.loc[df['children']<0,['children']] = median_children\n",
    "print('children<0: '+str(len(df[df['children']<0])))\n",
    "\n",
    "print('children>=20: '+str(len(df[df['children']>=20])))#  количество детей равно 20, у 76 семей, думаю это нереалистичные данные\n",
    "df.loc[df['children']==20,['children']] = median_children#медианным значением, рассчитанным из данных, без отклонений.\n",
    "print('children>=20: '+str(len(df[df['children']>=20])))"
   ]
  },
  {
   "cell_type": "code",
   "execution_count": null,
   "id": "257f5f8b",
   "metadata": {},
   "outputs": [],
   "source": []
  },
  {
   "cell_type": "code",
   "execution_count": 69,
   "id": "75e78932",
   "metadata": {},
   "outputs": [
    {
     "name": "stdout",
     "output_type": "stream",
     "text": [
      "days_employed<0: 18080\n",
      "21505    338904\n",
      "21508    386497\n",
      "21509    362161\n",
      "21518    373995\n",
      "21521    343937\n",
      "Name: days_employed, dtype: int64\n",
      "Series([], Name: days_employed, dtype: int64)\n",
      "21520      4529\n",
      "21521    343937\n",
      "21522      2113\n",
      "21523      3112\n",
      "21524      1984\n",
      "Name: days_employed, dtype: int64\n"
     ]
    }
   ],
   "source": [
    "#'days_employed'\n",
    "# вещественный тип данных в столбце  на целочисленный\n",
    "df['days_employed']=df['days_employed'].astype(int)\n",
    "\n",
    "#заменяем отрицательные значения \n",
    "print('days_employed<0: '+str(len(df[df['days_employed']<0])))\n",
    "\n",
    "# положительные значения = 365213 это ошибка\n",
    "df.loc[df['days_employed']==365213,['days_employed']] = 0\n",
    "print(df[df['days_employed']>0]['days_employed'].tail(5))\n",
    "\n",
    "df.loc[df['days_employed']<0,['days_employed']] = df.loc[df['days_employed']<0,['days_employed']] * (-1)\n",
    "print(df[df['days_employed']<0]['days_employed'].tail(5))\n",
    "\n",
    "print(df['days_employed'].tail(5))"
   ]
  },
  {
   "cell_type": "code",
   "execution_count": 70,
   "id": "e0ac6964",
   "metadata": {},
   "outputs": [
    {
     "name": "stdout",
     "output_type": "stream",
     "text": [
      "job_years<0: 0\n",
      "job_years>100: 0\n"
     ]
    }
   ],
   "source": [
    "print('job_years<0: '+str(len(df[df['job_years']<0])))\n",
    "print('job_years>100: '+str(len(df[df['job_years']>100])))"
   ]
  },
  {
   "cell_type": "code",
   "execution_count": 71,
   "id": "a428c7af",
   "metadata": {},
   "outputs": [
    {
     "name": "stdout",
     "output_type": "stream",
     "text": [
      "среднее                15233\n",
      "высшее                  5260\n",
      "неоконченное высшее      744\n",
      "начальное                282\n",
      "ученая степень             6\n",
      "Name: education, dtype: int64\n"
     ]
    }
   ],
   "source": [
    "#переводим к однотипному виду строки с образованием\n",
    "#видим что данные более полные чем education_id\n",
    "df.loc[df['education']=='СРЕДНЕЕ','education']= 'среднее'\n",
    "df.loc[df['education'] == 'Среднее','education']= 'среднее'\n",
    "df.loc[df['education'] == 'ВЫСШЕЕ','education']= 'высшее'\n",
    "df.loc[df['education'] == 'Высшее','education']= 'высшее'\n",
    "df.loc[df['education'] == 'Неоконченное высшее','education']= 'неоконченное высшее'\n",
    "df.loc[df['education'] == 'НЕОКОНЧЕННОЕ ВЫСШЕЕ','education']= 'неоконченное высшее'\n",
    "df.loc[df['education'] == 'НАЧАЛЬНОЕ','education']= 'начальное'\n",
    "df.loc[df['education'] == 'Начальное','education']= 'начальное'\n",
    "df.loc[df['education'] == 'Ученая степень','education']= 'ученая степень'\n",
    "df.loc[df['education'] == 'УЧЕНАЯ СТЕПЕНЬ','education']= 'ученая степень'\n",
    "print(df['education'].value_counts().head(30))\n",
    "\n",
    "# После удаления дубликатов сделайте следующее:\n",
    "#     -   поясните, как выбирали метод для поиска и удаления дубликатов в данных;\n",
    "# - визуально\n",
    "#     -   приведите возможные причины появления дубликатов.\n",
    "# - ошибка оператора "
   ]
  },
  {
   "cell_type": "markdown",
   "id": "03614cf6",
   "metadata": {},
   "source": [
    "Спасибо за рекомендацию, буду использовать в дальнейшем."
   ]
  },
  {
   "cell_type": "code",
   "execution_count": 72,
   "id": "21a69183",
   "metadata": {},
   "outputs": [
    {
     "name": "stdout",
     "output_type": "stream",
     "text": [
      "education_id<0: 0\n",
      "1    15233\n",
      "0     5260\n",
      "2      744\n",
      "Name: education_id, dtype: int64\n"
     ]
    }
   ],
   "source": [
    "print('education_id<0: '+str(len(df[df['education_id']<0])))\n",
    "print(df['education_id'].value_counts().head(3)) #double education"
   ]
  },
  {
   "cell_type": "code",
   "execution_count": 73,
   "id": "c117a2db",
   "metadata": {},
   "outputs": [
    {
     "name": "stdout",
     "output_type": "stream",
     "text": [
      "женат / замужем          12380\n",
      "гражданский брак          4177\n",
      "Не женат / не замужем     2813\n",
      "в разводе                 1195\n",
      "вдовец / вдова             960\n",
      "Name: family_status, dtype: int64\n"
     ]
    }
   ],
   "source": [
    "print(df['family_status'].value_counts())"
   ]
  },
  {
   "cell_type": "code",
   "execution_count": 74,
   "id": "6f1b8463",
   "metadata": {},
   "outputs": [
    {
     "name": "stdout",
     "output_type": "stream",
     "text": [
      "0    12380\n",
      "1     4177\n",
      "4     2813\n",
      "3     1195\n",
      "2      960\n",
      "Name: family_status_id, dtype: int64\n"
     ]
    }
   ],
   "source": [
    "print(df['family_status_id'].value_counts().head()) #double family_status"
   ]
  },
  {
   "cell_type": "code",
   "execution_count": 75,
   "id": "8db8c67f",
   "metadata": {},
   "outputs": [
    {
     "name": "stdout",
     "output_type": "stream",
     "text": [
      "F      14236\n",
      "M       7288\n",
      "XNA        1\n",
      "Name: gender, dtype: int64\n",
      "F    14236\n",
      "M     7288\n",
      "Name: gender, dtype: int64\n"
     ]
    }
   ],
   "source": [
    "print(df['gender'].value_counts())\n",
    "df.drop(df[df.gender=='XNA'].index, inplace = True)\n",
    "print(df['gender'].value_counts())"
   ]
  },
  {
   "cell_type": "code",
   "execution_count": 76,
   "id": "38ea033e",
   "metadata": {
    "scrolled": true
   },
   "outputs": [
    {
     "name": "stdout",
     "output_type": "stream",
     "text": [
      "сотрудник          11119\n",
      "компаньон           5084\n",
      "пенсионер           3856\n",
      "госслужащий         1459\n",
      "предприниматель        2\n",
      "безработный            2\n",
      "студент                1\n",
      "в декрете              1\n",
      "Name: income_type, dtype: int64\n"
     ]
    }
   ],
   "source": [
    "print(df['income_type'].value_counts())\n",
    "\n",
    "\n",
    "# После удаления дубликатов сделайте следующее:\n",
    "#     -   поясните, как выбирали метод для поиска и удаления дубликатов в данных;\n",
    "# - визуально\n",
    "#     -   приведите возможные причины появления дубликатов.\n",
    "# - ошибка оператора \n"
   ]
  },
  {
   "cell_type": "markdown",
   "id": "fb5b310e",
   "metadata": {},
   "source": [
    "Под влиянием недоказуемых соображений принял неправильное решение. Удалять не надо, исправил."
   ]
  },
  {
   "cell_type": "code",
   "execution_count": 77,
   "id": "4ae991a7",
   "metadata": {},
   "outputs": [
    {
     "name": "stdout",
     "output_type": "stream",
     "text": [
      "debt<=0: 19783\n",
      "debt>100: 0\n",
      "0    0\n",
      "1    0\n",
      "2    0\n",
      "3    0\n",
      "4    0\n",
      "Name: debt, dtype: int64\n",
      "14    1\n",
      "32    1\n",
      "38    1\n",
      "55    1\n",
      "75    1\n",
      "Name: debt, dtype: int64\n"
     ]
    }
   ],
   "source": [
    "print('debt<=0: '+str(len(df[df['debt']<=0])))\n",
    "print('debt>100: '+str(len(df[df['debt']>1000000])))\n",
    "print(df['debt'].head())\n",
    "print(df[df['debt']>0]['debt'].head())"
   ]
  },
  {
   "cell_type": "code",
   "execution_count": 78,
   "id": "482f1bad",
   "metadata": {},
   "outputs": [
    {
     "name": "stdout",
     "output_type": "stream",
     "text": [
      "total_income<0: 0\n",
      "total_income>1000000: 25\n"
     ]
    }
   ],
   "source": [
    "print('total_income<0: '+str(len(df[df['total_income']<0])))\n",
    "print('total_income>1000000: '+str(len(df[df['total_income']>1000000])))\n",
    "df['total_income']=df['total_income'].astype(int)"
   ]
  },
  {
   "cell_type": "code",
   "execution_count": 79,
   "id": "488992bb",
   "metadata": {},
   "outputs": [
    {
     "name": "stdout",
     "output_type": "stream",
     "text": [
      "присутствуют строки-дубликаты: 71\n",
      "присутствуют строки-дубликаты: 0\n"
     ]
    }
   ],
   "source": [
    "#Если в данных присутствуют строки-дубликаты, удалите их\n",
    "print('присутствуют строки-дубликаты: '+str(len(df[df.duplicated()])))\n",
    "df.drop(df[df.duplicated()].index, inplace = True)\n",
    "print('присутствуют строки-дубликаты: '+str(len(df[df.duplicated()])))"
   ]
  },
  {
   "cell_type": "code",
   "execution_count": 80,
   "id": "c669cf16",
   "metadata": {
    "scrolled": true
   },
   "outputs": [
    {
     "name": "stdout",
     "output_type": "stream",
     "text": [
      "<class 'pandas.core.frame.DataFrame'>\n",
      "Int64Index: 21453 entries, 0 to 21524\n",
      "Data columns (total 12 columns):\n",
      "children            21453 non-null int64\n",
      "days_employed       21453 non-null int64\n",
      "job_years           21453 non-null int64\n",
      "education           21453 non-null object\n",
      "education_id        21453 non-null int64\n",
      "family_status       21453 non-null object\n",
      "family_status_id    21453 non-null int64\n",
      "gender              21453 non-null object\n",
      "income_type         21453 non-null object\n",
      "debt                21453 non-null int64\n",
      "total_income        21453 non-null int64\n",
      "purpose             21453 non-null object\n",
      "dtypes: int64(7), object(5)\n",
      "memory usage: 2.1+ MB\n"
     ]
    }
   ],
   "source": [
    "df.info()"
   ]
  },
  {
   "cell_type": "markdown",
   "id": "8a51ce50",
   "metadata": {},
   "source": [
    "### Шаг 2.5. Формирование дополнительных датафреймов словарей, декомпозиция исходного датафрейма."
   ]
  },
  {
   "cell_type": "code",
   "execution_count": 81,
   "id": "0daffbac",
   "metadata": {},
   "outputs": [
    {
     "name": "stdout",
     "output_type": "stream",
     "text": [
      "<class 'pandas.core.frame.DataFrame'>\n",
      "Int64Index: 21453 entries, 0 to 21524\n",
      "Data columns (total 12 columns):\n",
      "children            21453 non-null int64\n",
      "days_employed       21453 non-null int64\n",
      "job_years           21453 non-null int64\n",
      "education           21453 non-null object\n",
      "education_id        21453 non-null int64\n",
      "family_status       21453 non-null object\n",
      "family_status_id    21453 non-null int64\n",
      "gender              21453 non-null object\n",
      "income_type         21453 non-null object\n",
      "debt                21453 non-null int64\n",
      "total_income        21453 non-null int64\n",
      "purpose             21453 non-null object\n",
      "dtypes: int64(7), object(5)\n",
      "memory usage: 2.1+ MB\n",
      "None\n",
      "<class 'pandas.core.frame.DataFrame'>\n",
      "Int64Index: 21453 entries, 0 to 21524\n",
      "Data columns (total 12 columns):\n",
      "children            21453 non-null int64\n",
      "days_employed       21453 non-null int64\n",
      "job_years           21453 non-null int64\n",
      "education           21453 non-null object\n",
      "education_id        21453 non-null int64\n",
      "family_status       21453 non-null object\n",
      "family_status_id    21453 non-null int64\n",
      "gender              21453 non-null object\n",
      "income_type         21453 non-null object\n",
      "debt                21453 non-null int64\n",
      "total_income        21453 non-null int64\n",
      "purpose             21453 non-null object\n",
      "dtypes: int64(7), object(5)\n",
      "memory usage: 2.1+ MB\n",
      "None\n"
     ]
    }
   ],
   "source": [
    "# 5.  Создайте два новых датафрейма со столбцами:\n",
    "#     -   `education_id` и `education` — в первом;\n",
    "#     -   `family_status_id` и `family_status` — во втором.\n",
    "\n",
    "df_ed = df.loc[:,['education_id','education']].copy()\n",
    "df_fa = df.loc[:,['family_status_id','family_status']].copy()\n",
    "\n",
    "# Удалите из исходного датафрейма столбцы `education` и `family_status`,\n",
    "# оставив только их идентификаторы: `education_id` и `family_status_id`.\n",
    "print(df.info())\n",
    "df.drop_duplicates(inplace=True)\n",
    "print(df.info())"
   ]
  },
  {
   "cell_type": "code",
   "execution_count": 82,
   "id": "f00bf4bf",
   "metadata": {},
   "outputs": [],
   "source": [
    "df_ed =df_ed.drop_duplicates().reset_index(drop=True)\n",
    "df_fa=df_fa.drop_duplicates().reset_index(drop=True)\n"
   ]
  },
  {
   "cell_type": "code",
   "execution_count": 83,
   "id": "f075230d",
   "metadata": {},
   "outputs": [
    {
     "data": {
      "text/html": [
       "<div>\n",
       "<style scoped>\n",
       "    .dataframe tbody tr th:only-of-type {\n",
       "        vertical-align: middle;\n",
       "    }\n",
       "\n",
       "    .dataframe tbody tr th {\n",
       "        vertical-align: top;\n",
       "    }\n",
       "\n",
       "    .dataframe thead th {\n",
       "        text-align: right;\n",
       "    }\n",
       "</style>\n",
       "<table border=\"1\" class=\"dataframe\">\n",
       "  <thead>\n",
       "    <tr style=\"text-align: right;\">\n",
       "      <th></th>\n",
       "      <th>education_id</th>\n",
       "      <th>education</th>\n",
       "    </tr>\n",
       "  </thead>\n",
       "  <tbody>\n",
       "    <tr>\n",
       "      <td>0</td>\n",
       "      <td>0</td>\n",
       "      <td>высшее</td>\n",
       "    </tr>\n",
       "    <tr>\n",
       "      <td>1</td>\n",
       "      <td>1</td>\n",
       "      <td>среднее</td>\n",
       "    </tr>\n",
       "    <tr>\n",
       "      <td>2</td>\n",
       "      <td>2</td>\n",
       "      <td>неоконченное высшее</td>\n",
       "    </tr>\n",
       "    <tr>\n",
       "      <td>3</td>\n",
       "      <td>3</td>\n",
       "      <td>начальное</td>\n",
       "    </tr>\n",
       "    <tr>\n",
       "      <td>4</td>\n",
       "      <td>4</td>\n",
       "      <td>ученая степень</td>\n",
       "    </tr>\n",
       "  </tbody>\n",
       "</table>\n",
       "</div>"
      ],
      "text/plain": [
       "   education_id            education\n",
       "0             0               высшее\n",
       "1             1              среднее\n",
       "2             2  неоконченное высшее\n",
       "3             3            начальное\n",
       "4             4       ученая степень"
      ]
     },
     "execution_count": 83,
     "metadata": {},
     "output_type": "execute_result"
    }
   ],
   "source": [
    "df_ed"
   ]
  },
  {
   "cell_type": "code",
   "execution_count": 84,
   "id": "49cac95f",
   "metadata": {},
   "outputs": [
    {
     "data": {
      "text/html": [
       "<div>\n",
       "<style scoped>\n",
       "    .dataframe tbody tr th:only-of-type {\n",
       "        vertical-align: middle;\n",
       "    }\n",
       "\n",
       "    .dataframe tbody tr th {\n",
       "        vertical-align: top;\n",
       "    }\n",
       "\n",
       "    .dataframe thead th {\n",
       "        text-align: right;\n",
       "    }\n",
       "</style>\n",
       "<table border=\"1\" class=\"dataframe\">\n",
       "  <thead>\n",
       "    <tr style=\"text-align: right;\">\n",
       "      <th></th>\n",
       "      <th>family_status_id</th>\n",
       "      <th>family_status</th>\n",
       "    </tr>\n",
       "  </thead>\n",
       "  <tbody>\n",
       "    <tr>\n",
       "      <td>0</td>\n",
       "      <td>0</td>\n",
       "      <td>женат / замужем</td>\n",
       "    </tr>\n",
       "    <tr>\n",
       "      <td>1</td>\n",
       "      <td>1</td>\n",
       "      <td>гражданский брак</td>\n",
       "    </tr>\n",
       "    <tr>\n",
       "      <td>2</td>\n",
       "      <td>2</td>\n",
       "      <td>вдовец / вдова</td>\n",
       "    </tr>\n",
       "    <tr>\n",
       "      <td>3</td>\n",
       "      <td>3</td>\n",
       "      <td>в разводе</td>\n",
       "    </tr>\n",
       "    <tr>\n",
       "      <td>4</td>\n",
       "      <td>4</td>\n",
       "      <td>Не женат / не замужем</td>\n",
       "    </tr>\n",
       "  </tbody>\n",
       "</table>\n",
       "</div>"
      ],
      "text/plain": [
       "   family_status_id          family_status\n",
       "0                 0        женат / замужем\n",
       "1                 1       гражданский брак\n",
       "2                 2         вдовец / вдова\n",
       "3                 3              в разводе\n",
       "4                 4  Не женат / не замужем"
      ]
     },
     "execution_count": 84,
     "metadata": {},
     "output_type": "execute_result"
    }
   ],
   "source": [
    "df_fa"
   ]
  },
  {
   "cell_type": "code",
   "execution_count": null,
   "id": "d8168942",
   "metadata": {},
   "outputs": [],
   "source": []
  },
  {
   "cell_type": "markdown",
   "id": "ac138ce8",
   "metadata": {},
   "source": [
    "### Шаг 2.6. Категоризация дохода."
   ]
  },
  {
   "cell_type": "code",
   "execution_count": 85,
   "id": "52a8165d",
   "metadata": {},
   "outputs": [
    {
     "name": "stdout",
     "output_type": "stream",
     "text": [
      "C\n"
     ]
    },
    {
     "data": {
      "text/plain": [
       "0    B\n",
       "1    C\n",
       "2    C\n",
       "3    B\n",
       "4    C\n",
       "5    B\n",
       "6    B\n",
       "7    C\n",
       "8    C\n",
       "9    C\n",
       "Name: total_income_category, dtype: object"
      ]
     },
     "execution_count": 85,
     "metadata": {},
     "output_type": "execute_result"
    }
   ],
   "source": [
    "# 6.  На основании диапазонов, указанных ниже, создайте столбец `total_income_category` с категориями:\n",
    "#     -   0–30000 — `'E'`;\n",
    "#     -   30001–50000 — `'D'`;\n",
    "#     -   50001–200000 — `'C'`;\n",
    "#     -   200001–1000000 — `'B'`;\n",
    "#     -   1000001 и выше — `'A'`.\n",
    "\n",
    "def cat_income(total_income):\n",
    "    if total_income <30000:\n",
    "        return 'E'\n",
    "    elif total_income <50000:\n",
    "        return 'D'\n",
    "    elif total_income <200000:\n",
    "        return 'C'\n",
    "    elif total_income <1000000:\n",
    "        return 'B'\n",
    "    elif total_income >1000000:\n",
    "        return 'A'\n",
    "    else: return 'X'\n",
    "\n",
    "print (cat_income(55000))\n",
    "df['total_income_category']=df['total_income'].apply(cat_income)\n",
    "df['total_income_category'].head(10)"
   ]
  },
  {
   "cell_type": "code",
   "execution_count": null,
   "id": "78dbb0ea",
   "metadata": {},
   "outputs": [],
   "source": []
  },
  {
   "cell_type": "markdown",
   "id": "b128dc96",
   "metadata": {},
   "source": [
    "### Шаг 2.7. Категоризация целей кредита."
   ]
  },
  {
   "cell_type": "code",
   "execution_count": 86,
   "id": "b3e5dd7c",
   "metadata": {},
   "outputs": [
    {
     "name": "stdout",
     "output_type": "stream",
     "text": [
      "операции с автомобилем\n"
     ]
    },
    {
     "data": {
      "text/plain": [
       "операции с недвижимостью    10810\n",
       "операции с автомобилем       4306\n",
       "получение образования        4013\n",
       "проведение свадьбы           2324\n",
       "Name: purpose_category, dtype: int64"
      ]
     },
     "execution_count": 86,
     "metadata": {},
     "output_type": "execute_result"
    }
   ],
   "source": [
    "# 7.  Создайте функцию, которая на основании данных из столбца `purpose` сформирует новый столбец \n",
    "#`purpose_category`, в который войдут следующие категории:\n",
    "#     -   `'операции с автомобилем'`,\n",
    "#     -   `'операции с недвижимостью'`,\n",
    "#     -   `'проведение свадьбы'`,\n",
    "#     -   `'получение образования'`.\n",
    "\n",
    "#print(df['purpose'].value_counts())\n",
    "#варианты с ключевыми словами\n",
    "# свадьб\n",
    "# недвижимост жиль\n",
    "# автомобил\n",
    "# образован\n",
    "\n",
    "def cat_purp(purpose):\n",
    "    if 'автомобил' in purpose:\n",
    "        return 'операции с автомобилем'\n",
    "    elif 'недвижимост' in purpose:\n",
    "        return 'операции с недвижимостью'\n",
    "    elif 'свадьб' in purpose:\n",
    "        return 'проведение свадьбы'\n",
    "    elif 'образован' in purpose:\n",
    "        return 'получение образования'\n",
    "    elif 'жиль' in purpose:\n",
    "        return 'операции с недвижимостью'\n",
    "    else: return 'X'\n",
    "\n",
    "print (cat_purp('автомобилист'))\n",
    "df['purpose_category']=df['purpose'].apply(cat_purp)\n",
    "df['purpose_category'].value_counts()"
   ]
  },
  {
   "cell_type": "markdown",
   "id": "2127e7cf",
   "metadata": {},
   "source": [
    "Вывод по шагу предобработки данных: В ходе анализа данных были \n",
    "    выявлены недостатки, в частности дубликаты, некорректные данные, \n",
    "    все они были откорректированы для получения более подходящего материала для дальнейшей обработки.\n",
    "    "
   ]
  },
  {
   "cell_type": "markdown",
   "id": "e9373861",
   "metadata": {},
   "source": [
    "### Ответы на вопросы."
   ]
  },
  {
   "cell_type": "code",
   "execution_count": 87,
   "id": "729274f7",
   "metadata": {},
   "outputs": [
    {
     "data": {
      "text/html": [
       "<div>\n",
       "<style scoped>\n",
       "    .dataframe tbody tr th:only-of-type {\n",
       "        vertical-align: middle;\n",
       "    }\n",
       "\n",
       "    .dataframe tbody tr th {\n",
       "        vertical-align: top;\n",
       "    }\n",
       "\n",
       "    .dataframe thead tr th {\n",
       "        text-align: left;\n",
       "    }\n",
       "\n",
       "    .dataframe thead tr:last-of-type th {\n",
       "        text-align: right;\n",
       "    }\n",
       "</style>\n",
       "<table border=\"1\" class=\"dataframe\">\n",
       "  <thead>\n",
       "    <tr>\n",
       "      <th></th>\n",
       "      <th>count</th>\n",
       "      <th>sum</th>\n",
       "      <th>mean</th>\n",
       "    </tr>\n",
       "    <tr>\n",
       "      <th></th>\n",
       "      <th>debt</th>\n",
       "      <th>debt</th>\n",
       "      <th>debt</th>\n",
       "    </tr>\n",
       "    <tr>\n",
       "      <th>purpose_category</th>\n",
       "      <th></th>\n",
       "      <th></th>\n",
       "      <th></th>\n",
       "    </tr>\n",
       "  </thead>\n",
       "  <tbody>\n",
       "    <tr>\n",
       "      <td>операции с автомобилем</td>\n",
       "      <td>4306</td>\n",
       "      <td>403</td>\n",
       "      <td>0.093590</td>\n",
       "    </tr>\n",
       "    <tr>\n",
       "      <td>операции с недвижимостью</td>\n",
       "      <td>10810</td>\n",
       "      <td>782</td>\n",
       "      <td>0.072340</td>\n",
       "    </tr>\n",
       "    <tr>\n",
       "      <td>получение образования</td>\n",
       "      <td>4013</td>\n",
       "      <td>370</td>\n",
       "      <td>0.092200</td>\n",
       "    </tr>\n",
       "    <tr>\n",
       "      <td>проведение свадьбы</td>\n",
       "      <td>2324</td>\n",
       "      <td>186</td>\n",
       "      <td>0.080034</td>\n",
       "    </tr>\n",
       "  </tbody>\n",
       "</table>\n",
       "</div>"
      ],
      "text/plain": [
       "                          count  sum      mean\n",
       "                           debt debt      debt\n",
       "purpose_category                              \n",
       "операции с автомобилем     4306  403  0.093590\n",
       "операции с недвижимостью  10810  782  0.072340\n",
       "получение образования      4013  370  0.092200\n",
       "проведение свадьбы         2324  186  0.080034"
      ]
     },
     "execution_count": 87,
     "metadata": {},
     "output_type": "execute_result"
    }
   ],
   "source": [
    "df.pivot_table(index = ['purpose_category'], values =  'debt', aggfunc = ['count','sum','mean'])"
   ]
  },
  {
   "cell_type": "markdown",
   "id": "bd969666",
   "metadata": {},
   "source": [
    "\"Проблемные\" клиенты это с назначением кредита на операции с автомобилем и получение образования."
   ]
  },
  {
   "cell_type": "code",
   "execution_count": null,
   "id": "65478936",
   "metadata": {},
   "outputs": [],
   "source": []
  },
  {
   "cell_type": "code",
   "execution_count": 88,
   "id": "ca13aca0",
   "metadata": {},
   "outputs": [
    {
     "data": {
      "text/html": [
       "<div>\n",
       "<style scoped>\n",
       "    .dataframe tbody tr th:only-of-type {\n",
       "        vertical-align: middle;\n",
       "    }\n",
       "\n",
       "    .dataframe tbody tr th {\n",
       "        vertical-align: top;\n",
       "    }\n",
       "\n",
       "    .dataframe thead tr th {\n",
       "        text-align: left;\n",
       "    }\n",
       "\n",
       "    .dataframe thead tr:last-of-type th {\n",
       "        text-align: right;\n",
       "    }\n",
       "</style>\n",
       "<table border=\"1\" class=\"dataframe\">\n",
       "  <thead>\n",
       "    <tr>\n",
       "      <th></th>\n",
       "      <th>count</th>\n",
       "      <th>sum</th>\n",
       "      <th>mean</th>\n",
       "    </tr>\n",
       "    <tr>\n",
       "      <th></th>\n",
       "      <th>debt</th>\n",
       "      <th>debt</th>\n",
       "      <th>debt</th>\n",
       "    </tr>\n",
       "    <tr>\n",
       "      <th>family_status_id</th>\n",
       "      <th></th>\n",
       "      <th></th>\n",
       "      <th></th>\n",
       "    </tr>\n",
       "  </thead>\n",
       "  <tbody>\n",
       "    <tr>\n",
       "      <td>0</td>\n",
       "      <td>12339</td>\n",
       "      <td>931</td>\n",
       "      <td>0.075452</td>\n",
       "    </tr>\n",
       "    <tr>\n",
       "      <td>1</td>\n",
       "      <td>4150</td>\n",
       "      <td>388</td>\n",
       "      <td>0.093494</td>\n",
       "    </tr>\n",
       "    <tr>\n",
       "      <td>2</td>\n",
       "      <td>959</td>\n",
       "      <td>63</td>\n",
       "      <td>0.065693</td>\n",
       "    </tr>\n",
       "    <tr>\n",
       "      <td>3</td>\n",
       "      <td>1195</td>\n",
       "      <td>85</td>\n",
       "      <td>0.071130</td>\n",
       "    </tr>\n",
       "    <tr>\n",
       "      <td>4</td>\n",
       "      <td>2810</td>\n",
       "      <td>274</td>\n",
       "      <td>0.097509</td>\n",
       "    </tr>\n",
       "  </tbody>\n",
       "</table>\n",
       "</div>"
      ],
      "text/plain": [
       "                  count  sum      mean\n",
       "                   debt debt      debt\n",
       "family_status_id                      \n",
       "0                 12339  931  0.075452\n",
       "1                  4150  388  0.093494\n",
       "2                   959   63  0.065693\n",
       "3                  1195   85  0.071130\n",
       "4                  2810  274  0.097509"
      ]
     },
     "execution_count": 88,
     "metadata": {},
     "output_type": "execute_result"
    }
   ],
   "source": [
    "df.pivot_table(index = ['family_status_id'], values =  'debt', aggfunc = ['count','sum','mean'])"
   ]
  },
  {
   "cell_type": "markdown",
   "id": "cc17803b",
   "metadata": {},
   "source": [
    "\"Проблемные\" клиенты это с 1 и 4 типами семей"
   ]
  },
  {
   "cell_type": "markdown",
   "id": "237483f6",
   "metadata": {},
   "source": [
    "женат / замужем           0\n",
    "гражданский брак          1\n",
    "Не женат / не замужем     4\n",
    "в разводе                 3\n",
    "вдовец / вдова            2"
   ]
  },
  {
   "cell_type": "code",
   "execution_count": 89,
   "id": "b530ee6e",
   "metadata": {},
   "outputs": [
    {
     "data": {
      "text/html": [
       "<div>\n",
       "<style scoped>\n",
       "    .dataframe tbody tr th:only-of-type {\n",
       "        vertical-align: middle;\n",
       "    }\n",
       "\n",
       "    .dataframe tbody tr th {\n",
       "        vertical-align: top;\n",
       "    }\n",
       "\n",
       "    .dataframe thead tr th {\n",
       "        text-align: left;\n",
       "    }\n",
       "\n",
       "    .dataframe thead tr:last-of-type th {\n",
       "        text-align: right;\n",
       "    }\n",
       "</style>\n",
       "<table border=\"1\" class=\"dataframe\">\n",
       "  <thead>\n",
       "    <tr>\n",
       "      <th></th>\n",
       "      <th>count</th>\n",
       "      <th>sum</th>\n",
       "      <th>mean</th>\n",
       "    </tr>\n",
       "    <tr>\n",
       "      <th></th>\n",
       "      <th>debt</th>\n",
       "      <th>debt</th>\n",
       "      <th>debt</th>\n",
       "    </tr>\n",
       "    <tr>\n",
       "      <th>total_income_category</th>\n",
       "      <th></th>\n",
       "      <th></th>\n",
       "      <th></th>\n",
       "    </tr>\n",
       "  </thead>\n",
       "  <tbody>\n",
       "    <tr>\n",
       "      <td>A</td>\n",
       "      <td>25</td>\n",
       "      <td>2</td>\n",
       "      <td>0.080000</td>\n",
       "    </tr>\n",
       "    <tr>\n",
       "      <td>B</td>\n",
       "      <td>5040</td>\n",
       "      <td>356</td>\n",
       "      <td>0.070635</td>\n",
       "    </tr>\n",
       "    <tr>\n",
       "      <td>C</td>\n",
       "      <td>16016</td>\n",
       "      <td>1360</td>\n",
       "      <td>0.084915</td>\n",
       "    </tr>\n",
       "    <tr>\n",
       "      <td>D</td>\n",
       "      <td>350</td>\n",
       "      <td>21</td>\n",
       "      <td>0.060000</td>\n",
       "    </tr>\n",
       "    <tr>\n",
       "      <td>E</td>\n",
       "      <td>22</td>\n",
       "      <td>2</td>\n",
       "      <td>0.090909</td>\n",
       "    </tr>\n",
       "  </tbody>\n",
       "</table>\n",
       "</div>"
      ],
      "text/plain": [
       "                       count   sum      mean\n",
       "                        debt  debt      debt\n",
       "total_income_category                       \n",
       "A                         25     2  0.080000\n",
       "B                       5040   356  0.070635\n",
       "C                      16016  1360  0.084915\n",
       "D                        350    21  0.060000\n",
       "E                         22     2  0.090909"
      ]
     },
     "execution_count": 89,
     "metadata": {},
     "output_type": "execute_result"
    }
   ],
   "source": [
    "df.pivot_table(index = ['total_income_category'], values =  'debt', aggfunc = ['count','sum','mean'])"
   ]
  },
  {
   "cell_type": "markdown",
   "id": "846409a8",
   "metadata": {},
   "source": [
    "\"Проблемные\" клиенты это с Е и С категорией дохода"
   ]
  },
  {
   "cell_type": "code",
   "execution_count": null,
   "id": "acff4633",
   "metadata": {},
   "outputs": [],
   "source": []
  },
  {
   "cell_type": "code",
   "execution_count": 90,
   "id": "ced1cc5a",
   "metadata": {},
   "outputs": [
    {
     "data": {
      "text/html": [
       "<div>\n",
       "<style scoped>\n",
       "    .dataframe tbody tr th:only-of-type {\n",
       "        vertical-align: middle;\n",
       "    }\n",
       "\n",
       "    .dataframe tbody tr th {\n",
       "        vertical-align: top;\n",
       "    }\n",
       "\n",
       "    .dataframe thead tr th {\n",
       "        text-align: left;\n",
       "    }\n",
       "\n",
       "    .dataframe thead tr:last-of-type th {\n",
       "        text-align: right;\n",
       "    }\n",
       "</style>\n",
       "<table border=\"1\" class=\"dataframe\">\n",
       "  <thead>\n",
       "    <tr>\n",
       "      <th></th>\n",
       "      <th>count</th>\n",
       "      <th>sum</th>\n",
       "      <th>mean</th>\n",
       "    </tr>\n",
       "    <tr>\n",
       "      <th></th>\n",
       "      <th>debt</th>\n",
       "      <th>debt</th>\n",
       "      <th>debt</th>\n",
       "    </tr>\n",
       "    <tr>\n",
       "      <th>children</th>\n",
       "      <th></th>\n",
       "      <th></th>\n",
       "      <th></th>\n",
       "    </tr>\n",
       "  </thead>\n",
       "  <tbody>\n",
       "    <tr>\n",
       "      <td>0</td>\n",
       "      <td>14090</td>\n",
       "      <td>1063</td>\n",
       "      <td>0.075444</td>\n",
       "    </tr>\n",
       "    <tr>\n",
       "      <td>1</td>\n",
       "      <td>4931</td>\n",
       "      <td>453</td>\n",
       "      <td>0.091868</td>\n",
       "    </tr>\n",
       "    <tr>\n",
       "      <td>2</td>\n",
       "      <td>2052</td>\n",
       "      <td>194</td>\n",
       "      <td>0.094542</td>\n",
       "    </tr>\n",
       "    <tr>\n",
       "      <td>3</td>\n",
       "      <td>330</td>\n",
       "      <td>27</td>\n",
       "      <td>0.081818</td>\n",
       "    </tr>\n",
       "    <tr>\n",
       "      <td>4</td>\n",
       "      <td>41</td>\n",
       "      <td>4</td>\n",
       "      <td>0.097561</td>\n",
       "    </tr>\n",
       "    <tr>\n",
       "      <td>5</td>\n",
       "      <td>9</td>\n",
       "      <td>0</td>\n",
       "      <td>0.000000</td>\n",
       "    </tr>\n",
       "  </tbody>\n",
       "</table>\n",
       "</div>"
      ],
      "text/plain": [
       "          count   sum      mean\n",
       "           debt  debt      debt\n",
       "children                       \n",
       "0         14090  1063  0.075444\n",
       "1          4931   453  0.091868\n",
       "2          2052   194  0.094542\n",
       "3           330    27  0.081818\n",
       "4            41     4  0.097561\n",
       "5             9     0  0.000000"
      ]
     },
     "execution_count": 90,
     "metadata": {},
     "output_type": "execute_result"
    }
   ],
   "source": [
    " df.pivot_table(index = ['children'], values =  'debt', aggfunc = ['count','sum','mean'])"
   ]
  },
  {
   "cell_type": "markdown",
   "id": "c166c06a",
   "metadata": {},
   "source": [
    "\"Проблемные\" клиенты это с 1,2 и 4 детьми."
   ]
  },
  {
   "cell_type": "markdown",
   "id": "9e0f9c77",
   "metadata": {},
   "source": [
    "Пересчитал доли по формуле."
   ]
  },
  {
   "cell_type": "markdown",
   "id": "750951ad",
   "metadata": {},
   "source": [
    "## Общий вывод:"
   ]
  },
  {
   "cell_type": "markdown",
   "id": "3b1ccf95",
   "metadata": {},
   "source": [
    "Задача:  Нужно разобраться, влияет ли семейное положение и количество детей клиента на факт погашения кредита в срок. \n",
    "\n",
    "Общий вывод: В проведённом исследовании были использованы данные о платежеспособности различных категорий клиентов. Данные были очищены от аномалий и приведены к виду удобному для получения выводов, а именно - на завершающих таблицах  мы видим доли должников по категориям. Исходя из результатов можно сделать следующий вывод - семейное положение влияет на факт погашения кредита в срок, количество детей тоже влияет, но чуть менее заметно.\n"
   ]
  }
 ],
 "metadata": {
  "kernelspec": {
   "display_name": "Python 3",
   "language": "python",
   "name": "python3"
  },
  "language_info": {
   "codemirror_mode": {
    "name": "ipython",
    "version": 3
   },
   "file_extension": ".py",
   "mimetype": "text/x-python",
   "name": "python",
   "nbconvert_exporter": "python",
   "pygments_lexer": "ipython3",
   "version": "3.8.8"
  },
  "toc": {
   "base_numbering": 1,
   "nav_menu": {},
   "number_sections": true,
   "sideBar": true,
   "skip_h1_title": false,
   "title_cell": "Table of Contents",
   "title_sidebar": "Contents",
   "toc_cell": false,
   "toc_position": {},
   "toc_section_display": true,
   "toc_window_display": false
  }
 },
 "nbformat": 4,
 "nbformat_minor": 5
}
