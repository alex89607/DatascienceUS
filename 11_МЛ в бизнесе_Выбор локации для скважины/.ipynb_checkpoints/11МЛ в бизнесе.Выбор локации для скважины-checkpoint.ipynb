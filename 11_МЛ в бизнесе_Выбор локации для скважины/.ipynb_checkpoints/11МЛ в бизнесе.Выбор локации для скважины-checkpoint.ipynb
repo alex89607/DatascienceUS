{
 "cells": [
  {
   "cell_type": "code",
   "execution_count": 42,
   "id": "a245f42b",
   "metadata": {},
   "outputs": [],
   "source": [
    "# импортируем библиотеки\n",
    "from IPython.display import display\n",
    "from sklearn.model_selection import train_test_split\n",
    "from sklearn.metrics import mean_squared_error\n",
    "from sklearn.metrics import accuracy_score\n",
    "from random import randint\n",
    "\n",
    "import numpy as np\n",
    "import os\n",
    "import pandas as pd\n",
    "from sklearn.linear_model import LinearRegression\n",
    "from sklearn.preprocessing import StandardScaler \n",
    "\n",
    "pd.options.display.max_columns = None"
   ]
  },
  {
   "cell_type": "markdown",
   "id": "91048743",
   "metadata": {},
   "source": [
    "# Цель проекта"
   ]
  },
  {
   "cell_type": "markdown",
   "id": "5afa1f48",
   "metadata": {},
   "source": [
    "вы работаете в добывающей компании «ГлавРосГосНефть». Нужно решить, где бурить новую скважину.\n",
    "\n",
    "Шаги для выбора локации обычно такие:\n",
    "\n",
    "-   В избранном регионе собирают характеристики для скважин: качество нефти и объём её запасов;\n",
    "-   Строят модель для предсказания объёма запасов в новых скважинах;\n",
    "-   Выбирают скважины с самыми высокими оценками значений;\n",
    "-   Определяют регион с максимальной суммарной прибылью отобранных скважин.\n",
    "\n",
    "Вам предоставлены пробы нефти в трёх регионах. Характеристики для каждой скважины в регионе уже известны. Постройте модель для определения региона, где добыча принесёт наибольшую прибыль. Проанализируйте возможную прибыль и риски техникой _Bootstrap._\n",
    "\n",
    "\n"
   ]
  },
  {
   "cell_type": "markdown",
   "id": "2428bc70",
   "metadata": {},
   "source": [
    "Цель проекта: определить один из трёх регионов, гдед обыча принесет наибольшую прибыль"
   ]
  },
  {
   "cell_type": "markdown",
   "id": "0e9d2033",
   "metadata": {},
   "source": [
    "### Загрузите и подготовьте данные. Поясните порядок действий."
   ]
  },
  {
   "cell_type": "code",
   "execution_count": 43,
   "id": "63a41800",
   "metadata": {},
   "outputs": [],
   "source": [
    "#импортируем данные\n",
    "sources = {}\n",
    "filelist=['geo_data_2','geo_data_0','geo_data_1']\n",
    "\n",
    "for f in filelist:\n",
    "    pth12 = '/datasets/'+f+'.csv'\n",
    "    pth11 =f+'.csv'\n",
    "\n",
    "    if os.path.exists(pth12):\n",
    "        sources[f] = pd.read_csv(pth12)\n",
    "    elif os.path.exists(pth11):\n",
    "        sources[f] = pd.read_csv(pth11)\n",
    "    else:\n",
    "        print('Something is wrong')"
   ]
  },
  {
   "cell_type": "code",
   "execution_count": 44,
   "id": "7bc4339b",
   "metadata": {},
   "outputs": [
    {
     "name": "stdout",
     "output_type": "stream",
     "text": [
      "<class 'pandas.core.frame.DataFrame'>\n",
      "RangeIndex: 100000 entries, 0 to 99999\n",
      "Data columns (total 5 columns):\n",
      " #   Column   Non-Null Count   Dtype  \n",
      "---  ------   --------------   -----  \n",
      " 0   id       100000 non-null  object \n",
      " 1   f0       100000 non-null  float64\n",
      " 2   f1       100000 non-null  float64\n",
      " 3   f2       100000 non-null  float64\n",
      " 4   product  100000 non-null  float64\n",
      "dtypes: float64(4), object(1)\n",
      "memory usage: 3.8+ MB\n"
     ]
    },
    {
     "data": {
      "text/plain": [
       "None"
      ]
     },
     "metadata": {},
     "output_type": "display_data"
    },
    {
     "data": {
      "text/html": [
       "<div>\n",
       "<style scoped>\n",
       "    .dataframe tbody tr th:only-of-type {\n",
       "        vertical-align: middle;\n",
       "    }\n",
       "\n",
       "    .dataframe tbody tr th {\n",
       "        vertical-align: top;\n",
       "    }\n",
       "\n",
       "    .dataframe thead th {\n",
       "        text-align: right;\n",
       "    }\n",
       "</style>\n",
       "<table border=\"1\" class=\"dataframe\">\n",
       "  <thead>\n",
       "    <tr style=\"text-align: right;\">\n",
       "      <th></th>\n",
       "      <th>id</th>\n",
       "      <th>f0</th>\n",
       "      <th>f1</th>\n",
       "      <th>f2</th>\n",
       "      <th>product</th>\n",
       "    </tr>\n",
       "  </thead>\n",
       "  <tbody>\n",
       "    <tr>\n",
       "      <th>37989</th>\n",
       "      <td>CO1Hp</td>\n",
       "      <td>3.873058</td>\n",
       "      <td>0.060201</td>\n",
       "      <td>-0.742090</td>\n",
       "      <td>137.340943</td>\n",
       "    </tr>\n",
       "    <tr>\n",
       "      <th>30283</th>\n",
       "      <td>5zcTw</td>\n",
       "      <td>-0.633226</td>\n",
       "      <td>-0.203539</td>\n",
       "      <td>7.442949</td>\n",
       "      <td>110.260765</td>\n",
       "    </tr>\n",
       "    <tr>\n",
       "      <th>29444</th>\n",
       "      <td>8gwpX</td>\n",
       "      <td>0.704070</td>\n",
       "      <td>0.306076</td>\n",
       "      <td>4.777151</td>\n",
       "      <td>142.437417</td>\n",
       "    </tr>\n",
       "    <tr>\n",
       "      <th>91583</th>\n",
       "      <td>SrtEL</td>\n",
       "      <td>-0.070279</td>\n",
       "      <td>2.663167</td>\n",
       "      <td>4.559973</td>\n",
       "      <td>79.759576</td>\n",
       "    </tr>\n",
       "    <tr>\n",
       "      <th>93840</th>\n",
       "      <td>v6hCs</td>\n",
       "      <td>1.469478</td>\n",
       "      <td>-0.282742</td>\n",
       "      <td>3.405149</td>\n",
       "      <td>142.420077</td>\n",
       "    </tr>\n",
       "  </tbody>\n",
       "</table>\n",
       "</div>"
      ],
      "text/plain": [
       "          id        f0        f1        f2     product\n",
       "37989  CO1Hp  3.873058  0.060201 -0.742090  137.340943\n",
       "30283  5zcTw -0.633226 -0.203539  7.442949  110.260765\n",
       "29444  8gwpX  0.704070  0.306076  4.777151  142.437417\n",
       "91583  SrtEL -0.070279  2.663167  4.559973   79.759576\n",
       "93840  v6hCs  1.469478 -0.282742  3.405149  142.420077"
      ]
     },
     "metadata": {},
     "output_type": "display_data"
    }
   ],
   "source": [
    "display(sources['geo_data_2'].info())\n",
    "display(sources['geo_data_2'].sample(5))"
   ]
  },
  {
   "cell_type": "markdown",
   "id": "b4d50a69",
   "metadata": {},
   "source": [
    "# Обучите и проверьте модель для каждого региона:"
   ]
  },
  {
   "cell_type": "markdown",
   "id": "0dce9bd2",
   "metadata": {},
   "source": [
    "подготовим словарь для результатов предсказаний, с ключами по названиям месторождений:"
   ]
  },
  {
   "cell_type": "code",
   "execution_count": 45,
   "id": "c840ce15",
   "metadata": {},
   "outputs": [],
   "source": [
    "results = {}"
   ]
  },
  {
   "cell_type": "markdown",
   "id": "f8b63fd9",
   "metadata": {
    "pycharm": {
     "is_executing": true,
     "name": "#%%\n"
    }
   },
   "source": [
    "##### Инициализация модели линейной регрессии"
   ]
  },
  {
   "cell_type": "code",
   "execution_count": 46,
   "id": "7cc15924",
   "metadata": {},
   "outputs": [],
   "source": [
    "def get_predictions(df,results,data_name):\n",
    "    features_in = df.drop(['product','id'], axis=1)\n",
    "    target_in = df['product']\n",
    "\n",
    "    features_train, features_valid, target_train, target_valid = train_test_split(\n",
    "       features_in, target_in, test_size=0.25, random_state=12345)\n",
    "    \n",
    "    scaler = StandardScaler()\n",
    "    scaler.fit(features_train) \n",
    "\n",
    "    features_train = scaler.transform(features_train)\n",
    "    features_valid = scaler.transform(features_valid) \n",
    "    features_in = scaler.transform(features_in) \n",
    "    \n",
    "    ##### Обучите модель и сделайте предсказания на валидационной выборке.\n",
    "    model = LinearRegression()\n",
    "    model.fit(features_train,target_train)\n",
    "    predictions = model.predict(features_in)\n",
    "\n",
    "    \n",
    "    score = model.score(features_valid, target_valid)\n",
    "    print('model.score',score)\n",
    "\n",
    "    ##### Сохраните предсказания и правильные ответы на валидационной выборке.     \n",
    "    results[data_name] = pd.merge(pd.DataFrame(predictions),df['id'],left_index=True, right_index=True)    \n",
    "\n",
    "    ##### Напечатайте на экране средний запас предсказанного сырья и _RMSE_ модели.\n",
    "    from sklearn.metrics import mean_squared_error\n",
    "    print('средний запас предсказанного сырья :',predictions.mean())\n",
    "\n",
    "    mse = mean_squared_error(target_in, predictions)\n",
    "    rmse = mse ** 0.5\n",
    "    print('_RMSE_ модели:', rmse)\n",
    "\n",
    "    return results"
   ]
  },
  {
   "cell_type": "markdown",
   "id": "56ba6d86",
   "metadata": {},
   "source": [
    "Обучим модели и получим предсказания по каждому месторождению:"
   ]
  },
  {
   "cell_type": "code",
   "execution_count": 47,
   "id": "b4693a35",
   "metadata": {},
   "outputs": [
    {
     "name": "stdout",
     "output_type": "stream",
     "text": [
      "\n",
      " Месторождение: geo_data_2\n",
      "model.score 0.20524758386040443\n",
      "средний запас предсказанного сырья : 95.02020328978764\n",
      "_RMSE_ модели: 40.055624818752136\n",
      "\n",
      " Месторождение: geo_data_0\n",
      "model.score 0.27994321524487786\n",
      "средний запас предсказанного сырья : 92.62849276088778\n",
      "_RMSE_ модели: 37.69240596744535\n",
      "\n",
      " Месторождение: geo_data_1\n",
      "model.score 0.9996233978805127\n",
      "средний запас предсказанного сырья : 68.82635271777151\n",
      "_RMSE_ модели: 0.8903802650297569\n"
     ]
    }
   ],
   "source": [
    "for k in sources.keys():\n",
    "    print('\\n','Месторождение:',k)\n",
    "    results = get_predictions(sources[k],results,k)\n"
   ]
  },
  {
   "cell_type": "markdown",
   "id": "fd75fdf1",
   "metadata": {},
   "source": [
    "переименуем столбцы"
   ]
  },
  {
   "cell_type": "code",
   "execution_count": 48,
   "id": "b703a365",
   "metadata": {},
   "outputs": [],
   "source": [
    "for k in results.keys():\n",
    "    results[k].rename({0:'val'},axis='columns', inplace=True)"
   ]
  },
  {
   "cell_type": "markdown",
   "id": "9c5d5bfd",
   "metadata": {},
   "source": [
    "# 3.  Подготовьтесь к расчёту прибыли:"
   ]
  },
  {
   "cell_type": "markdown",
   "id": "f419a541",
   "metadata": {},
   "source": [
    "####    3.1. Все ключевые значения для расчётов сохраните в отдельных переменных."
   ]
  },
  {
   "cell_type": "code",
   "execution_count": 49,
   "id": "88a914f8",
   "metadata": {},
   "outputs": [],
   "source": [
    "#При разведке региона исследуют 500 точек\n",
    "POINTS_ALL = 500 \n",
    "\n",
    "#исследуют точек, из которых с помощью машинного обучения выбирают 200 лучших для разработки.\n",
    "POINTS_SELECTED= 200\n",
    "\n",
    "#Бюджет на разработку скважин в регионе — 10 млрд рублей.\n",
    "BUDGET_ALL = 10000000000\n",
    "\n",
    "#При нынешних ценах один баррель сырья приносит 450 рублей дохода. \n",
    "#Доход с каждой единицы продукта составляет 450 тыс. рублей, поскольку объём указан в тысячах баррелей.\n",
    "REVENUE_BARELL_PRODUCT = 450000\n",
    "\n",
    "#После оценки рисков нужно оставить лишь те регионы, в которых вероятность убытков меньше 2.5%.\n",
    "MAX_RISC_LOSS = 2.5\n",
    "\n",
    "BOOTSTRAP_ITER_NUM = 1000  "
   ]
  },
  {
   "cell_type": "markdown",
   "id": "9ae1f63b",
   "metadata": {},
   "source": [
    "#### 3.2. Рассчитайте достаточный объём сырья для безубыточной разработки новой скважины. Сравните полученный объём сырья со средним запасом в каждом регионе."
   ]
  },
  {
   "cell_type": "code",
   "execution_count": 50,
   "id": "2b1904eb",
   "metadata": {},
   "outputs": [
    {
     "name": "stdout",
     "output_type": "stream",
     "text": [
      "бюджет на одну скважину budget_point: 50000000.0\n",
      "достаточный объём сырья для безубыточной разработки новой скважины barrel_needed_point: 111.11111111111111\n"
     ]
    }
   ],
   "source": [
    "#бюджет на одну скважину\n",
    "budget_point = BUDGET_ALL / POINTS_SELECTED\n",
    "print('бюджет на одну скважину budget_point:',budget_point)\n",
    "\n",
    "#достаточный объём сырья для безубыточной разработки новой скважины\n",
    "barrel_needed_point = budget_point / REVENUE_BARELL_PRODUCT \n",
    "print('достаточный объём сырья для безубыточной разработки новой скважины barrel_needed_point:',barrel_needed_point)"
   ]
  },
  {
   "cell_type": "markdown",
   "id": "c1c0d4e7",
   "metadata": {},
   "source": [
    "если рассматривать данные в целом, получим средний прогноз по добыче на скважину по всем месторождениям:"
   ]
  },
  {
   "cell_type": "code",
   "execution_count": 51,
   "id": "6924027c",
   "metadata": {},
   "outputs": [
    {
     "name": "stdout",
     "output_type": "stream",
     "text": [
      "месторождение: geo_data_2  имеет средние запасы на скважину:  95.00000000000004\n",
      "месторождение: geo_data_0  имеет средние запасы на скважину:  92.50000000000001\n",
      "месторождение: geo_data_1  имеет средние запасы на скважину:  68.82500000000002\n"
     ]
    }
   ],
   "source": [
    "for k in sources.keys():\n",
    "    mean_place = sources[k]['product'].mean()\n",
    "    print('месторождение:',k,' имеет средние запасы на скважину: ',mean_place)"
   ]
  },
  {
   "cell_type": "markdown",
   "id": "37fa2730",
   "metadata": {},
   "source": [
    "     3.3. Напишите выводы по этапу подготовки расчёта прибыли."
   ]
  },
  {
   "cell_type": "markdown",
   "id": "24696dd3",
   "metadata": {},
   "source": [
    "Вывод: расчет показал, что нам необходимо, что скважина добывала не меньше следующего количества тысяч баррелей, чтобы быть безубыточной 111. Однако, ни одно месторождение не может этого гарантировать если рассматривать данные в целом. Попробуем сделать выборку из ограниченного количества скважен, но с необходимым(безубыточным) количеством нефти."
   ]
  },
  {
   "cell_type": "markdown",
   "id": "09f17826",
   "metadata": {},
   "source": [
    "# 4.  Напишите функцию для расчёта прибыли по выбранным скважинам и предсказаниям модели:"
   ]
  },
  {
   "cell_type": "markdown",
   "id": "7b61469b",
   "metadata": {},
   "source": [
    "На каждой итерации бутстрапа мы имитируем реальный процесс отбора скважин, как если бы мы это делали в боевых условиях и затем смотрим насколько хорошо мы отобрали скважины рассчитывая прибыль по реальным значениям (таргетам). То есть: выбираем 500 случайно, делаем предсказания и по ним отбираем 200 лучших, затем для этих 200 считаем прибыль уже по таргету."
   ]
  },
  {
   "cell_type": "code",
   "execution_count": 74,
   "id": "0b8ceb8c",
   "metadata": {},
   "outputs": [],
   "source": [
    "def revenue_well_analit(well_500, oilfield, disp=True):\n",
    "    # отбираем 200 лучших\n",
    "    # 4.1. Выберите скважины с максимальными значениями предсказаний.\n",
    "    well_200 = well_500.sort_values(by = 'val',ascending=False).head(POINTS_SELECTED)\n",
    "    \n",
    "    # 4.2. Просуммируйте целевое значение объёма сырья, соответствующее этим предсказаниям.\n",
    "    summary_oil_200 = well_200['val'].sum()\n",
    "    if disp: print('месторождение:',oilfield,' имеет запасы: ',summary_oil_200)\n",
    "    \n",
    "    #для расчета прибыли вычитаем бездоходные барелли \n",
    "    well_200['product'] = well_200['product'] - barrel_needed_point\n",
    "    \n",
    "\n",
    "    # для этих 200 считаем прибыль уже по таргету\n",
    "    # 4.3. Рассчитайте прибыль для полученного объёма сырья.\n",
    "    well_200['revenue'] = REVENUE_BARELL_PRODUCT * well_200['product']\n",
    "    \n",
    "    summary_revenue_200 = well_200['revenue'].sum()\n",
    "    \n",
    "    if disp: print('прибыль для полученного объёма сырья', summary_revenue_200)\n",
    "    \n",
    "    return summary_oil_200, summary_revenue_200"
   ]
  },
  {
   "cell_type": "code",
   "execution_count": 75,
   "id": "03911979",
   "metadata": {},
   "outputs": [],
   "source": [
    "def distrib_revenue_wells(sources,results, disp=True):\n",
    "    state = np.random.RandomState(12345)\n",
    "     \n",
    "    revenues = {}\n",
    "    \n",
    "    \n",
    "    for oilfield in sources.keys():\n",
    "        revenue_oilfield = []\n",
    "        # \"склеим\" вместе датафреймы исходных данных и результата для удобства\n",
    "        src_res = pd.merge(sources[oilfield],results[oilfield],right_index = True,left_index = True)\n",
    "\n",
    "        for i in range(BOOTSTRAP_ITER_NUM):\n",
    "            \n",
    "            well_500 = src_res.sample(n=POINTS_ALL, replace=True, random_state=state)\n",
    "\n",
    "            summary_oil_200, summary_revenue_200 = revenue_well_analit(well_500, oilfield, disp)\n",
    "            \n",
    "            revenue_oilfield.append(summary_revenue_200)\n",
    "            \n",
    "        revenues[oilfield] = revenue_oilfield\n",
    "            \n",
    "    return revenues\n",
    "            "
   ]
  },
  {
   "cell_type": "code",
   "execution_count": 76,
   "id": "b2eab8b9",
   "metadata": {},
   "outputs": [
    {
     "name": "stdout",
     "output_type": "stream",
     "text": [
      "40.055624818752136  ==  40.055624818752136\n"
     ]
    }
   ],
   "source": [
    "from sklearn.metrics import mean_squared_error\n",
    "rmse1 = mean_squared_error(src_res['product'], src_res['val']) ** 0.5\n",
    "rmse2 = mean_squared_error(sources['geo_data_2']['product'], results['geo_data_2']['val']) ** 0.5\n",
    "print(rmse1,' == ',rmse2)\n"
   ]
  },
  {
   "cell_type": "markdown",
   "id": "931a1711",
   "metadata": {},
   "source": [
    "# 5.  Посчитайте риски и прибыль для каждого региона:"
   ]
  },
  {
   "cell_type": "markdown",
   "id": "d7b5a26d",
   "metadata": {
    "pycharm": {
     "name": "#%% md\n"
    }
   },
   "source": [
    "Применим технику _Bootstrap_ с 1000 выборок, чтобы найти распределение прибыли."
   ]
  },
  {
   "cell_type": "markdown",
   "id": "d581bbf1",
   "metadata": {},
   "source": [
    "Используем найденные максимумальные 200 самых насыщенных скважины в каждом месторождении. \n",
    "\n",
    "Их прибыль будет произведением объема добычи на цену (тыс. бареллей)."
   ]
  },
  {
   "cell_type": "code",
   "execution_count": 77,
   "id": "9a21392d",
   "metadata": {},
   "outputs": [],
   "source": [
    "revenues = distrib_revenue_wells(sources,results, disp=False)"
   ]
  },
  {
   "cell_type": "code",
   "execution_count": 78,
   "id": "3a03a7a3",
   "metadata": {},
   "outputs": [],
   "source": [
    "revenues = pd.DataFrame(revenues)"
   ]
  },
  {
   "cell_type": "code",
   "execution_count": 80,
   "id": "83bcf2fa",
   "metadata": {},
   "outputs": [
    {
     "name": "stdout",
     "output_type": "stream",
     "text": [
      "Среднюю прибыль  geo_data_2   373939021.9898514\n",
      "Среднюю прибыль  geo_data_0   416085060.41390604\n",
      "Среднюю прибыль  geo_data_1   449074619.28490525\n",
      "\n",
      " распределение прибыли для месторождения: geo_data_2\n",
      "lower: -181948188.44712105\n",
      "upper: 896299408.1008723\n",
      "\n",
      " распределение прибыли для месторождения: geo_data_0\n",
      "lower: -99884976.31121099\n",
      "upper: 917289304.2100798\n",
      "\n",
      " распределение прибыли для месторождения: geo_data_1\n",
      "lower: 57453336.00421656\n",
      "upper: 846184540.2423898\n",
      "вероятность убытка  geo_data_2 : 0.126\n",
      "вероятность убытка  geo_data_0 : 0.071\n",
      "вероятность убытка  geo_data_1 : 0.024\n"
     ]
    }
   ],
   "source": [
    "#нужно посчитать 3 статистики:\n",
    "\n",
    "#1. Среднюю прибыль\n",
    "for oilfield in sources.keys():\n",
    "#     mean_rev_oilfield = (revenues[oilfield]-barrel_needed_point * REVENUE_BARELL_PRODUCT).mean()\n",
    "    mean_rev_oilfield = (revenues[oilfield]).mean()\n",
    "    print('Среднюю прибыль ',oilfield,' ',mean_rev_oilfield)\n",
    "\n",
    "#2. Интервал с помощью метода квантилей\n",
    "for oilfield in sources.keys():\n",
    "    values = revenues[oilfield] \n",
    "\n",
    "    lower = values.quantile(0.025)\n",
    "    upper = values.quantile(0.975)\n",
    "    print( '\\n распределение прибыли для месторождения:',oilfield)\n",
    "    print('lower:',lower)\n",
    "    print('upper:',upper)\n",
    "\n",
    "#3. Риск убытков – долю случаев, в которых прибыль отрицательна             \n",
    "for oilfield in sources.keys():\n",
    "    revenues_loss = pd.DataFrame(revenues[oilfield])\n",
    "    revenues_loss['rev_loss'] = revenues_loss - barrel_needed_point * REVENUE_BARELL_PRODUCT \n",
    "    loss_risc = (revenues_loss['rev_loss']<0).mean()\n",
    "    print('вероятность убытка ',oilfield,':', loss_risc)\n",
    "        \n"
   ]
  },
  {
   "cell_type": "markdown",
   "id": "45cb058a",
   "metadata": {},
   "source": [
    "# Вывод"
   ]
  },
  {
   "cell_type": "markdown",
   "id": "60827110",
   "metadata": {},
   "source": [
    "Вывод: С высокой долей вероятности самый прибыльный регион это geo_data_2. Так как в этом регионе самая большая прогнозируемая прибыль. Однако в регионе geo_data_1 риски меньше остальных."
   ]
  }
 ],
 "metadata": {
  "kernelspec": {
   "display_name": "base",
   "language": "python",
   "name": "base"
  },
  "language_info": {
   "codemirror_mode": {
    "name": "ipython",
    "version": 3
   },
   "file_extension": ".py",
   "mimetype": "text/x-python",
   "name": "python",
   "nbconvert_exporter": "python",
   "pygments_lexer": "ipython3",
   "version": "3.8.8"
  },
  "toc": {
   "base_numbering": 1,
   "nav_menu": {},
   "number_sections": true,
   "sideBar": true,
   "skip_h1_title": false,
   "title_cell": "Table of Contents",
   "title_sidebar": "Contents",
   "toc_cell": false,
   "toc_position": {},
   "toc_section_display": true,
   "toc_window_display": false
  }
 },
 "nbformat": 4,
 "nbformat_minor": 5
}
