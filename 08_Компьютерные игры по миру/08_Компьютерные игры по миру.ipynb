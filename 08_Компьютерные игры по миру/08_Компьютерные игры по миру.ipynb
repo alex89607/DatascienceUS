{
 "cells": [
  {
   "cell_type": "markdown",
   "id": "6219251c",
   "metadata": {},
   "source": [
    "# 1. Сборный проект"
   ]
  },
  {
   "cell_type": "markdown",
   "id": "5dce49b0",
   "metadata": {},
   "source": [
    "\n",
    "Вы работаете в интернет-магазине «Стримчик», который продаёт по всему миру\n",
    "компьютерные игры. Из открытых источников доступны исторические данные о\n",
    "продажах игр, оценки пользователей и экспертов, жанры и платформы\n",
    "(например, Xboxили PlayStation). Вам нужно выявить определяющие успешность\n",
    "игры закономерности. Это позволит сделать ставку на потенциально популярный\n",
    "продукт и спланировать рекламные кампании.\n",
    "Перед вами данные до 2016 года. Представим, что сейчас декабрь 2016 г., и вы\n",
    "планируете кампанию на 2017-й. Нужно отработать принцип работы с данными.\n",
    "Неважно, прогнозируете ли вы продажи на 2017 год по данным 2016-го или же\n",
    "2027-й — по данным 2026 года.\n",
    "В наборе данных попадается аббревиатура ESRB (Entertainment Software Rating\n",
    "Board) — это ассоциация, определяющая возрастной рейтинг компьютерных\n",
    "игр. ESRB оценивает игровой контент и присваивает ему подходящую возрастную\n",
    "категорию, например, «Для взрослых», «Для детей младшего возраста» или «Для\n",
    "подростков»."
   ]
  },
  {
   "cell_type": "markdown",
   "id": "fcacf925",
   "metadata": {},
   "source": [
    "Цель проекта - показать потенциально прибыльные платформы и жанры, исходя из данных продаж за разные годы. Мы будем анализировать данные по различным платформам, используя сводные таблицы, графики и статистические функции."
   ]
  },
  {
   "cell_type": "markdown",
   "id": "d08c427d",
   "metadata": {},
   "source": [
    "Шаг 1. Откройте файл с данными и изучите общую информацию\n",
    "Путь к файлу: /datasets/games.csv. Скачать датасет"
   ]
  },
  {
   "cell_type": "code",
   "execution_count": 1,
   "id": "7f4b5cf4",
   "metadata": {},
   "outputs": [],
   "source": [
    "import pandas as pd\n",
    "from IPython.display import display\n",
    "import os\n",
    "import matplotlib.pyplot as plt\n",
    "from scipy import stats as st\n",
    "\n",
    "pd.options.display.max_columns = None"
   ]
  },
  {
   "cell_type": "code",
   "execution_count": 2,
   "id": "05927f66",
   "metadata": {},
   "outputs": [],
   "source": [
    "pth1 = '/datasets/games.csv'\n",
    "pth2 = 'games.csv'\n",
    "\n",
    "if os.path.exists(pth1):\n",
    "    df = pd.read_csv(pth1)\n",
    "elif os.path.exists(pth2):\n",
    "    df = pd.read_csv(pth2)\n",
    "else:\n",
    "    print('Something is wrong')\n"
   ]
  },
  {
   "cell_type": "code",
   "execution_count": 3,
   "id": "e7eb9ad3",
   "metadata": {
    "scrolled": true
   },
   "outputs": [
    {
     "name": "stdout",
     "output_type": "stream",
     "text": [
      "<class 'pandas.core.frame.DataFrame'>\n",
      "RangeIndex: 16715 entries, 0 to 16714\n",
      "Data columns (total 11 columns):\n",
      " #   Column           Non-Null Count  Dtype  \n",
      "---  ------           --------------  -----  \n",
      " 0   Name             16713 non-null  object \n",
      " 1   Platform         16715 non-null  object \n",
      " 2   Year_of_Release  16446 non-null  float64\n",
      " 3   Genre            16713 non-null  object \n",
      " 4   NA_sales         16715 non-null  float64\n",
      " 5   EU_sales         16715 non-null  float64\n",
      " 6   JP_sales         16715 non-null  float64\n",
      " 7   Other_sales      16715 non-null  float64\n",
      " 8   Critic_Score     8137 non-null   float64\n",
      " 9   User_Score       10014 non-null  object \n",
      " 10  Rating           9949 non-null   object \n",
      "dtypes: float64(6), object(5)\n",
      "memory usage: 1.4+ MB\n",
      "None\n",
      "Index(['Name', 'Platform', 'Year_of_Release', 'Genre', 'NA_sales', 'EU_sales',\n",
      "       'JP_sales', 'Other_sales', 'Critic_Score', 'User_Score', 'Rating'],\n",
      "      dtype='object')\n"
     ]
    },
    {
     "data": {
      "text/html": [
       "<div>\n",
       "<style scoped>\n",
       "    .dataframe tbody tr th:only-of-type {\n",
       "        vertical-align: middle;\n",
       "    }\n",
       "\n",
       "    .dataframe tbody tr th {\n",
       "        vertical-align: top;\n",
       "    }\n",
       "\n",
       "    .dataframe thead th {\n",
       "        text-align: right;\n",
       "    }\n",
       "</style>\n",
       "<table border=\"1\" class=\"dataframe\">\n",
       "  <thead>\n",
       "    <tr style=\"text-align: right;\">\n",
       "      <th></th>\n",
       "      <th>Name</th>\n",
       "      <th>Platform</th>\n",
       "      <th>Year_of_Release</th>\n",
       "      <th>Genre</th>\n",
       "      <th>NA_sales</th>\n",
       "      <th>EU_sales</th>\n",
       "      <th>JP_sales</th>\n",
       "      <th>Other_sales</th>\n",
       "      <th>Critic_Score</th>\n",
       "      <th>User_Score</th>\n",
       "      <th>Rating</th>\n",
       "    </tr>\n",
       "  </thead>\n",
       "  <tbody>\n",
       "    <tr>\n",
       "      <th>0</th>\n",
       "      <td>Wii Sports</td>\n",
       "      <td>Wii</td>\n",
       "      <td>2006.0</td>\n",
       "      <td>Sports</td>\n",
       "      <td>41.36</td>\n",
       "      <td>28.96</td>\n",
       "      <td>3.77</td>\n",
       "      <td>8.45</td>\n",
       "      <td>76.0</td>\n",
       "      <td>8</td>\n",
       "      <td>E</td>\n",
       "    </tr>\n",
       "    <tr>\n",
       "      <th>1</th>\n",
       "      <td>Super Mario Bros.</td>\n",
       "      <td>NES</td>\n",
       "      <td>1985.0</td>\n",
       "      <td>Platform</td>\n",
       "      <td>29.08</td>\n",
       "      <td>3.58</td>\n",
       "      <td>6.81</td>\n",
       "      <td>0.77</td>\n",
       "      <td>NaN</td>\n",
       "      <td>NaN</td>\n",
       "      <td>NaN</td>\n",
       "    </tr>\n",
       "    <tr>\n",
       "      <th>2</th>\n",
       "      <td>Mario Kart Wii</td>\n",
       "      <td>Wii</td>\n",
       "      <td>2008.0</td>\n",
       "      <td>Racing</td>\n",
       "      <td>15.68</td>\n",
       "      <td>12.76</td>\n",
       "      <td>3.79</td>\n",
       "      <td>3.29</td>\n",
       "      <td>82.0</td>\n",
       "      <td>8.3</td>\n",
       "      <td>E</td>\n",
       "    </tr>\n",
       "    <tr>\n",
       "      <th>3</th>\n",
       "      <td>Wii Sports Resort</td>\n",
       "      <td>Wii</td>\n",
       "      <td>2009.0</td>\n",
       "      <td>Sports</td>\n",
       "      <td>15.61</td>\n",
       "      <td>10.93</td>\n",
       "      <td>3.28</td>\n",
       "      <td>2.95</td>\n",
       "      <td>80.0</td>\n",
       "      <td>8</td>\n",
       "      <td>E</td>\n",
       "    </tr>\n",
       "    <tr>\n",
       "      <th>4</th>\n",
       "      <td>Pokemon Red/Pokemon Blue</td>\n",
       "      <td>GB</td>\n",
       "      <td>1996.0</td>\n",
       "      <td>Role-Playing</td>\n",
       "      <td>11.27</td>\n",
       "      <td>8.89</td>\n",
       "      <td>10.22</td>\n",
       "      <td>1.00</td>\n",
       "      <td>NaN</td>\n",
       "      <td>NaN</td>\n",
       "      <td>NaN</td>\n",
       "    </tr>\n",
       "  </tbody>\n",
       "</table>\n",
       "</div>"
      ],
      "text/plain": [
       "                       Name Platform  Year_of_Release         Genre  NA_sales  \\\n",
       "0                Wii Sports      Wii           2006.0        Sports     41.36   \n",
       "1         Super Mario Bros.      NES           1985.0      Platform     29.08   \n",
       "2            Mario Kart Wii      Wii           2008.0        Racing     15.68   \n",
       "3         Wii Sports Resort      Wii           2009.0        Sports     15.61   \n",
       "4  Pokemon Red/Pokemon Blue       GB           1996.0  Role-Playing     11.27   \n",
       "\n",
       "   EU_sales  JP_sales  Other_sales  Critic_Score User_Score Rating  \n",
       "0     28.96      3.77         8.45          76.0          8      E  \n",
       "1      3.58      6.81         0.77           NaN        NaN    NaN  \n",
       "2     12.76      3.79         3.29          82.0        8.3      E  \n",
       "3     10.93      3.28         2.95          80.0          8      E  \n",
       "4      8.89     10.22         1.00           NaN        NaN    NaN  "
      ]
     },
     "execution_count": 3,
     "metadata": {},
     "output_type": "execute_result"
    }
   ],
   "source": [
    "print(df.info())\n",
    "print(df.columns)\n",
    "df.head(5)"
   ]
  },
  {
   "cell_type": "markdown",
   "id": "1ea38841",
   "metadata": {},
   "source": [
    "\n",
    "\n",
    "В столбцах Genre, Year_of_Release,  Name есть пропуски.\n",
    "В столбцах Critic_Score, User_Score, Rating есть  существенные пропуски.  \n",
    "В названиях столбцов есть строчные символы. \n",
    "\n",
    "Причины этого могут быть разные, сложно сейчас предположить, например, малоизвестные тайтлы без оценок. Попробуем разобраться в причинах в разделе исправления данных, при просмотре группировок по количеству различных данных.\n",
    "\n",
    "Исправляем ниже в разделе исправления данных."
   ]
  },
  {
   "cell_type": "markdown",
   "id": "0af5963a",
   "metadata": {},
   "source": [
    "## Шаг 2. Подготовьте данные"
   ]
  },
  {
   "cell_type": "markdown",
   "id": "9e4737dc",
   "metadata": {},
   "source": [
    "### Замените названия столбцов (приведите к нижнему регистру);"
   ]
  },
  {
   "cell_type": "code",
   "execution_count": 4,
   "id": "a0d32cab",
   "metadata": {},
   "outputs": [
    {
     "name": "stdout",
     "output_type": "stream",
     "text": [
      "Index(['name', 'platform', 'year_of_release', 'genre', 'na_sales', 'eu_sales',\n",
      "       'jp_sales', 'other_sales', 'critic_score', 'user_score', 'rating'],\n",
      "      dtype='object')\n"
     ]
    }
   ],
   "source": [
    "df.rename(columns = {key:key.lower() for (key) in df.columns}, inplace=True)\n",
    "\n",
    "print(df.columns)"
   ]
  },
  {
   "cell_type": "markdown",
   "id": "11d052a8",
   "metadata": {},
   "source": [
    "### Преобразуйте данные в нужные типы. Опишите, в каких столбцах заменили тип данных и почему;"
   ]
  },
  {
   "cell_type": "code",
   "execution_count": 5,
   "id": "3c23f4af",
   "metadata": {},
   "outputs": [
    {
     "name": "stdout",
     "output_type": "stream",
     "text": [
      "---------------------------------name-----------------------------------------\n",
      "                               name  size\n",
      "0                    Beyblade Burst     1\n",
      "1                 Fire Emblem Fates     1\n",
      "2              Frozen: Olaf's Quest     2\n",
      "3        Haikyu!! Cross Team Match!     1\n",
      "4                 Tales of Xillia 2     1\n",
      "...                             ...   ...\n",
      "11555                  uDraw Studio     1\n",
      "11556  uDraw Studio: Instant Artist     2\n",
      "11557    wwe Smackdown vs. Raw 2006     1\n",
      "11558  ¡Shin Chan Flipa en colores!     1\n",
      "11559                           NaN     2\n",
      "\n",
      "[11560 rows x 2 columns]\n",
      "---------------------------------platform-----------------------------------------\n",
      "   platform  size\n",
      "0      2600   133\n",
      "1       3DO     3\n",
      "2       3DS   520\n",
      "3        DC    52\n",
      "4        DS  2151\n",
      "5        GB    98\n",
      "6       GBA   822\n",
      "7        GC   556\n",
      "8       GEN    29\n",
      "9        GG     1\n",
      "10      N64   319\n",
      "11      NES    98\n",
      "12       NG    12\n",
      "13       PC   974\n",
      "14     PCFX     1\n",
      "15       PS  1197\n",
      "16      PS2  2161\n",
      "17      PS3  1331\n",
      "18      PS4   392\n",
      "19      PSP  1209\n",
      "20      PSV   430\n",
      "21      SAT   173\n",
      "22      SCD     6\n",
      "23     SNES   239\n",
      "24     TG16     2\n",
      "25       WS     6\n",
      "26      Wii  1320\n",
      "27     WiiU   147\n",
      "28     X360  1262\n",
      "29       XB   824\n",
      "30     XOne   247\n",
      "---------------------------------year_of_release-----------------------------------------\n",
      "    year_of_release  size\n",
      "0            1980.0     9\n",
      "1            1981.0    46\n",
      "2            1982.0    36\n",
      "3            1983.0    17\n",
      "4            1984.0    14\n",
      "5            1985.0    14\n",
      "6            1986.0    21\n",
      "7            1987.0    16\n",
      "8            1988.0    15\n",
      "9            1989.0    17\n",
      "10           1990.0    16\n",
      "11           1991.0    41\n",
      "12           1992.0    43\n",
      "13           1993.0    62\n",
      "14           1994.0   121\n",
      "15           1995.0   219\n",
      "16           1996.0   263\n",
      "17           1997.0   289\n",
      "18           1998.0   379\n",
      "19           1999.0   338\n",
      "20           2000.0   350\n",
      "21           2001.0   482\n",
      "22           2002.0   829\n",
      "23           2003.0   775\n",
      "24           2004.0   762\n",
      "25           2005.0   939\n",
      "26           2006.0  1006\n",
      "27           2007.0  1197\n",
      "28           2008.0  1427\n",
      "29           2009.0  1426\n",
      "30           2010.0  1255\n",
      "31           2011.0  1136\n",
      "32           2012.0   653\n",
      "33           2013.0   544\n",
      "34           2014.0   581\n",
      "35           2015.0   606\n",
      "36           2016.0   502\n",
      "37              NaN   269\n",
      "---------------------------------genre-----------------------------------------\n",
      "           genre  size\n",
      "0         Action  3369\n",
      "1      Adventure  1303\n",
      "2       Fighting   849\n",
      "3           Misc  1750\n",
      "4       Platform   888\n",
      "5         Puzzle   580\n",
      "6         Racing  1249\n",
      "7   Role-Playing  1498\n",
      "8        Shooter  1323\n",
      "9     Simulation   873\n",
      "10        Sports  2348\n",
      "11      Strategy   683\n",
      "12           NaN     2\n",
      "---------------------------------critic_score-----------------------------------------\n",
      "    critic_score  size\n",
      "0           13.0     1\n",
      "1           17.0     1\n",
      "2           19.0     6\n",
      "3           20.0     3\n",
      "4           21.0     1\n",
      "..           ...   ...\n",
      "78          95.0    16\n",
      "79          96.0    18\n",
      "80          97.0    11\n",
      "81          98.0     4\n",
      "82           NaN  8578\n",
      "\n",
      "[83 rows x 2 columns]\n",
      "---------------------------------user_score-----------------------------------------\n",
      "   user_score  size\n",
      "0           0     1\n",
      "1         0.2     2\n",
      "2         0.3     2\n",
      "3         0.5     2\n",
      "4         0.6     2\n",
      "..        ...   ...\n",
      "92        9.5     6\n",
      "93        9.6     2\n",
      "94        9.7     1\n",
      "95        tbd  2424\n",
      "96        NaN  6701\n",
      "\n",
      "[97 rows x 2 columns]\n",
      "---------------------------------rating-----------------------------------------\n",
      "  rating  size\n",
      "0     AO     1\n",
      "1      E  3990\n",
      "2   E10+  1420\n",
      "3     EC     8\n",
      "4    K-A     3\n",
      "5      M  1563\n",
      "6     RP     3\n",
      "7      T  2961\n",
      "8    NaN  6766\n"
     ]
    }
   ],
   "source": [
    "# посмотрим более детально на то, какие данные содержатся в каждом из столбцов данных\n",
    "for col in df.columns:\n",
    "    if not \"sales\" in col:\n",
    "        print('---------------------------------'+col+'-----------------------------------------')\n",
    "\n",
    "        print(df.groupby([col], dropna=False, as_index=False).size())"
   ]
  },
  {
   "cell_type": "markdown",
   "id": "d654e227",
   "metadata": {},
   "source": [
    "В столбце name есть два пропуска.\n",
    "Посмотрим на них более внимательно далее, возможно данных там нет и можно просто удалить эти строки.\n",
    "\n",
    "В столбце platform нет пропусков.\n",
    "\n",
    "В столбце year_of_release есть  пропуски.\n",
    "\n",
    "В столбце genre есть  пропуски. Возможно это те две игры, с пустыми названиями.\n",
    "\n",
    "В столбце critic_score много пропусков. Позже, нам придётся учитывать рейтинги с категоризацией по региону. \n",
    "\n",
    "В столбце user_score много пропусков. Позже, нам придётся учитывать рейтинги с категоризацией по региону. \n",
    "\n",
    "В  столбце rating много пропусков. К сожалению, нам неоткуда взять присвоенный игре рейтинг, поэтому придётся установить заглушку и учесть её при использовании этого столбца.\n"
   ]
  },
  {
   "cell_type": "markdown",
   "id": "b699e546",
   "metadata": {},
   "source": [
    "### Обработайте пропуски при необходимости: Объясните, почему заполнили пропуски определённым образом или почему не стали это делать; Опишите причины, которые могли привести к пропускам;"
   ]
  },
  {
   "cell_type": "markdown",
   "id": "1865dbb2",
   "metadata": {},
   "source": [
    "Пройдем по найденным некорректным значениям и попробуем исправить."
   ]
  },
  {
   "cell_type": "markdown",
   "id": "63703f0a",
   "metadata": {},
   "source": [
    "#### В столбце name есть два пропуска."
   ]
  },
  {
   "cell_type": "markdown",
   "id": "2dff57d3",
   "metadata": {},
   "source": [
    " В столбце name есть два пропуска.\n",
    "Посмотрим на них более внимательно далее, возможно данных там нет и можно просто удалить эти строки."
   ]
  },
  {
   "cell_type": "code",
   "execution_count": 6,
   "id": "fca4af4b",
   "metadata": {},
   "outputs": [
    {
     "data": {
      "text/html": [
       "<div>\n",
       "<style scoped>\n",
       "    .dataframe tbody tr th:only-of-type {\n",
       "        vertical-align: middle;\n",
       "    }\n",
       "\n",
       "    .dataframe tbody tr th {\n",
       "        vertical-align: top;\n",
       "    }\n",
       "\n",
       "    .dataframe thead th {\n",
       "        text-align: right;\n",
       "    }\n",
       "</style>\n",
       "<table border=\"1\" class=\"dataframe\">\n",
       "  <thead>\n",
       "    <tr style=\"text-align: right;\">\n",
       "      <th></th>\n",
       "      <th>name</th>\n",
       "      <th>platform</th>\n",
       "      <th>year_of_release</th>\n",
       "      <th>genre</th>\n",
       "      <th>na_sales</th>\n",
       "      <th>eu_sales</th>\n",
       "      <th>jp_sales</th>\n",
       "      <th>other_sales</th>\n",
       "      <th>critic_score</th>\n",
       "      <th>user_score</th>\n",
       "      <th>rating</th>\n",
       "    </tr>\n",
       "  </thead>\n",
       "  <tbody>\n",
       "    <tr>\n",
       "      <th>659</th>\n",
       "      <td>NaN</td>\n",
       "      <td>GEN</td>\n",
       "      <td>1993.0</td>\n",
       "      <td>NaN</td>\n",
       "      <td>1.78</td>\n",
       "      <td>0.53</td>\n",
       "      <td>0.00</td>\n",
       "      <td>0.08</td>\n",
       "      <td>NaN</td>\n",
       "      <td>NaN</td>\n",
       "      <td>NaN</td>\n",
       "    </tr>\n",
       "    <tr>\n",
       "      <th>14244</th>\n",
       "      <td>NaN</td>\n",
       "      <td>GEN</td>\n",
       "      <td>1993.0</td>\n",
       "      <td>NaN</td>\n",
       "      <td>0.00</td>\n",
       "      <td>0.00</td>\n",
       "      <td>0.03</td>\n",
       "      <td>0.00</td>\n",
       "      <td>NaN</td>\n",
       "      <td>NaN</td>\n",
       "      <td>NaN</td>\n",
       "    </tr>\n",
       "  </tbody>\n",
       "</table>\n",
       "</div>"
      ],
      "text/plain": [
       "      name platform  year_of_release genre  na_sales  eu_sales  jp_sales  \\\n",
       "659    NaN      GEN           1993.0   NaN      1.78      0.53      0.00   \n",
       "14244  NaN      GEN           1993.0   NaN      0.00      0.00      0.03   \n",
       "\n",
       "       other_sales  critic_score user_score rating  \n",
       "659           0.08           NaN        NaN    NaN  \n",
       "14244         0.00           NaN        NaN    NaN  "
      ]
     },
     "execution_count": 6,
     "metadata": {},
     "output_type": "execute_result"
    }
   ],
   "source": [
    "\n",
    "df[df['name'].isnull()]\n"
   ]
  },
  {
   "cell_type": "markdown",
   "id": "78f3a5b9",
   "metadata": {},
   "source": [
    "Так как эти игры не могут участвовать в данных по рейтингам, а количество продаж незначительное и не повлияет существенно на данные о продажах по регионам становится возможно удалить эти строки."
   ]
  },
  {
   "cell_type": "code",
   "execution_count": 7,
   "id": "69bbd9d1",
   "metadata": {},
   "outputs": [],
   "source": [
    "df = df[df['name'].notna()]"
   ]
  },
  {
   "cell_type": "markdown",
   "id": "4415b67e",
   "metadata": {},
   "source": [
    "#### В столбце year_of_release есть  пропуски."
   ]
  },
  {
   "cell_type": "markdown",
   "id": "18b051ab",
   "metadata": {},
   "source": [
    " допустимо удалить строки с отсутствующим годом"
   ]
  },
  {
   "cell_type": "code",
   "execution_count": 8,
   "id": "ae5d1d95",
   "metadata": {},
   "outputs": [],
   "source": [
    "df = df[df['year_of_release'].notna()]\n"
   ]
  },
  {
   "cell_type": "markdown",
   "id": "382ac00d",
   "metadata": {},
   "source": [
    "#### В столбце genre есть  пропуски. Возможно это те две игры, с пустыми названиями. "
   ]
  },
  {
   "cell_type": "markdown",
   "id": "992838d8",
   "metadata": {},
   "source": [
    "проверим, остались ли они:"
   ]
  },
  {
   "cell_type": "code",
   "execution_count": 9,
   "id": "d74c211d",
   "metadata": {},
   "outputs": [
    {
     "data": {
      "text/html": [
       "<div>\n",
       "<style scoped>\n",
       "    .dataframe tbody tr th:only-of-type {\n",
       "        vertical-align: middle;\n",
       "    }\n",
       "\n",
       "    .dataframe tbody tr th {\n",
       "        vertical-align: top;\n",
       "    }\n",
       "\n",
       "    .dataframe thead th {\n",
       "        text-align: right;\n",
       "    }\n",
       "</style>\n",
       "<table border=\"1\" class=\"dataframe\">\n",
       "  <thead>\n",
       "    <tr style=\"text-align: right;\">\n",
       "      <th></th>\n",
       "      <th>name</th>\n",
       "      <th>platform</th>\n",
       "      <th>year_of_release</th>\n",
       "      <th>genre</th>\n",
       "      <th>na_sales</th>\n",
       "      <th>eu_sales</th>\n",
       "      <th>jp_sales</th>\n",
       "      <th>other_sales</th>\n",
       "      <th>critic_score</th>\n",
       "      <th>user_score</th>\n",
       "      <th>rating</th>\n",
       "    </tr>\n",
       "  </thead>\n",
       "  <tbody>\n",
       "  </tbody>\n",
       "</table>\n",
       "</div>"
      ],
      "text/plain": [
       "Empty DataFrame\n",
       "Columns: [name, platform, year_of_release, genre, na_sales, eu_sales, jp_sales, other_sales, critic_score, user_score, rating]\n",
       "Index: []"
      ]
     },
     "execution_count": 9,
     "metadata": {},
     "output_type": "execute_result"
    }
   ],
   "source": [
    "df[df['genre'].isnull()]"
   ]
  },
  {
   "cell_type": "markdown",
   "id": "8d3d797e",
   "metadata": {},
   "source": [
    "пропусков нет в этом столбце!"
   ]
  },
  {
   "cell_type": "markdown",
   "id": "ccfadfe7",
   "metadata": {},
   "source": [
    "#### В столбце critic_score много пропусков."
   ]
  },
  {
   "cell_type": "markdown",
   "id": "c3f67256",
   "metadata": {},
   "source": [
    "Проставим там заглушку, которую придётся учесть в выборках, где участвует этот столбец."
   ]
  },
  {
   "cell_type": "code",
   "execution_count": 10,
   "id": "f3a7580c",
   "metadata": {},
   "outputs": [],
   "source": [
    "\n",
    "df['critic_score'] = df['critic_score'].fillna(-999)"
   ]
  },
  {
   "cell_type": "markdown",
   "id": "ff7f7de0",
   "metadata": {},
   "source": [
    "#### В столбце user_score много пропусков."
   ]
  },
  {
   "cell_type": "markdown",
   "id": "68daaad9",
   "metadata": {},
   "source": [
    "роставим там заглушку, которую придётся учесть в выборках, где участвует этот столбец."
   ]
  },
  {
   "cell_type": "code",
   "execution_count": 11,
   "id": "9530f0d9",
   "metadata": {},
   "outputs": [],
   "source": [
    "#\n",
    "df['user_score'] = df['user_score'].fillna(-999)"
   ]
  },
  {
   "cell_type": "markdown",
   "id": "0dafc720",
   "metadata": {},
   "source": [
    "#### В столбце rating много пропусков."
   ]
  },
  {
   "cell_type": "markdown",
   "id": "9fa58dd5",
   "metadata": {},
   "source": [
    "К сожалению, нам неоткуда взять присвоенный игре рейтинг, поэтому придётся установитьз аглушку и учесть её при использовании этого столбца."
   ]
  },
  {
   "cell_type": "code",
   "execution_count": 12,
   "id": "6584abee",
   "metadata": {},
   "outputs": [],
   "source": [
    "# \n",
    "# \n",
    "df['rating'] = df['rating'].fillna('WITHOUT_RATE')"
   ]
  },
  {
   "cell_type": "code",
   "execution_count": 13,
   "id": "9c3c3ca6",
   "metadata": {},
   "outputs": [
    {
     "name": "stdout",
     "output_type": "stream",
     "text": [
      "<class 'pandas.core.frame.DataFrame'>\n",
      "Int64Index: 16444 entries, 0 to 16714\n",
      "Data columns (total 11 columns):\n",
      " #   Column           Non-Null Count  Dtype  \n",
      "---  ------           --------------  -----  \n",
      " 0   name             16444 non-null  object \n",
      " 1   platform         16444 non-null  object \n",
      " 2   year_of_release  16444 non-null  float64\n",
      " 3   genre            16444 non-null  object \n",
      " 4   na_sales         16444 non-null  float64\n",
      " 5   eu_sales         16444 non-null  float64\n",
      " 6   jp_sales         16444 non-null  float64\n",
      " 7   other_sales      16444 non-null  float64\n",
      " 8   critic_score     16444 non-null  float64\n",
      " 9   user_score       16444 non-null  object \n",
      " 10  rating           16444 non-null  object \n",
      "dtypes: float64(6), object(5)\n",
      "memory usage: 1.5+ MB\n"
     ]
    }
   ],
   "source": [
    "df.info()"
   ]
  },
  {
   "cell_type": "markdown",
   "id": "557bba29",
   "metadata": {},
   "source": [
    "### Обратите внимание на аббревиатуру 'tbd' в столбце с оценкой пользователей. Отдельно разберите это  начение и опишите, как его обработать;"
   ]
  },
  {
   "cell_type": "markdown",
   "id": "e80a2f71",
   "metadata": {},
   "source": [
    "TBD - аббревиатура от английского To Be Determined (будет определено) или To Be Decided (будет решено). Используется, если какая-то информация еще не определена или решение по вопросу не принято."
   ]
  },
  {
   "cell_type": "markdown",
   "id": "add55527",
   "metadata": {},
   "source": [
    "придётся установитьз аглушку и учесть её при использовании этого столбца."
   ]
  },
  {
   "cell_type": "code",
   "execution_count": 14,
   "id": "c8842801",
   "metadata": {},
   "outputs": [],
   "source": [
    "df['user_score'].replace(['tbd'], '-999', inplace = True)"
   ]
  },
  {
   "cell_type": "code",
   "execution_count": 15,
   "id": "cbba7c07",
   "metadata": {
    "scrolled": true
   },
   "outputs": [
    {
     "data": {
      "text/plain": [
       "-999.0    8981\n",
       " 7.8       322\n",
       " 8.0       285\n",
       " 8.2       276\n",
       " 8.3       252\n",
       "          ... \n",
       " 0.7         2\n",
       " 1.0         2\n",
       " 0.2         2\n",
       " 9.7         1\n",
       " 0.0         1\n",
       "Name: user_score, Length: 96, dtype: int64"
      ]
     },
     "execution_count": 15,
     "metadata": {},
     "output_type": "execute_result"
    }
   ],
   "source": [
    "df['user_score'] = df['user_score'].astype(float)\n",
    "df['user_score'].value_counts()"
   ]
  },
  {
   "cell_type": "markdown",
   "id": "ec08e37f",
   "metadata": {},
   "source": [
    "\n",
    "### Посчитайте суммарные продажи во всех регионах и запишите их в отдельный столбец."
   ]
  },
  {
   "cell_type": "markdown",
   "id": "84b5f3e7",
   "metadata": {},
   "source": [
    "Посчитайте суммарные продажи во всех регионах"
   ]
  },
  {
   "cell_type": "code",
   "execution_count": 16,
   "id": "5e83d854",
   "metadata": {},
   "outputs": [],
   "source": [
    "def all_regions(row):\n",
    "    all_sum_row = 0\n",
    "    for col in df.columns:\n",
    "       \n",
    "        if \"sales\" in col:\n",
    "            all_sum_row +=row[col]\n",
    "    return  all_sum_row "
   ]
  },
  {
   "cell_type": "code",
   "execution_count": 17,
   "id": "194a893a",
   "metadata": {},
   "outputs": [
    {
     "data": {
      "text/plain": [
       "0        82.54\n",
       "1        40.24\n",
       "2        35.52\n",
       "3        32.77\n",
       "4        31.38\n",
       "         ...  \n",
       "16710     0.01\n",
       "16711     0.01\n",
       "16712     0.01\n",
       "16713     0.01\n",
       "16714     0.01\n",
       "Name: all_regions_sales, Length: 16444, dtype: float64"
      ]
     },
     "execution_count": 17,
     "metadata": {},
     "output_type": "execute_result"
    }
   ],
   "source": [
    "\n",
    "df['all_regions_sales'] = df[['na_sales','eu_sales','jp_sales', 'other_sales']].sum(axis = 1)\n",
    "df['all_regions_sales']"
   ]
  },
  {
   "cell_type": "code",
   "execution_count": 18,
   "id": "749f6972",
   "metadata": {},
   "outputs": [
    {
     "data": {
      "text/html": [
       "<div>\n",
       "<style scoped>\n",
       "    .dataframe tbody tr th:only-of-type {\n",
       "        vertical-align: middle;\n",
       "    }\n",
       "\n",
       "    .dataframe tbody tr th {\n",
       "        vertical-align: top;\n",
       "    }\n",
       "\n",
       "    .dataframe thead th {\n",
       "        text-align: right;\n",
       "    }\n",
       "</style>\n",
       "<table border=\"1\" class=\"dataframe\">\n",
       "  <thead>\n",
       "    <tr style=\"text-align: right;\">\n",
       "      <th></th>\n",
       "      <th>name</th>\n",
       "      <th>platform</th>\n",
       "      <th>year_of_release</th>\n",
       "      <th>genre</th>\n",
       "      <th>na_sales</th>\n",
       "      <th>eu_sales</th>\n",
       "      <th>jp_sales</th>\n",
       "      <th>other_sales</th>\n",
       "      <th>critic_score</th>\n",
       "      <th>user_score</th>\n",
       "      <th>rating</th>\n",
       "      <th>all_regions_sales</th>\n",
       "    </tr>\n",
       "  </thead>\n",
       "  <tbody>\n",
       "    <tr>\n",
       "      <th>0</th>\n",
       "      <td>Wii Sports</td>\n",
       "      <td>Wii</td>\n",
       "      <td>2006.0</td>\n",
       "      <td>Sports</td>\n",
       "      <td>41.36</td>\n",
       "      <td>28.96</td>\n",
       "      <td>3.77</td>\n",
       "      <td>8.45</td>\n",
       "      <td>76.0</td>\n",
       "      <td>8.0</td>\n",
       "      <td>E</td>\n",
       "      <td>82.54</td>\n",
       "    </tr>\n",
       "    <tr>\n",
       "      <th>1</th>\n",
       "      <td>Super Mario Bros.</td>\n",
       "      <td>NES</td>\n",
       "      <td>1985.0</td>\n",
       "      <td>Platform</td>\n",
       "      <td>29.08</td>\n",
       "      <td>3.58</td>\n",
       "      <td>6.81</td>\n",
       "      <td>0.77</td>\n",
       "      <td>-999.0</td>\n",
       "      <td>-999.0</td>\n",
       "      <td>WITHOUT_RATE</td>\n",
       "      <td>40.24</td>\n",
       "    </tr>\n",
       "    <tr>\n",
       "      <th>2</th>\n",
       "      <td>Mario Kart Wii</td>\n",
       "      <td>Wii</td>\n",
       "      <td>2008.0</td>\n",
       "      <td>Racing</td>\n",
       "      <td>15.68</td>\n",
       "      <td>12.76</td>\n",
       "      <td>3.79</td>\n",
       "      <td>3.29</td>\n",
       "      <td>82.0</td>\n",
       "      <td>8.3</td>\n",
       "      <td>E</td>\n",
       "      <td>35.52</td>\n",
       "    </tr>\n",
       "    <tr>\n",
       "      <th>3</th>\n",
       "      <td>Wii Sports Resort</td>\n",
       "      <td>Wii</td>\n",
       "      <td>2009.0</td>\n",
       "      <td>Sports</td>\n",
       "      <td>15.61</td>\n",
       "      <td>10.93</td>\n",
       "      <td>3.28</td>\n",
       "      <td>2.95</td>\n",
       "      <td>80.0</td>\n",
       "      <td>8.0</td>\n",
       "      <td>E</td>\n",
       "      <td>32.77</td>\n",
       "    </tr>\n",
       "    <tr>\n",
       "      <th>4</th>\n",
       "      <td>Pokemon Red/Pokemon Blue</td>\n",
       "      <td>GB</td>\n",
       "      <td>1996.0</td>\n",
       "      <td>Role-Playing</td>\n",
       "      <td>11.27</td>\n",
       "      <td>8.89</td>\n",
       "      <td>10.22</td>\n",
       "      <td>1.00</td>\n",
       "      <td>-999.0</td>\n",
       "      <td>-999.0</td>\n",
       "      <td>WITHOUT_RATE</td>\n",
       "      <td>31.38</td>\n",
       "    </tr>\n",
       "    <tr>\n",
       "      <th>5</th>\n",
       "      <td>Tetris</td>\n",
       "      <td>GB</td>\n",
       "      <td>1989.0</td>\n",
       "      <td>Puzzle</td>\n",
       "      <td>23.20</td>\n",
       "      <td>2.26</td>\n",
       "      <td>4.22</td>\n",
       "      <td>0.58</td>\n",
       "      <td>-999.0</td>\n",
       "      <td>-999.0</td>\n",
       "      <td>WITHOUT_RATE</td>\n",
       "      <td>30.26</td>\n",
       "    </tr>\n",
       "    <tr>\n",
       "      <th>6</th>\n",
       "      <td>New Super Mario Bros.</td>\n",
       "      <td>DS</td>\n",
       "      <td>2006.0</td>\n",
       "      <td>Platform</td>\n",
       "      <td>11.28</td>\n",
       "      <td>9.14</td>\n",
       "      <td>6.50</td>\n",
       "      <td>2.88</td>\n",
       "      <td>89.0</td>\n",
       "      <td>8.5</td>\n",
       "      <td>E</td>\n",
       "      <td>29.80</td>\n",
       "    </tr>\n",
       "    <tr>\n",
       "      <th>7</th>\n",
       "      <td>Wii Play</td>\n",
       "      <td>Wii</td>\n",
       "      <td>2006.0</td>\n",
       "      <td>Misc</td>\n",
       "      <td>13.96</td>\n",
       "      <td>9.18</td>\n",
       "      <td>2.93</td>\n",
       "      <td>2.84</td>\n",
       "      <td>58.0</td>\n",
       "      <td>6.6</td>\n",
       "      <td>E</td>\n",
       "      <td>28.91</td>\n",
       "    </tr>\n",
       "    <tr>\n",
       "      <th>8</th>\n",
       "      <td>New Super Mario Bros. Wii</td>\n",
       "      <td>Wii</td>\n",
       "      <td>2009.0</td>\n",
       "      <td>Platform</td>\n",
       "      <td>14.44</td>\n",
       "      <td>6.94</td>\n",
       "      <td>4.70</td>\n",
       "      <td>2.24</td>\n",
       "      <td>87.0</td>\n",
       "      <td>8.4</td>\n",
       "      <td>E</td>\n",
       "      <td>28.32</td>\n",
       "    </tr>\n",
       "    <tr>\n",
       "      <th>9</th>\n",
       "      <td>Duck Hunt</td>\n",
       "      <td>NES</td>\n",
       "      <td>1984.0</td>\n",
       "      <td>Shooter</td>\n",
       "      <td>26.93</td>\n",
       "      <td>0.63</td>\n",
       "      <td>0.28</td>\n",
       "      <td>0.47</td>\n",
       "      <td>-999.0</td>\n",
       "      <td>-999.0</td>\n",
       "      <td>WITHOUT_RATE</td>\n",
       "      <td>28.31</td>\n",
       "    </tr>\n",
       "  </tbody>\n",
       "</table>\n",
       "</div>"
      ],
      "text/plain": [
       "                        name platform  year_of_release         genre  \\\n",
       "0                 Wii Sports      Wii           2006.0        Sports   \n",
       "1          Super Mario Bros.      NES           1985.0      Platform   \n",
       "2             Mario Kart Wii      Wii           2008.0        Racing   \n",
       "3          Wii Sports Resort      Wii           2009.0        Sports   \n",
       "4   Pokemon Red/Pokemon Blue       GB           1996.0  Role-Playing   \n",
       "5                     Tetris       GB           1989.0        Puzzle   \n",
       "6      New Super Mario Bros.       DS           2006.0      Platform   \n",
       "7                   Wii Play      Wii           2006.0          Misc   \n",
       "8  New Super Mario Bros. Wii      Wii           2009.0      Platform   \n",
       "9                  Duck Hunt      NES           1984.0       Shooter   \n",
       "\n",
       "   na_sales  eu_sales  jp_sales  other_sales  critic_score  user_score  \\\n",
       "0     41.36     28.96      3.77         8.45          76.0         8.0   \n",
       "1     29.08      3.58      6.81         0.77        -999.0      -999.0   \n",
       "2     15.68     12.76      3.79         3.29          82.0         8.3   \n",
       "3     15.61     10.93      3.28         2.95          80.0         8.0   \n",
       "4     11.27      8.89     10.22         1.00        -999.0      -999.0   \n",
       "5     23.20      2.26      4.22         0.58        -999.0      -999.0   \n",
       "6     11.28      9.14      6.50         2.88          89.0         8.5   \n",
       "7     13.96      9.18      2.93         2.84          58.0         6.6   \n",
       "8     14.44      6.94      4.70         2.24          87.0         8.4   \n",
       "9     26.93      0.63      0.28         0.47        -999.0      -999.0   \n",
       "\n",
       "         rating  all_regions_sales  \n",
       "0             E              82.54  \n",
       "1  WITHOUT_RATE              40.24  \n",
       "2             E              35.52  \n",
       "3             E              32.77  \n",
       "4  WITHOUT_RATE              31.38  \n",
       "5  WITHOUT_RATE              30.26  \n",
       "6             E              29.80  \n",
       "7             E              28.91  \n",
       "8             E              28.32  \n",
       "9  WITHOUT_RATE              28.31  "
      ]
     },
     "execution_count": 18,
     "metadata": {},
     "output_type": "execute_result"
    }
   ],
   "source": [
    "df.head(10)"
   ]
  },
  {
   "cell_type": "markdown",
   "id": "bcf9259e",
   "metadata": {},
   "source": [
    "## Шаг 3. Проведите исследовательский анализ данных"
   ]
  },
  {
   "cell_type": "markdown",
   "id": "063fa743",
   "metadata": {},
   "source": [
    "### Посмотрите, сколько игр выпускалось в разные годы. Важны ли данные за все периоды?"
   ]
  },
  {
   "cell_type": "code",
   "execution_count": 19,
   "id": "3bb8c419",
   "metadata": {
    "scrolled": true
   },
   "outputs": [
    {
     "data": {
      "text/plain": [
       "<AxesSubplot:xlabel='year_of_release'>"
      ]
     },
     "execution_count": 19,
     "metadata": {},
     "output_type": "execute_result"
    },
    {
     "data": {
      "image/png": "[encoded data removed]",
      "text/plain": [
       "<Figure size 432x288 with 1 Axes>"
      ]
     },
     "metadata": {
      "needs_background": "light"
     },
     "output_type": "display_data"
    }
   ],
   "source": [
    "df.pivot_table(index = 'year_of_release', values = 'all_regions_sales', aggfunc='sum').sort_values(by ='year_of_release', ascending=False).plot(kind='bar')"
   ]
  },
  {
   "cell_type": "markdown",
   "id": "94c5f147",
   "metadata": {},
   "source": [
    "посмотрим по годам"
   ]
  },
  {
   "cell_type": "code",
   "execution_count": 20,
   "id": "c0220af8",
   "metadata": {},
   "outputs": [
    {
     "data": {
      "text/html": [
       "<div>\n",
       "<style scoped>\n",
       "    .dataframe tbody tr th:only-of-type {\n",
       "        vertical-align: middle;\n",
       "    }\n",
       "\n",
       "    .dataframe tbody tr th {\n",
       "        vertical-align: top;\n",
       "    }\n",
       "\n",
       "    .dataframe thead th {\n",
       "        text-align: right;\n",
       "    }\n",
       "</style>\n",
       "<table border=\"1\" class=\"dataframe\">\n",
       "  <thead>\n",
       "    <tr style=\"text-align: right;\">\n",
       "      <th></th>\n",
       "      <th>all_regions_sales</th>\n",
       "    </tr>\n",
       "    <tr>\n",
       "      <th>year_of_release</th>\n",
       "      <th></th>\n",
       "    </tr>\n",
       "  </thead>\n",
       "  <tbody>\n",
       "    <tr>\n",
       "      <th>2008.0</th>\n",
       "      <td>1427</td>\n",
       "    </tr>\n",
       "    <tr>\n",
       "      <th>2009.0</th>\n",
       "      <td>1426</td>\n",
       "    </tr>\n",
       "    <tr>\n",
       "      <th>2010.0</th>\n",
       "      <td>1255</td>\n",
       "    </tr>\n",
       "    <tr>\n",
       "      <th>2007.0</th>\n",
       "      <td>1197</td>\n",
       "    </tr>\n",
       "    <tr>\n",
       "      <th>2011.0</th>\n",
       "      <td>1136</td>\n",
       "    </tr>\n",
       "    <tr>\n",
       "      <th>2006.0</th>\n",
       "      <td>1006</td>\n",
       "    </tr>\n",
       "    <tr>\n",
       "      <th>2005.0</th>\n",
       "      <td>939</td>\n",
       "    </tr>\n",
       "    <tr>\n",
       "      <th>2002.0</th>\n",
       "      <td>829</td>\n",
       "    </tr>\n",
       "    <tr>\n",
       "      <th>2003.0</th>\n",
       "      <td>775</td>\n",
       "    </tr>\n",
       "    <tr>\n",
       "      <th>2004.0</th>\n",
       "      <td>762</td>\n",
       "    </tr>\n",
       "    <tr>\n",
       "      <th>2012.0</th>\n",
       "      <td>653</td>\n",
       "    </tr>\n",
       "    <tr>\n",
       "      <th>2015.0</th>\n",
       "      <td>606</td>\n",
       "    </tr>\n",
       "    <tr>\n",
       "      <th>2014.0</th>\n",
       "      <td>581</td>\n",
       "    </tr>\n",
       "    <tr>\n",
       "      <th>2013.0</th>\n",
       "      <td>544</td>\n",
       "    </tr>\n",
       "    <tr>\n",
       "      <th>2016.0</th>\n",
       "      <td>502</td>\n",
       "    </tr>\n",
       "    <tr>\n",
       "      <th>2001.0</th>\n",
       "      <td>482</td>\n",
       "    </tr>\n",
       "    <tr>\n",
       "      <th>1998.0</th>\n",
       "      <td>379</td>\n",
       "    </tr>\n",
       "    <tr>\n",
       "      <th>2000.0</th>\n",
       "      <td>350</td>\n",
       "    </tr>\n",
       "    <tr>\n",
       "      <th>1999.0</th>\n",
       "      <td>338</td>\n",
       "    </tr>\n",
       "    <tr>\n",
       "      <th>1997.0</th>\n",
       "      <td>289</td>\n",
       "    </tr>\n",
       "    <tr>\n",
       "      <th>1996.0</th>\n",
       "      <td>263</td>\n",
       "    </tr>\n",
       "    <tr>\n",
       "      <th>1995.0</th>\n",
       "      <td>219</td>\n",
       "    </tr>\n",
       "    <tr>\n",
       "      <th>1994.0</th>\n",
       "      <td>121</td>\n",
       "    </tr>\n",
       "    <tr>\n",
       "      <th>1993.0</th>\n",
       "      <td>60</td>\n",
       "    </tr>\n",
       "    <tr>\n",
       "      <th>1981.0</th>\n",
       "      <td>46</td>\n",
       "    </tr>\n",
       "    <tr>\n",
       "      <th>1992.0</th>\n",
       "      <td>43</td>\n",
       "    </tr>\n",
       "    <tr>\n",
       "      <th>1991.0</th>\n",
       "      <td>41</td>\n",
       "    </tr>\n",
       "    <tr>\n",
       "      <th>1982.0</th>\n",
       "      <td>36</td>\n",
       "    </tr>\n",
       "    <tr>\n",
       "      <th>1986.0</th>\n",
       "      <td>21</td>\n",
       "    </tr>\n",
       "    <tr>\n",
       "      <th>1989.0</th>\n",
       "      <td>17</td>\n",
       "    </tr>\n",
       "    <tr>\n",
       "      <th>1983.0</th>\n",
       "      <td>17</td>\n",
       "    </tr>\n",
       "    <tr>\n",
       "      <th>1990.0</th>\n",
       "      <td>16</td>\n",
       "    </tr>\n",
       "    <tr>\n",
       "      <th>1987.0</th>\n",
       "      <td>16</td>\n",
       "    </tr>\n",
       "    <tr>\n",
       "      <th>1988.0</th>\n",
       "      <td>15</td>\n",
       "    </tr>\n",
       "    <tr>\n",
       "      <th>1985.0</th>\n",
       "      <td>14</td>\n",
       "    </tr>\n",
       "    <tr>\n",
       "      <th>1984.0</th>\n",
       "      <td>14</td>\n",
       "    </tr>\n",
       "    <tr>\n",
       "      <th>1980.0</th>\n",
       "      <td>9</td>\n",
       "    </tr>\n",
       "  </tbody>\n",
       "</table>\n",
       "</div>"
      ],
      "text/plain": [
       "                 all_regions_sales\n",
       "year_of_release                   \n",
       "2008.0                        1427\n",
       "2009.0                        1426\n",
       "2010.0                        1255\n",
       "2007.0                        1197\n",
       "2011.0                        1136\n",
       "2006.0                        1006\n",
       "2005.0                         939\n",
       "2002.0                         829\n",
       "2003.0                         775\n",
       "2004.0                         762\n",
       "2012.0                         653\n",
       "2015.0                         606\n",
       "2014.0                         581\n",
       "2013.0                         544\n",
       "2016.0                         502\n",
       "2001.0                         482\n",
       "1998.0                         379\n",
       "2000.0                         350\n",
       "1999.0                         338\n",
       "1997.0                         289\n",
       "1996.0                         263\n",
       "1995.0                         219\n",
       "1994.0                         121\n",
       "1993.0                          60\n",
       "1981.0                          46\n",
       "1992.0                          43\n",
       "1991.0                          41\n",
       "1982.0                          36\n",
       "1986.0                          21\n",
       "1989.0                          17\n",
       "1983.0                          17\n",
       "1990.0                          16\n",
       "1987.0                          16\n",
       "1988.0                          15\n",
       "1985.0                          14\n",
       "1984.0                          14\n",
       "1980.0                           9"
      ]
     },
     "execution_count": 20,
     "metadata": {},
     "output_type": "execute_result"
    }
   ],
   "source": [
    "df.pivot_table(index = 'year_of_release', values = 'all_regions_sales', aggfunc='count').sort_values(by ='all_regions_sales', ascending=False)"
   ]
  },
  {
   "cell_type": "markdown",
   "id": "81dc4bb2",
   "metadata": {},
   "source": [
    "### Посмотрите, как менялись продажи по платформам. Выберите платформы с наибольшими суммарными продажами и постройте распределение по годам."
   ]
  },
  {
   "cell_type": "markdown",
   "id": "da91c8c0",
   "metadata": {},
   "source": [
    "Посмотрите, как менялись продажи по платформам"
   ]
  },
  {
   "cell_type": "code",
   "execution_count": 21,
   "id": "da7a63e6",
   "metadata": {},
   "outputs": [
    {
     "data": {
      "text/html": [
       "<div>\n",
       "<style scoped>\n",
       "    .dataframe tbody tr th:only-of-type {\n",
       "        vertical-align: middle;\n",
       "    }\n",
       "\n",
       "    .dataframe tbody tr th {\n",
       "        vertical-align: top;\n",
       "    }\n",
       "\n",
       "    .dataframe thead th {\n",
       "        text-align: right;\n",
       "    }\n",
       "</style>\n",
       "<table border=\"1\" class=\"dataframe\">\n",
       "  <thead>\n",
       "    <tr style=\"text-align: right;\">\n",
       "      <th></th>\n",
       "      <th>all_regions_sales</th>\n",
       "    </tr>\n",
       "    <tr>\n",
       "      <th>platform</th>\n",
       "      <th></th>\n",
       "    </tr>\n",
       "  </thead>\n",
       "  <tbody>\n",
       "    <tr>\n",
       "      <th>PS2</th>\n",
       "      <td>1233.56</td>\n",
       "    </tr>\n",
       "    <tr>\n",
       "      <th>X360</th>\n",
       "      <td>961.24</td>\n",
       "    </tr>\n",
       "    <tr>\n",
       "      <th>PS3</th>\n",
       "      <td>931.34</td>\n",
       "    </tr>\n",
       "    <tr>\n",
       "      <th>Wii</th>\n",
       "      <td>891.18</td>\n",
       "    </tr>\n",
       "    <tr>\n",
       "      <th>DS</th>\n",
       "      <td>802.78</td>\n",
       "    </tr>\n",
       "    <tr>\n",
       "      <th>PS</th>\n",
       "      <td>727.58</td>\n",
       "    </tr>\n",
       "    <tr>\n",
       "      <th>PS4</th>\n",
       "      <td>314.14</td>\n",
       "    </tr>\n",
       "    <tr>\n",
       "      <th>GBA</th>\n",
       "      <td>312.88</td>\n",
       "    </tr>\n",
       "    <tr>\n",
       "      <th>PSP</th>\n",
       "      <td>289.53</td>\n",
       "    </tr>\n",
       "    <tr>\n",
       "      <th>3DS</th>\n",
       "      <td>257.81</td>\n",
       "    </tr>\n",
       "    <tr>\n",
       "      <th>PC</th>\n",
       "      <td>255.76</td>\n",
       "    </tr>\n",
       "    <tr>\n",
       "      <th>GB</th>\n",
       "      <td>254.43</td>\n",
       "    </tr>\n",
       "    <tr>\n",
       "      <th>XB</th>\n",
       "      <td>251.57</td>\n",
       "    </tr>\n",
       "    <tr>\n",
       "      <th>NES</th>\n",
       "      <td>251.05</td>\n",
       "    </tr>\n",
       "    <tr>\n",
       "      <th>N64</th>\n",
       "      <td>218.01</td>\n",
       "    </tr>\n",
       "    <tr>\n",
       "      <th>SNES</th>\n",
       "      <td>200.04</td>\n",
       "    </tr>\n",
       "    <tr>\n",
       "      <th>GC</th>\n",
       "      <td>196.73</td>\n",
       "    </tr>\n",
       "    <tr>\n",
       "      <th>XOne</th>\n",
       "      <td>159.32</td>\n",
       "    </tr>\n",
       "    <tr>\n",
       "      <th>2600</th>\n",
       "      <td>86.48</td>\n",
       "    </tr>\n",
       "    <tr>\n",
       "      <th>WiiU</th>\n",
       "      <td>82.19</td>\n",
       "    </tr>\n",
       "    <tr>\n",
       "      <th>PSV</th>\n",
       "      <td>53.81</td>\n",
       "    </tr>\n",
       "    <tr>\n",
       "      <th>SAT</th>\n",
       "      <td>33.59</td>\n",
       "    </tr>\n",
       "    <tr>\n",
       "      <th>GEN</th>\n",
       "      <td>28.35</td>\n",
       "    </tr>\n",
       "    <tr>\n",
       "      <th>DC</th>\n",
       "      <td>15.95</td>\n",
       "    </tr>\n",
       "    <tr>\n",
       "      <th>SCD</th>\n",
       "      <td>1.86</td>\n",
       "    </tr>\n",
       "    <tr>\n",
       "      <th>NG</th>\n",
       "      <td>1.44</td>\n",
       "    </tr>\n",
       "    <tr>\n",
       "      <th>WS</th>\n",
       "      <td>1.42</td>\n",
       "    </tr>\n",
       "    <tr>\n",
       "      <th>TG16</th>\n",
       "      <td>0.16</td>\n",
       "    </tr>\n",
       "    <tr>\n",
       "      <th>3DO</th>\n",
       "      <td>0.10</td>\n",
       "    </tr>\n",
       "    <tr>\n",
       "      <th>GG</th>\n",
       "      <td>0.04</td>\n",
       "    </tr>\n",
       "    <tr>\n",
       "      <th>PCFX</th>\n",
       "      <td>0.03</td>\n",
       "    </tr>\n",
       "  </tbody>\n",
       "</table>\n",
       "</div>"
      ],
      "text/plain": [
       "          all_regions_sales\n",
       "platform                   \n",
       "PS2                 1233.56\n",
       "X360                 961.24\n",
       "PS3                  931.34\n",
       "Wii                  891.18\n",
       "DS                   802.78\n",
       "PS                   727.58\n",
       "PS4                  314.14\n",
       "GBA                  312.88\n",
       "PSP                  289.53\n",
       "3DS                  257.81\n",
       "PC                   255.76\n",
       "GB                   254.43\n",
       "XB                   251.57\n",
       "NES                  251.05\n",
       "N64                  218.01\n",
       "SNES                 200.04\n",
       "GC                   196.73\n",
       "XOne                 159.32\n",
       "2600                  86.48\n",
       "WiiU                  82.19\n",
       "PSV                   53.81\n",
       "SAT                   33.59\n",
       "GEN                   28.35\n",
       "DC                    15.95\n",
       "SCD                    1.86\n",
       "NG                     1.44\n",
       "WS                     1.42\n",
       "TG16                   0.16\n",
       "3DO                    0.10\n",
       "GG                     0.04\n",
       "PCFX                   0.03"
      ]
     },
     "execution_count": 21,
     "metadata": {},
     "output_type": "execute_result"
    }
   ],
   "source": [
    "df.pivot_table(index = 'platform', values = 'all_regions_sales', aggfunc='sum').sort_values(by ='all_regions_sales', ascending=False)"
   ]
  },
  {
   "cell_type": "code",
   "execution_count": 22,
   "id": "d9d50f49",
   "metadata": {
    "scrolled": true
   },
   "outputs": [],
   "source": [
    "best_sales_platform=['PS2','X360','PS3','Wii','DS','PS','PS4']\n"
   ]
  },
  {
   "cell_type": "code",
   "execution_count": 23,
   "id": "998811d6",
   "metadata": {},
   "outputs": [],
   "source": [
    "all_best_sales_platform=['PCFX','3DO','TG16','NG','WS','DC','SAT','SNES','PSV',\n",
    "                         'WiiU','GB','XOne','GC','N64','PC','XB','3DS','PSP',\n",
    "                         'GBA','PS4','PS','DS','Wii','PS3','X360','PS2']\n"
   ]
  },
  {
   "cell_type": "markdown",
   "id": "e3c58e54",
   "metadata": {},
   "source": [
    "подготовим данные для графика по годам"
   ]
  },
  {
   "cell_type": "code",
   "execution_count": 24,
   "id": "5a3e5de6",
   "metadata": {},
   "outputs": [],
   "source": [
    "# \n",
    "sales_best_year=df.query('platform in @best_sales_platform').pivot_table\\\n",
    "(index='year_of_release', columns='platform',aggfunc = 'count')['all_regions_sales'].fillna(0)"
   ]
  },
  {
   "cell_type": "markdown",
   "id": "30b7c5ce",
   "metadata": {},
   "source": [
    "построим график продаж по годам"
   ]
  },
  {
   "cell_type": "code",
   "execution_count": null,
   "id": "895efdbc",
   "metadata": {},
   "outputs": [],
   "source": [
    "#\n",
    "sales_best_year.plot( figsize = (15,5),stacked=False)"
   ]
  },
  {
   "cell_type": "code",
   "execution_count": null,
   "id": "2f879c16",
   "metadata": {},
   "outputs": [],
   "source": [
    "<div class=\"alert alert-success\">\n",
    "<b>Комментарий ревьюера V1✔️:</b>\n",
    "    \n",
    "Так можно сделать комментарий с похвалой.\n",
    "\n",
    "</div>"
   ]
  },
  {
   "cell_type": "markdown",
   "id": "501bd4b0",
   "metadata": {},
   "source": [
    "### За какой характерный срок появляются новые и исчезают старые платформы?"
   ]
  },
  {
   "cell_type": "markdown",
   "id": "e3416720",
   "metadata": {},
   "source": [
    "Срок существования платформ \"долгожителей\" примерно 6 лет, однако нам нет необходимости рассматривать столь длительный период, достаточно будет данных за 2 года.\n"
   ]
  },
  {
   "cell_type": "markdown",
   "id": "75b5af0e",
   "metadata": {},
   "source": [
    "подготовим данные для графика"
   ]
  },
  {
   "cell_type": "code",
   "execution_count": 26,
   "id": "b3c78244",
   "metadata": {},
   "outputs": [
    {
     "data": {
      "text/html": [
       "<div>\n",
       "<style scoped>\n",
       "    .dataframe tbody tr th:only-of-type {\n",
       "        vertical-align: middle;\n",
       "    }\n",
       "\n",
       "    .dataframe tbody tr th {\n",
       "        vertical-align: top;\n",
       "    }\n",
       "\n",
       "    .dataframe thead tr th {\n",
       "        text-align: left;\n",
       "    }\n",
       "\n",
       "    .dataframe thead tr:last-of-type th {\n",
       "        text-align: right;\n",
       "    }\n",
       "</style>\n",
       "<table border=\"1\" class=\"dataframe\">\n",
       "  <thead>\n",
       "    <tr>\n",
       "      <th></th>\n",
       "      <th colspan=\"6\" halign=\"left\">all_regions_sales</th>\n",
       "      <th colspan=\"6\" halign=\"left\">critic_score</th>\n",
       "      <th colspan=\"6\" halign=\"left\">eu_sales</th>\n",
       "      <th colspan=\"6\" halign=\"left\">genre</th>\n",
       "      <th colspan=\"6\" halign=\"left\">jp_sales</th>\n",
       "      <th colspan=\"6\" halign=\"left\">na_sales</th>\n",
       "      <th colspan=\"6\" halign=\"left\">name</th>\n",
       "      <th colspan=\"6\" halign=\"left\">other_sales</th>\n",
       "      <th colspan=\"6\" halign=\"left\">rating</th>\n",
       "      <th colspan=\"6\" halign=\"left\">user_score</th>\n",
       "    </tr>\n",
       "    <tr>\n",
       "      <th>platform</th>\n",
       "      <th>DS</th>\n",
       "      <th>PS2</th>\n",
       "      <th>PS3</th>\n",
       "      <th>PS4</th>\n",
       "      <th>Wii</th>\n",
       "      <th>X360</th>\n",
       "      <th>DS</th>\n",
       "      <th>PS2</th>\n",
       "      <th>PS3</th>\n",
       "      <th>PS4</th>\n",
       "      <th>Wii</th>\n",
       "      <th>X360</th>\n",
       "      <th>DS</th>\n",
       "      <th>PS2</th>\n",
       "      <th>PS3</th>\n",
       "      <th>PS4</th>\n",
       "      <th>Wii</th>\n",
       "      <th>X360</th>\n",
       "      <th>DS</th>\n",
       "      <th>PS2</th>\n",
       "      <th>PS3</th>\n",
       "      <th>PS4</th>\n",
       "      <th>Wii</th>\n",
       "      <th>X360</th>\n",
       "      <th>DS</th>\n",
       "      <th>PS2</th>\n",
       "      <th>PS3</th>\n",
       "      <th>PS4</th>\n",
       "      <th>Wii</th>\n",
       "      <th>X360</th>\n",
       "      <th>DS</th>\n",
       "      <th>PS2</th>\n",
       "      <th>PS3</th>\n",
       "      <th>PS4</th>\n",
       "      <th>Wii</th>\n",
       "      <th>X360</th>\n",
       "      <th>DS</th>\n",
       "      <th>PS2</th>\n",
       "      <th>PS3</th>\n",
       "      <th>PS4</th>\n",
       "      <th>Wii</th>\n",
       "      <th>X360</th>\n",
       "      <th>DS</th>\n",
       "      <th>PS2</th>\n",
       "      <th>PS3</th>\n",
       "      <th>PS4</th>\n",
       "      <th>Wii</th>\n",
       "      <th>X360</th>\n",
       "      <th>DS</th>\n",
       "      <th>PS2</th>\n",
       "      <th>PS3</th>\n",
       "      <th>PS4</th>\n",
       "      <th>Wii</th>\n",
       "      <th>X360</th>\n",
       "      <th>DS</th>\n",
       "      <th>PS2</th>\n",
       "      <th>PS3</th>\n",
       "      <th>PS4</th>\n",
       "      <th>Wii</th>\n",
       "      <th>X360</th>\n",
       "    </tr>\n",
       "    <tr>\n",
       "      <th>year_of_release</th>\n",
       "      <th></th>\n",
       "      <th></th>\n",
       "      <th></th>\n",
       "      <th></th>\n",
       "      <th></th>\n",
       "      <th></th>\n",
       "      <th></th>\n",
       "      <th></th>\n",
       "      <th></th>\n",
       "      <th></th>\n",
       "      <th></th>\n",
       "      <th></th>\n",
       "      <th></th>\n",
       "      <th></th>\n",
       "      <th></th>\n",
       "      <th></th>\n",
       "      <th></th>\n",
       "      <th></th>\n",
       "      <th></th>\n",
       "      <th></th>\n",
       "      <th></th>\n",
       "      <th></th>\n",
       "      <th></th>\n",
       "      <th></th>\n",
       "      <th></th>\n",
       "      <th></th>\n",
       "      <th></th>\n",
       "      <th></th>\n",
       "      <th></th>\n",
       "      <th></th>\n",
       "      <th></th>\n",
       "      <th></th>\n",
       "      <th></th>\n",
       "      <th></th>\n",
       "      <th></th>\n",
       "      <th></th>\n",
       "      <th></th>\n",
       "      <th></th>\n",
       "      <th></th>\n",
       "      <th></th>\n",
       "      <th></th>\n",
       "      <th></th>\n",
       "      <th></th>\n",
       "      <th></th>\n",
       "      <th></th>\n",
       "      <th></th>\n",
       "      <th></th>\n",
       "      <th></th>\n",
       "      <th></th>\n",
       "      <th></th>\n",
       "      <th></th>\n",
       "      <th></th>\n",
       "      <th></th>\n",
       "      <th></th>\n",
       "      <th></th>\n",
       "      <th></th>\n",
       "      <th></th>\n",
       "      <th></th>\n",
       "      <th></th>\n",
       "      <th></th>\n",
       "    </tr>\n",
       "  </thead>\n",
       "  <tbody>\n",
       "    <tr>\n",
       "      <th>2011.0</th>\n",
       "      <td>153.0</td>\n",
       "      <td>7.0</td>\n",
       "      <td>215.0</td>\n",
       "      <td>NaN</td>\n",
       "      <td>143.0</td>\n",
       "      <td>206.0</td>\n",
       "      <td>153.0</td>\n",
       "      <td>7.0</td>\n",
       "      <td>215.0</td>\n",
       "      <td>NaN</td>\n",
       "      <td>143.0</td>\n",
       "      <td>206.0</td>\n",
       "      <td>153.0</td>\n",
       "      <td>7.0</td>\n",
       "      <td>215.0</td>\n",
       "      <td>NaN</td>\n",
       "      <td>143.0</td>\n",
       "      <td>206.0</td>\n",
       "      <td>153.0</td>\n",
       "      <td>7.0</td>\n",
       "      <td>215.0</td>\n",
       "      <td>NaN</td>\n",
       "      <td>143.0</td>\n",
       "      <td>206.0</td>\n",
       "      <td>153.0</td>\n",
       "      <td>7.0</td>\n",
       "      <td>215.0</td>\n",
       "      <td>NaN</td>\n",
       "      <td>143.0</td>\n",
       "      <td>206.0</td>\n",
       "      <td>153.0</td>\n",
       "      <td>7.0</td>\n",
       "      <td>215.0</td>\n",
       "      <td>NaN</td>\n",
       "      <td>143.0</td>\n",
       "      <td>206.0</td>\n",
       "      <td>153.0</td>\n",
       "      <td>7.0</td>\n",
       "      <td>215.0</td>\n",
       "      <td>NaN</td>\n",
       "      <td>143.0</td>\n",
       "      <td>206.0</td>\n",
       "      <td>153.0</td>\n",
       "      <td>7.0</td>\n",
       "      <td>215.0</td>\n",
       "      <td>NaN</td>\n",
       "      <td>143.0</td>\n",
       "      <td>206.0</td>\n",
       "      <td>153.0</td>\n",
       "      <td>7.0</td>\n",
       "      <td>215.0</td>\n",
       "      <td>NaN</td>\n",
       "      <td>143.0</td>\n",
       "      <td>206.0</td>\n",
       "      <td>153.0</td>\n",
       "      <td>7.0</td>\n",
       "      <td>215.0</td>\n",
       "      <td>NaN</td>\n",
       "      <td>143.0</td>\n",
       "      <td>206.0</td>\n",
       "    </tr>\n",
       "    <tr>\n",
       "      <th>2012.0</th>\n",
       "      <td>23.0</td>\n",
       "      <td>NaN</td>\n",
       "      <td>148.0</td>\n",
       "      <td>NaN</td>\n",
       "      <td>31.0</td>\n",
       "      <td>106.0</td>\n",
       "      <td>23.0</td>\n",
       "      <td>NaN</td>\n",
       "      <td>148.0</td>\n",
       "      <td>NaN</td>\n",
       "      <td>31.0</td>\n",
       "      <td>106.0</td>\n",
       "      <td>23.0</td>\n",
       "      <td>NaN</td>\n",
       "      <td>148.0</td>\n",
       "      <td>NaN</td>\n",
       "      <td>31.0</td>\n",
       "      <td>106.0</td>\n",
       "      <td>23.0</td>\n",
       "      <td>NaN</td>\n",
       "      <td>148.0</td>\n",
       "      <td>NaN</td>\n",
       "      <td>31.0</td>\n",
       "      <td>106.0</td>\n",
       "      <td>23.0</td>\n",
       "      <td>NaN</td>\n",
       "      <td>148.0</td>\n",
       "      <td>NaN</td>\n",
       "      <td>31.0</td>\n",
       "      <td>106.0</td>\n",
       "      <td>23.0</td>\n",
       "      <td>NaN</td>\n",
       "      <td>148.0</td>\n",
       "      <td>NaN</td>\n",
       "      <td>31.0</td>\n",
       "      <td>106.0</td>\n",
       "      <td>23.0</td>\n",
       "      <td>NaN</td>\n",
       "      <td>148.0</td>\n",
       "      <td>NaN</td>\n",
       "      <td>31.0</td>\n",
       "      <td>106.0</td>\n",
       "      <td>23.0</td>\n",
       "      <td>NaN</td>\n",
       "      <td>148.0</td>\n",
       "      <td>NaN</td>\n",
       "      <td>31.0</td>\n",
       "      <td>106.0</td>\n",
       "      <td>23.0</td>\n",
       "      <td>NaN</td>\n",
       "      <td>148.0</td>\n",
       "      <td>NaN</td>\n",
       "      <td>31.0</td>\n",
       "      <td>106.0</td>\n",
       "      <td>23.0</td>\n",
       "      <td>NaN</td>\n",
       "      <td>148.0</td>\n",
       "      <td>NaN</td>\n",
       "      <td>31.0</td>\n",
       "      <td>106.0</td>\n",
       "    </tr>\n",
       "    <tr>\n",
       "      <th>2013.0</th>\n",
       "      <td>8.0</td>\n",
       "      <td>NaN</td>\n",
       "      <td>126.0</td>\n",
       "      <td>16.0</td>\n",
       "      <td>12.0</td>\n",
       "      <td>75.0</td>\n",
       "      <td>8.0</td>\n",
       "      <td>NaN</td>\n",
       "      <td>126.0</td>\n",
       "      <td>16.0</td>\n",
       "      <td>12.0</td>\n",
       "      <td>75.0</td>\n",
       "      <td>8.0</td>\n",
       "      <td>NaN</td>\n",
       "      <td>126.0</td>\n",
       "      <td>16.0</td>\n",
       "      <td>12.0</td>\n",
       "      <td>75.0</td>\n",
       "      <td>8.0</td>\n",
       "      <td>NaN</td>\n",
       "      <td>126.0</td>\n",
       "      <td>16.0</td>\n",
       "      <td>12.0</td>\n",
       "      <td>75.0</td>\n",
       "      <td>8.0</td>\n",
       "      <td>NaN</td>\n",
       "      <td>126.0</td>\n",
       "      <td>16.0</td>\n",
       "      <td>12.0</td>\n",
       "      <td>75.0</td>\n",
       "      <td>8.0</td>\n",
       "      <td>NaN</td>\n",
       "      <td>126.0</td>\n",
       "      <td>16.0</td>\n",
       "      <td>12.0</td>\n",
       "      <td>75.0</td>\n",
       "      <td>8.0</td>\n",
       "      <td>NaN</td>\n",
       "      <td>126.0</td>\n",
       "      <td>16.0</td>\n",
       "      <td>12.0</td>\n",
       "      <td>75.0</td>\n",
       "      <td>8.0</td>\n",
       "      <td>NaN</td>\n",
       "      <td>126.0</td>\n",
       "      <td>16.0</td>\n",
       "      <td>12.0</td>\n",
       "      <td>75.0</td>\n",
       "      <td>8.0</td>\n",
       "      <td>NaN</td>\n",
       "      <td>126.0</td>\n",
       "      <td>16.0</td>\n",
       "      <td>12.0</td>\n",
       "      <td>75.0</td>\n",
       "      <td>8.0</td>\n",
       "      <td>NaN</td>\n",
       "      <td>126.0</td>\n",
       "      <td>16.0</td>\n",
       "      <td>12.0</td>\n",
       "      <td>75.0</td>\n",
       "    </tr>\n",
       "    <tr>\n",
       "      <th>2014.0</th>\n",
       "      <td>NaN</td>\n",
       "      <td>NaN</td>\n",
       "      <td>108.0</td>\n",
       "      <td>75.0</td>\n",
       "      <td>6.0</td>\n",
       "      <td>63.0</td>\n",
       "      <td>NaN</td>\n",
       "      <td>NaN</td>\n",
       "      <td>108.0</td>\n",
       "      <td>75.0</td>\n",
       "      <td>6.0</td>\n",
       "      <td>63.0</td>\n",
       "      <td>NaN</td>\n",
       "      <td>NaN</td>\n",
       "      <td>108.0</td>\n",
       "      <td>75.0</td>\n",
       "      <td>6.0</td>\n",
       "      <td>63.0</td>\n",
       "      <td>NaN</td>\n",
       "      <td>NaN</td>\n",
       "      <td>108.0</td>\n",
       "      <td>75.0</td>\n",
       "      <td>6.0</td>\n",
       "      <td>63.0</td>\n",
       "      <td>NaN</td>\n",
       "      <td>NaN</td>\n",
       "      <td>108.0</td>\n",
       "      <td>75.0</td>\n",
       "      <td>6.0</td>\n",
       "      <td>63.0</td>\n",
       "      <td>NaN</td>\n",
       "      <td>NaN</td>\n",
       "      <td>108.0</td>\n",
       "      <td>75.0</td>\n",
       "      <td>6.0</td>\n",
       "      <td>63.0</td>\n",
       "      <td>NaN</td>\n",
       "      <td>NaN</td>\n",
       "      <td>108.0</td>\n",
       "      <td>75.0</td>\n",
       "      <td>6.0</td>\n",
       "      <td>63.0</td>\n",
       "      <td>NaN</td>\n",
       "      <td>NaN</td>\n",
       "      <td>108.0</td>\n",
       "      <td>75.0</td>\n",
       "      <td>6.0</td>\n",
       "      <td>63.0</td>\n",
       "      <td>NaN</td>\n",
       "      <td>NaN</td>\n",
       "      <td>108.0</td>\n",
       "      <td>75.0</td>\n",
       "      <td>6.0</td>\n",
       "      <td>63.0</td>\n",
       "      <td>NaN</td>\n",
       "      <td>NaN</td>\n",
       "      <td>108.0</td>\n",
       "      <td>75.0</td>\n",
       "      <td>6.0</td>\n",
       "      <td>63.0</td>\n",
       "    </tr>\n",
       "    <tr>\n",
       "      <th>2015.0</th>\n",
       "      <td>NaN</td>\n",
       "      <td>NaN</td>\n",
       "      <td>73.0</td>\n",
       "      <td>137.0</td>\n",
       "      <td>4.0</td>\n",
       "      <td>35.0</td>\n",
       "      <td>NaN</td>\n",
       "      <td>NaN</td>\n",
       "      <td>73.0</td>\n",
       "      <td>137.0</td>\n",
       "      <td>4.0</td>\n",
       "      <td>35.0</td>\n",
       "      <td>NaN</td>\n",
       "      <td>NaN</td>\n",
       "      <td>73.0</td>\n",
       "      <td>137.0</td>\n",
       "      <td>4.0</td>\n",
       "      <td>35.0</td>\n",
       "      <td>NaN</td>\n",
       "      <td>NaN</td>\n",
       "      <td>73.0</td>\n",
       "      <td>137.0</td>\n",
       "      <td>4.0</td>\n",
       "      <td>35.0</td>\n",
       "      <td>NaN</td>\n",
       "      <td>NaN</td>\n",
       "      <td>73.0</td>\n",
       "      <td>137.0</td>\n",
       "      <td>4.0</td>\n",
       "      <td>35.0</td>\n",
       "      <td>NaN</td>\n",
       "      <td>NaN</td>\n",
       "      <td>73.0</td>\n",
       "      <td>137.0</td>\n",
       "      <td>4.0</td>\n",
       "      <td>35.0</td>\n",
       "      <td>NaN</td>\n",
       "      <td>NaN</td>\n",
       "      <td>73.0</td>\n",
       "      <td>137.0</td>\n",
       "      <td>4.0</td>\n",
       "      <td>35.0</td>\n",
       "      <td>NaN</td>\n",
       "      <td>NaN</td>\n",
       "      <td>73.0</td>\n",
       "      <td>137.0</td>\n",
       "      <td>4.0</td>\n",
       "      <td>35.0</td>\n",
       "      <td>NaN</td>\n",
       "      <td>NaN</td>\n",
       "      <td>73.0</td>\n",
       "      <td>137.0</td>\n",
       "      <td>4.0</td>\n",
       "      <td>35.0</td>\n",
       "      <td>NaN</td>\n",
       "      <td>NaN</td>\n",
       "      <td>73.0</td>\n",
       "      <td>137.0</td>\n",
       "      <td>4.0</td>\n",
       "      <td>35.0</td>\n",
       "    </tr>\n",
       "    <tr>\n",
       "      <th>2016.0</th>\n",
       "      <td>NaN</td>\n",
       "      <td>NaN</td>\n",
       "      <td>38.0</td>\n",
       "      <td>164.0</td>\n",
       "      <td>1.0</td>\n",
       "      <td>13.0</td>\n",
       "      <td>NaN</td>\n",
       "      <td>NaN</td>\n",
       "      <td>38.0</td>\n",
       "      <td>164.0</td>\n",
       "      <td>1.0</td>\n",
       "      <td>13.0</td>\n",
       "      <td>NaN</td>\n",
       "      <td>NaN</td>\n",
       "      <td>38.0</td>\n",
       "      <td>164.0</td>\n",
       "      <td>1.0</td>\n",
       "      <td>13.0</td>\n",
       "      <td>NaN</td>\n",
       "      <td>NaN</td>\n",
       "      <td>38.0</td>\n",
       "      <td>164.0</td>\n",
       "      <td>1.0</td>\n",
       "      <td>13.0</td>\n",
       "      <td>NaN</td>\n",
       "      <td>NaN</td>\n",
       "      <td>38.0</td>\n",
       "      <td>164.0</td>\n",
       "      <td>1.0</td>\n",
       "      <td>13.0</td>\n",
       "      <td>NaN</td>\n",
       "      <td>NaN</td>\n",
       "      <td>38.0</td>\n",
       "      <td>164.0</td>\n",
       "      <td>1.0</td>\n",
       "      <td>13.0</td>\n",
       "      <td>NaN</td>\n",
       "      <td>NaN</td>\n",
       "      <td>38.0</td>\n",
       "      <td>164.0</td>\n",
       "      <td>1.0</td>\n",
       "      <td>13.0</td>\n",
       "      <td>NaN</td>\n",
       "      <td>NaN</td>\n",
       "      <td>38.0</td>\n",
       "      <td>164.0</td>\n",
       "      <td>1.0</td>\n",
       "      <td>13.0</td>\n",
       "      <td>NaN</td>\n",
       "      <td>NaN</td>\n",
       "      <td>38.0</td>\n",
       "      <td>164.0</td>\n",
       "      <td>1.0</td>\n",
       "      <td>13.0</td>\n",
       "      <td>NaN</td>\n",
       "      <td>NaN</td>\n",
       "      <td>38.0</td>\n",
       "      <td>164.0</td>\n",
       "      <td>1.0</td>\n",
       "      <td>13.0</td>\n",
       "    </tr>\n",
       "  </tbody>\n",
       "</table>\n",
       "</div>"
      ],
      "text/plain": [
       "                all_regions_sales                                   \\\n",
       "platform                       DS  PS2    PS3    PS4    Wii   X360   \n",
       "year_of_release                                                      \n",
       "2011.0                      153.0  7.0  215.0    NaN  143.0  206.0   \n",
       "2012.0                       23.0  NaN  148.0    NaN   31.0  106.0   \n",
       "2013.0                        8.0  NaN  126.0   16.0   12.0   75.0   \n",
       "2014.0                        NaN  NaN  108.0   75.0    6.0   63.0   \n",
       "2015.0                        NaN  NaN   73.0  137.0    4.0   35.0   \n",
       "2016.0                        NaN  NaN   38.0  164.0    1.0   13.0   \n",
       "\n",
       "                critic_score                                  eu_sales       \\\n",
       "platform                  DS  PS2    PS3    PS4    Wii   X360       DS  PS2   \n",
       "year_of_release                                                               \n",
       "2011.0                 153.0  7.0  215.0    NaN  143.0  206.0    153.0  7.0   \n",
       "2012.0                  23.0  NaN  148.0    NaN   31.0  106.0     23.0  NaN   \n",
       "2013.0                   8.0  NaN  126.0   16.0   12.0   75.0      8.0  NaN   \n",
       "2014.0                   NaN  NaN  108.0   75.0    6.0   63.0      NaN  NaN   \n",
       "2015.0                   NaN  NaN   73.0  137.0    4.0   35.0      NaN  NaN   \n",
       "2016.0                   NaN  NaN   38.0  164.0    1.0   13.0      NaN  NaN   \n",
       "\n",
       "                                             genre                            \\\n",
       "platform           PS3    PS4    Wii   X360     DS  PS2    PS3    PS4    Wii   \n",
       "year_of_release                                                                \n",
       "2011.0           215.0    NaN  143.0  206.0  153.0  7.0  215.0    NaN  143.0   \n",
       "2012.0           148.0    NaN   31.0  106.0   23.0  NaN  148.0    NaN   31.0   \n",
       "2013.0           126.0   16.0   12.0   75.0    8.0  NaN  126.0   16.0   12.0   \n",
       "2014.0           108.0   75.0    6.0   63.0    NaN  NaN  108.0   75.0    6.0   \n",
       "2015.0            73.0  137.0    4.0   35.0    NaN  NaN   73.0  137.0    4.0   \n",
       "2016.0            38.0  164.0    1.0   13.0    NaN  NaN   38.0  164.0    1.0   \n",
       "\n",
       "                       jp_sales                                  na_sales  \\\n",
       "platform          X360       DS  PS2    PS3    PS4    Wii   X360       DS   \n",
       "year_of_release                                                             \n",
       "2011.0           206.0    153.0  7.0  215.0    NaN  143.0  206.0    153.0   \n",
       "2012.0           106.0     23.0  NaN  148.0    NaN   31.0  106.0     23.0   \n",
       "2013.0            75.0      8.0  NaN  126.0   16.0   12.0   75.0      8.0   \n",
       "2014.0            63.0      NaN  NaN  108.0   75.0    6.0   63.0      NaN   \n",
       "2015.0            35.0      NaN  NaN   73.0  137.0    4.0   35.0      NaN   \n",
       "2016.0            13.0      NaN  NaN   38.0  164.0    1.0   13.0      NaN   \n",
       "\n",
       "                                                   name                     \\\n",
       "platform         PS2    PS3    PS4    Wii   X360     DS  PS2    PS3    PS4   \n",
       "year_of_release                                                              \n",
       "2011.0           7.0  215.0    NaN  143.0  206.0  153.0  7.0  215.0    NaN   \n",
       "2012.0           NaN  148.0    NaN   31.0  106.0   23.0  NaN  148.0    NaN   \n",
       "2013.0           NaN  126.0   16.0   12.0   75.0    8.0  NaN  126.0   16.0   \n",
       "2014.0           NaN  108.0   75.0    6.0   63.0    NaN  NaN  108.0   75.0   \n",
       "2015.0           NaN   73.0  137.0    4.0   35.0    NaN  NaN   73.0  137.0   \n",
       "2016.0           NaN   38.0  164.0    1.0   13.0    NaN  NaN   38.0  164.0   \n",
       "\n",
       "                              other_sales                                   \\\n",
       "platform           Wii   X360          DS  PS2    PS3    PS4    Wii   X360   \n",
       "year_of_release                                                              \n",
       "2011.0           143.0  206.0       153.0  7.0  215.0    NaN  143.0  206.0   \n",
       "2012.0            31.0  106.0        23.0  NaN  148.0    NaN   31.0  106.0   \n",
       "2013.0            12.0   75.0         8.0  NaN  126.0   16.0   12.0   75.0   \n",
       "2014.0             6.0   63.0         NaN  NaN  108.0   75.0    6.0   63.0   \n",
       "2015.0             4.0   35.0         NaN  NaN   73.0  137.0    4.0   35.0   \n",
       "2016.0             1.0   13.0         NaN  NaN   38.0  164.0    1.0   13.0   \n",
       "\n",
       "                rating                                  user_score       \\\n",
       "platform            DS  PS2    PS3    PS4    Wii   X360         DS  PS2   \n",
       "year_of_release                                                           \n",
       "2011.0           153.0  7.0  215.0    NaN  143.0  206.0      153.0  7.0   \n",
       "2012.0            23.0  NaN  148.0    NaN   31.0  106.0       23.0  NaN   \n",
       "2013.0             8.0  NaN  126.0   16.0   12.0   75.0        8.0  NaN   \n",
       "2014.0             NaN  NaN  108.0   75.0    6.0   63.0        NaN  NaN   \n",
       "2015.0             NaN  NaN   73.0  137.0    4.0   35.0        NaN  NaN   \n",
       "2016.0             NaN  NaN   38.0  164.0    1.0   13.0        NaN  NaN   \n",
       "\n",
       "                                             \n",
       "platform           PS3    PS4    Wii   X360  \n",
       "year_of_release                              \n",
       "2011.0           215.0    NaN  143.0  206.0  \n",
       "2012.0           148.0    NaN   31.0  106.0  \n",
       "2013.0           126.0   16.0   12.0   75.0  \n",
       "2014.0           108.0   75.0    6.0   63.0  \n",
       "2015.0            73.0  137.0    4.0   35.0  \n",
       "2016.0            38.0  164.0    1.0   13.0  "
      ]
     },
     "execution_count": 26,
     "metadata": {},
     "output_type": "execute_result"
    }
   ],
   "source": [
    "# \n",
    "df.query('platform in @best_sales_platform & year_of_release>2010').pivot_table(index='year_of_release', columns='platform',aggfunc = 'count')\n"
   ]
  },
  {
   "cell_type": "markdown",
   "id": "848d96c2",
   "metadata": {},
   "source": [
    "построим график"
   ]
  },
  {
   "cell_type": "code",
   "execution_count": 27,
   "id": "b03a252f",
   "metadata": {
    "scrolled": true
   },
   "outputs": [
    {
     "data": {
      "text/plain": [
       "<AxesSubplot:xlabel='year_of_release'>"
      ]
     },
     "execution_count": 27,
     "metadata": {},
     "output_type": "execute_result"
    },
    {
     "data": {
      "image/png": "[encoded data removed]",
      "text/plain": [
       "<Figure size 1080x360 with 1 Axes>"
      ]
     },
     "metadata": {
      "needs_background": "light"
     },
     "output_type": "display_data"
    }
   ],
   "source": [
    "df.query('platform in @all_best_sales_platform').pivot_table(index='year_of_release', columns='platform',aggfunc = 'count')['all_regions_sales'].fillna(0).plot(linewidth=8,figsize = (15,5),stacked=False)"
   ]
  },
  {
   "cell_type": "markdown",
   "id": "a2a11f29",
   "metadata": {},
   "source": [
    "построим график продаж по годам используем series.pct_change() для сравнения с предыдущим периодом. В таблице представлены данные по перспективным платформам с числовыми показателями динамики за соответствующий год. Отрицательное число означает количество в процентах на сколько упали продажи по сравнению с предыдущим годом. Положительное число - показывает прирост продаж по сравнению с предыдущим годом."
   ]
  },
  {
   "cell_type": "code",
   "execution_count": 28,
   "id": "6a321ef9",
   "metadata": {},
   "outputs": [
    {
     "name": "stdout",
     "output_type": "stream",
     "text": [
      "\n",
      " PS3                  all_regions_sales\n",
      "year_of_release                   \n",
      "2014.0                         NaN\n",
      "2015.0                      -32.41\n",
      "2016.0                      -47.95\n",
      "\n",
      " Wii                  all_regions_sales\n",
      "year_of_release                   \n",
      "2014.0                         NaN\n",
      "2015.0                      -33.33\n",
      "2016.0                      -75.00\n",
      "\n",
      " X360                  all_regions_sales\n",
      "year_of_release                   \n",
      "2014.0                         NaN\n",
      "2015.0                      -44.44\n",
      "2016.0                      -62.86\n",
      "\n",
      " PSP                  all_regions_sales\n",
      "year_of_release                   \n",
      "2014.0                         NaN\n",
      "2015.0                       -70.0\n",
      "\n",
      " PC                  all_regions_sales\n",
      "year_of_release                   \n",
      "2014.0                         NaN\n",
      "2015.0                        6.38\n",
      "2016.0                        8.00\n",
      "\n",
      " 3DS                  all_regions_sales\n",
      "year_of_release                   \n",
      "2014.0                         NaN\n",
      "2015.0                        7.50\n",
      "2016.0                      -46.51\n",
      "\n",
      " PSV                  all_regions_sales\n",
      "year_of_release                   \n",
      "2014.0                         NaN\n",
      "2015.0                       10.00\n",
      "2016.0                      -22.73\n",
      "\n",
      " PS4                  all_regions_sales\n",
      "year_of_release                   \n",
      "2014.0                         NaN\n",
      "2015.0                       82.67\n",
      "2016.0                       19.71\n",
      "\n",
      " XOne                  all_regions_sales\n",
      "year_of_release                   \n",
      "2014.0                         NaN\n",
      "2015.0                       31.15\n",
      "2016.0                        8.75\n",
      "\n",
      " WiiU                  all_regions_sales\n",
      "year_of_release                   \n",
      "2014.0                         NaN\n",
      "2015.0                       -9.68\n",
      "2016.0                      -50.00\n"
     ]
    }
   ],
   "source": [
    "# \n",
    "# \n",
    "\n",
    "q=df.value_counts('platform').index.tolist()\n",
    "observable_series = None\n",
    "for p in q:\n",
    "\n",
    "    plat_list = [p]\n",
    "\n",
    "    observable_series = df.query('platform in @plat_list & year_of_release>2013').\\\n",
    "    pivot_table(index='year_of_release', values='all_regions_sales', aggfunc = 'count')\n",
    "    r=observable_series.pct_change().mul(100).round(2) \n",
    "    if (len(r)>0):\n",
    "        print('\\n',p,r)\n",
    "\n"
   ]
  },
  {
   "cell_type": "markdown",
   "id": "9ca3cdc4",
   "metadata": {},
   "source": [
    "Исходя из графиков, потенциально прибыльные платформы -  PS4 XOne PC.\n",
    "Расположены в порядке убывания потенциала, посчитанного на основе процента продаж предыдущих периодов.\n"
   ]
  },
  {
   "cell_type": "code",
   "execution_count": 29,
   "id": "89e434ad",
   "metadata": {},
   "outputs": [],
   "source": [
    "df.drop(df[df.year_of_release<2015].index, inplace= True)"
   ]
  },
  {
   "cell_type": "markdown",
   "id": "e65243e2",
   "metadata": {},
   "source": [
    "### Постройте график «ящик с усами» по глобальным продажам игр в разбивке по платформам. Опишите результат."
   ]
  },
  {
   "cell_type": "markdown",
   "id": "3202f182",
   "metadata": {},
   "source": [
    "остроим график «ящик с усами» по глобальным продажам игр в разбивке по платформам используем для этого boxplot"
   ]
  },
  {
   "cell_type": "code",
   "execution_count": 30,
   "id": "531f4b44",
   "metadata": {
    "scrolled": true
   },
   "outputs": [
    {
     "data": {
      "image/png": "[encoded data removed]",
      "text/plain": [
       "<Figure size 432x288 with 1 Axes>"
      ]
     },
     "metadata": {
      "needs_background": "light"
     },
     "output_type": "display_data"
    }
   ],
   "source": [
    "# \n",
    "# \n",
    "\n",
    "\n",
    "group_sales_platform = df.query('platform in @all_best_sales_platform & year_of_release>2013').pivot_table(index='year_of_release', columns='platform',aggfunc = 'count')['all_regions_sales'].fillna(0)\n",
    "fig, ax = plt.subplots()\n",
    "ax.boxplot(group_sales_platform)\n",
    "ax.set_xticklabels(group_sales_platform.columns)\n",
    "plt.show()\n",
    "\n",
    "\n",
    "\n"
   ]
  },
  {
   "cell_type": "markdown",
   "id": "81975dd5",
   "metadata": {},
   "source": [
    "мы видим что среди лидеров по охвату рынка PS4, PSP, XBOX One. Их медианные значения продаж и диапазон  квартилей иногда значительно превосходит остальные."
   ]
  },
  {
   "cell_type": "markdown",
   "id": "77a43064",
   "metadata": {},
   "source": [
    "2015-2016"
   ]
  },
  {
   "cell_type": "markdown",
   "id": "0ff8980c",
   "metadata": {},
   "source": [
    "### PS4 Посмотрите, как влияют на продажи внутри одной популярной платформы отзывы пользователей и критиков. Постройте диаграмму рассеяния и посчитайте корреляцию между отзывами и продажами.  Сформулируйте выводы."
   ]
  },
  {
   "cell_type": "markdown",
   "id": "b2452d78",
   "metadata": {},
   "source": [
    "Выберем для исследования платформу PS4"
   ]
  },
  {
   "cell_type": "markdown",
   "id": "73b97e5a",
   "metadata": {},
   "source": [
    "#### user_score"
   ]
  },
  {
   "cell_type": "markdown",
   "id": "d64de5ea",
   "metadata": {},
   "source": [
    "учтем при отборе заглушки которые установили ранее"
   ]
  },
  {
   "cell_type": "code",
   "execution_count": 31,
   "id": "35572f03",
   "metadata": {},
   "outputs": [
    {
     "data": {
      "text/html": [
       "<div>\n",
       "<style scoped>\n",
       "    .dataframe tbody tr th:only-of-type {\n",
       "        vertical-align: middle;\n",
       "    }\n",
       "\n",
       "    .dataframe tbody tr th {\n",
       "        vertical-align: top;\n",
       "    }\n",
       "\n",
       "    .dataframe thead th {\n",
       "        text-align: right;\n",
       "    }\n",
       "</style>\n",
       "<table border=\"1\" class=\"dataframe\">\n",
       "  <thead>\n",
       "    <tr style=\"text-align: right;\">\n",
       "      <th></th>\n",
       "      <th>all_regions_sales</th>\n",
       "      <th>user_score</th>\n",
       "    </tr>\n",
       "  </thead>\n",
       "  <tbody>\n",
       "    <tr>\n",
       "      <th>all_regions_sales</th>\n",
       "      <td>1.000000</td>\n",
       "      <td>-0.064368</td>\n",
       "    </tr>\n",
       "    <tr>\n",
       "      <th>user_score</th>\n",
       "      <td>-0.064368</td>\n",
       "      <td>1.000000</td>\n",
       "    </tr>\n",
       "  </tbody>\n",
       "</table>\n",
       "</div>"
      ],
      "text/plain": [
       "                   all_regions_sales  user_score\n",
       "all_regions_sales           1.000000   -0.064368\n",
       "user_score                 -0.064368    1.000000"
      ]
     },
     "execution_count": 31,
     "metadata": {},
     "output_type": "execute_result"
    }
   ],
   "source": [
    "\n",
    "ps4_rates_sales = df.query('platform==\"PS4\" & critic_score!=-999.0 & user_score!=-999.0')[['all_regions_sales','user_score']]\n",
    "ps4_rates_sales.corr()"
   ]
  },
  {
   "cell_type": "markdown",
   "id": "205d767e",
   "metadata": {},
   "source": [
    "продажи от оценок пользователей не зависят"
   ]
  },
  {
   "cell_type": "markdown",
   "id": "7d39dd83",
   "metadata": {},
   "source": [
    "построим график, показывающий зависимость количества проданных копий игр от оценок пользователей"
   ]
  },
  {
   "cell_type": "code",
   "execution_count": 32,
   "id": "13fcd08a",
   "metadata": {},
   "outputs": [
    {
     "data": {
      "image/png": "[encoded data removed]",
      "text/plain": [
       "<Figure size 720x432 with 1 Axes>"
      ]
     },
     "metadata": {
      "needs_background": "light"
     },
     "output_type": "display_data"
    }
   ],
   "source": [
    "fig, ax = plt.subplots(figsize=(10, 6))\n",
    "ax.scatter(x =  ps4_rates_sales['all_regions_sales'], y = ps4_rates_sales['user_score'])\n",
    "plt.xlabel(\"all_regions_sales\")\n",
    "plt.ylabel(\"user_score\")\n",
    "plt.show()"
   ]
  },
  {
   "cell_type": "markdown",
   "id": "245dc1db",
   "metadata": {},
   "source": [
    "продажи от оценок пользователей не зависят,что подтверждает этот график."
   ]
  },
  {
   "cell_type": "markdown",
   "id": "ee040881",
   "metadata": {},
   "source": [
    "#### critic_score"
   ]
  },
  {
   "cell_type": "code",
   "execution_count": 33,
   "id": "a9bd42cd",
   "metadata": {
    "scrolled": true
   },
   "outputs": [
    {
     "data": {
      "text/plain": [
       "array([2015., 2016.])"
      ]
     },
     "execution_count": 33,
     "metadata": {},
     "output_type": "execute_result"
    }
   ],
   "source": [
    "df.query('platform==\"PS4\"')['year_of_release'].unique()"
   ]
  },
  {
   "cell_type": "markdown",
   "id": "39557edc",
   "metadata": {},
   "source": [
    "учтем при отборе заглушки которые установили ранее"
   ]
  },
  {
   "cell_type": "code",
   "execution_count": 34,
   "id": "400d43fd",
   "metadata": {},
   "outputs": [
    {
     "data": {
      "text/html": [
       "<div>\n",
       "<style scoped>\n",
       "    .dataframe tbody tr th:only-of-type {\n",
       "        vertical-align: middle;\n",
       "    }\n",
       "\n",
       "    .dataframe tbody tr th {\n",
       "        vertical-align: top;\n",
       "    }\n",
       "\n",
       "    .dataframe thead th {\n",
       "        text-align: right;\n",
       "    }\n",
       "</style>\n",
       "<table border=\"1\" class=\"dataframe\">\n",
       "  <thead>\n",
       "    <tr style=\"text-align: right;\">\n",
       "      <th></th>\n",
       "      <th>all_regions_sales</th>\n",
       "      <th>critic_score</th>\n",
       "    </tr>\n",
       "  </thead>\n",
       "  <tbody>\n",
       "    <tr>\n",
       "      <th>all_regions_sales</th>\n",
       "      <td>1.000000</td>\n",
       "      <td>0.392074</td>\n",
       "    </tr>\n",
       "    <tr>\n",
       "      <th>critic_score</th>\n",
       "      <td>0.392074</td>\n",
       "      <td>1.000000</td>\n",
       "    </tr>\n",
       "  </tbody>\n",
       "</table>\n",
       "</div>"
      ],
      "text/plain": [
       "                   all_regions_sales  critic_score\n",
       "all_regions_sales           1.000000      0.392074\n",
       "critic_score                0.392074      1.000000"
      ]
     },
     "execution_count": 34,
     "metadata": {},
     "output_type": "execute_result"
    }
   ],
   "source": [
    "\n",
    "ps4_rates_sales = df.query('platform==\"PS4\" & critic_score!=-999.0 & user_score!=-999.0')[['all_regions_sales','critic_score']]\n",
    "ps4_rates_sales.corr()\n",
    "\n"
   ]
  },
  {
   "cell_type": "markdown",
   "id": "43c61801",
   "metadata": {},
   "source": [
    "Отзывы критиков влияют гораздо сильнее на продажи. Именно поэтому, часто игры выдают для составления обзоров критикам на этапе завершения."
   ]
  },
  {
   "cell_type": "markdown",
   "id": "a7592697",
   "metadata": {},
   "source": [
    "построим график, показывающий зависимость количества проданных копий игр от оценок"
   ]
  },
  {
   "cell_type": "code",
   "execution_count": 35,
   "id": "682ec091",
   "metadata": {},
   "outputs": [
    {
     "data": {
      "image/png": "[encoded data removed]",
      "text/plain": [
       "<Figure size 720x432 with 1 Axes>"
      ]
     },
     "metadata": {
      "needs_background": "light"
     },
     "output_type": "display_data"
    }
   ],
   "source": [
    "fig, ax = plt.subplots(figsize=(10, 6))\n",
    "ax.scatter(x =  ps4_rates_sales['all_regions_sales'], y = ps4_rates_sales['critic_score'])\n",
    "plt.xlabel(\"all_regions_sales\")\n",
    "plt.ylabel(\"critic_score\")\n",
    "plt.show()"
   ]
  },
  {
   "cell_type": "markdown",
   "id": "44cba21c",
   "metadata": {},
   "source": [
    "На графике видно, что зависимость есть - гораздо больше игр с рейтингом 70 и выше продаются в разы больше. Есть определенная связь."
   ]
  },
  {
   "cell_type": "markdown",
   "id": "c67e38e6",
   "metadata": {},
   "source": [
    "### PC Посмотрите, как влияют на продажи внутри одной популярной платформы отзывы пользователей и критиков. Постройте диаграмму рассеяния и посчитайте корреляцию между отзывами и продажами.  Сформулируйте выводы."
   ]
  },
  {
   "cell_type": "markdown",
   "id": "ada9b507",
   "metadata": {},
   "source": [
    "Выберем для исследования платформу PS4"
   ]
  },
  {
   "cell_type": "markdown",
   "id": "002ff57c",
   "metadata": {},
   "source": [
    "#### user_score"
   ]
  },
  {
   "cell_type": "markdown",
   "id": "d4b37ae6",
   "metadata": {},
   "source": [
    "учтем при отборе заглушки которые установили ранее"
   ]
  },
  {
   "cell_type": "code",
   "execution_count": 36,
   "id": "f83417f0",
   "metadata": {},
   "outputs": [
    {
     "data": {
      "text/html": [
       "<div>\n",
       "<style scoped>\n",
       "    .dataframe tbody tr th:only-of-type {\n",
       "        vertical-align: middle;\n",
       "    }\n",
       "\n",
       "    .dataframe tbody tr th {\n",
       "        vertical-align: top;\n",
       "    }\n",
       "\n",
       "    .dataframe thead th {\n",
       "        text-align: right;\n",
       "    }\n",
       "</style>\n",
       "<table border=\"1\" class=\"dataframe\">\n",
       "  <thead>\n",
       "    <tr style=\"text-align: right;\">\n",
       "      <th></th>\n",
       "      <th>all_regions_sales</th>\n",
       "      <th>user_score</th>\n",
       "    </tr>\n",
       "  </thead>\n",
       "  <tbody>\n",
       "    <tr>\n",
       "      <th>all_regions_sales</th>\n",
       "      <td>1.000000</td>\n",
       "      <td>0.140312</td>\n",
       "    </tr>\n",
       "    <tr>\n",
       "      <th>user_score</th>\n",
       "      <td>0.140312</td>\n",
       "      <td>1.000000</td>\n",
       "    </tr>\n",
       "  </tbody>\n",
       "</table>\n",
       "</div>"
      ],
      "text/plain": [
       "                   all_regions_sales  user_score\n",
       "all_regions_sales           1.000000    0.140312\n",
       "user_score                  0.140312    1.000000"
      ]
     },
     "execution_count": 36,
     "metadata": {},
     "output_type": "execute_result"
    }
   ],
   "source": [
    "\n",
    "ps4_rates_sales = df.query('platform==\"PC\" & critic_score!=-999.0 & user_score!=-999.0')[['all_regions_sales','user_score']]\n",
    "ps4_rates_sales.corr()"
   ]
  },
  {
   "cell_type": "markdown",
   "id": "ebf90dad",
   "metadata": {},
   "source": [
    "продажи от оценок пользователей не зависят"
   ]
  },
  {
   "cell_type": "markdown",
   "id": "2af16ecf",
   "metadata": {},
   "source": [
    "построим график, показывающий зависимость количества проданных копий игр от оценок пользователей"
   ]
  },
  {
   "cell_type": "code",
   "execution_count": 37,
   "id": "6cb003a3",
   "metadata": {},
   "outputs": [
    {
     "data": {
      "image/png": "[encoded data removed]",
      "text/plain": [
       "<Figure size 720x432 with 1 Axes>"
      ]
     },
     "metadata": {
      "needs_background": "light"
     },
     "output_type": "display_data"
    }
   ],
   "source": [
    "fig, ax = plt.subplots(figsize=(10, 6))\n",
    "ax.scatter(x =  ps4_rates_sales['all_regions_sales'], y = ps4_rates_sales['user_score'])\n",
    "plt.xlabel(\"all_regions_sales\")\n",
    "plt.ylabel(\"user_score\")\n",
    "plt.show()"
   ]
  },
  {
   "cell_type": "markdown",
   "id": "98351255",
   "metadata": {},
   "source": [
    "продажи от оценок пользователей не зависят,что подтверждает этот график."
   ]
  },
  {
   "cell_type": "markdown",
   "id": "818b82f6",
   "metadata": {},
   "source": [
    "#### critic_score"
   ]
  },
  {
   "cell_type": "code",
   "execution_count": 38,
   "id": "b638de41",
   "metadata": {
    "scrolled": true
   },
   "outputs": [
    {
     "data": {
      "text/plain": [
       "array([2015., 2016.])"
      ]
     },
     "execution_count": 38,
     "metadata": {},
     "output_type": "execute_result"
    }
   ],
   "source": [
    "df.query('platform==\"PC\"')['year_of_release'].unique()"
   ]
  },
  {
   "cell_type": "markdown",
   "id": "6bfb0456",
   "metadata": {},
   "source": [
    "учтем при отборе заглушки которые установили ранее"
   ]
  },
  {
   "cell_type": "code",
   "execution_count": 39,
   "id": "f98ee34e",
   "metadata": {},
   "outputs": [
    {
     "data": {
      "text/html": [
       "<div>\n",
       "<style scoped>\n",
       "    .dataframe tbody tr th:only-of-type {\n",
       "        vertical-align: middle;\n",
       "    }\n",
       "\n",
       "    .dataframe tbody tr th {\n",
       "        vertical-align: top;\n",
       "    }\n",
       "\n",
       "    .dataframe thead th {\n",
       "        text-align: right;\n",
       "    }\n",
       "</style>\n",
       "<table border=\"1\" class=\"dataframe\">\n",
       "  <thead>\n",
       "    <tr style=\"text-align: right;\">\n",
       "      <th></th>\n",
       "      <th>all_regions_sales</th>\n",
       "      <th>critic_score</th>\n",
       "    </tr>\n",
       "  </thead>\n",
       "  <tbody>\n",
       "    <tr>\n",
       "      <th>all_regions_sales</th>\n",
       "      <td>1.000000</td>\n",
       "      <td>0.392074</td>\n",
       "    </tr>\n",
       "    <tr>\n",
       "      <th>critic_score</th>\n",
       "      <td>0.392074</td>\n",
       "      <td>1.000000</td>\n",
       "    </tr>\n",
       "  </tbody>\n",
       "</table>\n",
       "</div>"
      ],
      "text/plain": [
       "                   all_regions_sales  critic_score\n",
       "all_regions_sales           1.000000      0.392074\n",
       "critic_score                0.392074      1.000000"
      ]
     },
     "execution_count": 39,
     "metadata": {},
     "output_type": "execute_result"
    }
   ],
   "source": [
    "\n",
    "ps4_rates_sales = df.query('platform==\"PS4\" & critic_score!=-999.0 & user_score!=-999.0')[['all_regions_sales','critic_score']]\n",
    "ps4_rates_sales.corr()\n",
    "\n"
   ]
  },
  {
   "cell_type": "markdown",
   "id": "92ae2975",
   "metadata": {},
   "source": [
    "Отзывы критиков влияют гораздо сильнее на продажи. Именно поэтому, часто игры выдают для составления обзоров критикам на этапе завершения."
   ]
  },
  {
   "cell_type": "markdown",
   "id": "37d5a0a5",
   "metadata": {},
   "source": [
    "построим график, показывающий зависимость количества проданных копий игр от оценок"
   ]
  },
  {
   "cell_type": "code",
   "execution_count": 40,
   "id": "13445c3a",
   "metadata": {},
   "outputs": [
    {
     "data": {
      "image/png": "[encoded data removed]",
      "text/plain": [
       "<Figure size 720x432 with 1 Axes>"
      ]
     },
     "metadata": {
      "needs_background": "light"
     },
     "output_type": "display_data"
    }
   ],
   "source": [
    "fig, ax = plt.subplots(figsize=(10, 6))\n",
    "ax.scatter(x =  ps4_rates_sales['all_regions_sales'], y = ps4_rates_sales['critic_score'])\n",
    "plt.xlabel(\"all_regions_sales\")\n",
    "plt.ylabel(\"critic_score\")\n",
    "plt.show()"
   ]
  },
  {
   "cell_type": "markdown",
   "id": "3916eba1",
   "metadata": {},
   "source": [
    "На графике видно, что зависимость есть - гораздо больше игр с рейтингом 70 и выше продаются в разы больше. Есть определенная связь."
   ]
  },
  {
   "cell_type": "markdown",
   "id": "689305f1",
   "metadata": {},
   "source": [
    "### 3DS Посмотрите, как влияют на продажи внутри одной популярной платформы отзывы пользователей и критиков. Постройте диаграмму рассеяния и посчитайте корреляцию между отзывами и продажами.  Сформулируйте выводы."
   ]
  },
  {
   "cell_type": "markdown",
   "id": "ac647fb0",
   "metadata": {},
   "source": [
    "Выберем для исследования платформу 3DS"
   ]
  },
  {
   "cell_type": "markdown",
   "id": "604d5139",
   "metadata": {},
   "source": [
    "#### user_score"
   ]
  },
  {
   "cell_type": "markdown",
   "id": "19b04c39",
   "metadata": {},
   "source": [
    "учтем при отборе заглушки которые установили ранее"
   ]
  },
  {
   "cell_type": "code",
   "execution_count": 41,
   "id": "2f03c958",
   "metadata": {
    "scrolled": true
   },
   "outputs": [
    {
     "data": {
      "text/html": [
       "<div>\n",
       "<style scoped>\n",
       "    .dataframe tbody tr th:only-of-type {\n",
       "        vertical-align: middle;\n",
       "    }\n",
       "\n",
       "    .dataframe tbody tr th {\n",
       "        vertical-align: top;\n",
       "    }\n",
       "\n",
       "    .dataframe thead th {\n",
       "        text-align: right;\n",
       "    }\n",
       "</style>\n",
       "<table border=\"1\" class=\"dataframe\">\n",
       "  <thead>\n",
       "    <tr style=\"text-align: right;\">\n",
       "      <th></th>\n",
       "      <th>all_regions_sales</th>\n",
       "      <th>user_score</th>\n",
       "    </tr>\n",
       "  </thead>\n",
       "  <tbody>\n",
       "    <tr>\n",
       "      <th>all_regions_sales</th>\n",
       "      <td>1.000000</td>\n",
       "      <td>0.240477</td>\n",
       "    </tr>\n",
       "    <tr>\n",
       "      <th>user_score</th>\n",
       "      <td>0.240477</td>\n",
       "      <td>1.000000</td>\n",
       "    </tr>\n",
       "  </tbody>\n",
       "</table>\n",
       "</div>"
      ],
      "text/plain": [
       "                   all_regions_sales  user_score\n",
       "all_regions_sales           1.000000    0.240477\n",
       "user_score                  0.240477    1.000000"
      ]
     },
     "execution_count": 41,
     "metadata": {},
     "output_type": "execute_result"
    }
   ],
   "source": [
    "\n",
    "ps4_rates_sales = df.query('platform==\"3DS\" & critic_score!=-999.0 & user_score!=-999.0')[['all_regions_sales','user_score']]\n",
    "ps4_rates_sales.corr()"
   ]
  },
  {
   "cell_type": "markdown",
   "id": "953cc33b",
   "metadata": {},
   "source": [
    "продажи от оценок пользователей не зависят"
   ]
  },
  {
   "cell_type": "markdown",
   "id": "44dc055a",
   "metadata": {},
   "source": [
    "построим график, показывающий зависимость количества проданных копий игр от оценок пользователей"
   ]
  },
  {
   "cell_type": "code",
   "execution_count": 42,
   "id": "77410aad",
   "metadata": {},
   "outputs": [
    {
     "data": {
      "image/png": "[encoded data removed]",
      "text/plain": [
       "<Figure size 720x432 with 1 Axes>"
      ]
     },
     "metadata": {
      "needs_background": "light"
     },
     "output_type": "display_data"
    }
   ],
   "source": [
    "fig, ax = plt.subplots(figsize=(10, 6))\n",
    "ax.scatter(x =  ps4_rates_sales['all_regions_sales'], y = ps4_rates_sales['user_score'])\n",
    "plt.xlabel(\"all_regions_sales\")\n",
    "plt.ylabel(\"user_score\")\n",
    "plt.show()"
   ]
  },
  {
   "cell_type": "markdown",
   "id": "c614d307",
   "metadata": {},
   "source": [
    "продажи от оценок пользователей не зависят,что подтверждает этот график."
   ]
  },
  {
   "cell_type": "markdown",
   "id": "1dd4f4ff",
   "metadata": {},
   "source": [
    "#### critic_score"
   ]
  },
  {
   "cell_type": "code",
   "execution_count": 43,
   "id": "25f53775",
   "metadata": {
    "scrolled": true
   },
   "outputs": [
    {
     "data": {
      "text/plain": [
       "array([2016., 2015.])"
      ]
     },
     "execution_count": 43,
     "metadata": {},
     "output_type": "execute_result"
    }
   ],
   "source": [
    "df.query('platform==\"3DS\"')['year_of_release'].unique()"
   ]
  },
  {
   "cell_type": "markdown",
   "id": "db9a6e1f",
   "metadata": {},
   "source": [
    "учтем при отборе заглушки которые установили ранее"
   ]
  },
  {
   "cell_type": "code",
   "execution_count": 44,
   "id": "ce446341",
   "metadata": {},
   "outputs": [
    {
     "data": {
      "text/html": [
       "<div>\n",
       "<style scoped>\n",
       "    .dataframe tbody tr th:only-of-type {\n",
       "        vertical-align: middle;\n",
       "    }\n",
       "\n",
       "    .dataframe tbody tr th {\n",
       "        vertical-align: top;\n",
       "    }\n",
       "\n",
       "    .dataframe thead th {\n",
       "        text-align: right;\n",
       "    }\n",
       "</style>\n",
       "<table border=\"1\" class=\"dataframe\">\n",
       "  <thead>\n",
       "    <tr style=\"text-align: right;\">\n",
       "      <th></th>\n",
       "      <th>all_regions_sales</th>\n",
       "      <th>critic_score</th>\n",
       "    </tr>\n",
       "  </thead>\n",
       "  <tbody>\n",
       "    <tr>\n",
       "      <th>all_regions_sales</th>\n",
       "      <td>1.000000</td>\n",
       "      <td>0.177575</td>\n",
       "    </tr>\n",
       "    <tr>\n",
       "      <th>critic_score</th>\n",
       "      <td>0.177575</td>\n",
       "      <td>1.000000</td>\n",
       "    </tr>\n",
       "  </tbody>\n",
       "</table>\n",
       "</div>"
      ],
      "text/plain": [
       "                   all_regions_sales  critic_score\n",
       "all_regions_sales           1.000000      0.177575\n",
       "critic_score                0.177575      1.000000"
      ]
     },
     "execution_count": 44,
     "metadata": {},
     "output_type": "execute_result"
    }
   ],
   "source": [
    "\n",
    "ps4_rates_sales = df.query('platform==\"3DS\" & critic_score!=-999.0 & user_score!=-999.0')[['all_regions_sales','critic_score']]\n",
    "ps4_rates_sales.corr()\n",
    "\n"
   ]
  },
  {
   "cell_type": "markdown",
   "id": "ece3b843",
   "metadata": {},
   "source": [
    "Отзывы критиков влияют гораздо сильнее на продажи. Именно поэтому, часто игры выдают для составления обзоров критикам на этапе завершения."
   ]
  },
  {
   "cell_type": "markdown",
   "id": "fd78a68c",
   "metadata": {},
   "source": [
    "построим график, показывающий зависимость количества проданных копий игр от оценок"
   ]
  },
  {
   "cell_type": "code",
   "execution_count": 45,
   "id": "bd273918",
   "metadata": {},
   "outputs": [
    {
     "data": {
      "image/png": "[encoded data removed]",
      "text/plain": [
       "<Figure size 720x432 with 1 Axes>"
      ]
     },
     "metadata": {
      "needs_background": "light"
     },
     "output_type": "display_data"
    }
   ],
   "source": [
    "fig, ax = plt.subplots(figsize=(10, 6))\n",
    "ax.scatter(x =  ps4_rates_sales['all_regions_sales'], y = ps4_rates_sales['critic_score'])\n",
    "plt.xlabel(\"all_regions_sales\")\n",
    "plt.ylabel(\"critic_score\")\n",
    "plt.show()"
   ]
  },
  {
   "cell_type": "markdown",
   "id": "5a0ee51e",
   "metadata": {},
   "source": [
    "На графике видно, что зависимость есть - гораздо больше игр с рейтингом 70 и выше продаются в разы больше. Есть определенная связь."
   ]
  },
  {
   "cell_type": "markdown",
   "id": "19fbb2d4",
   "metadata": {},
   "source": [
    "### Соотнесите выводы с продажами игр на других платформах.\n"
   ]
  },
  {
   "cell_type": "markdown",
   "id": "948a3cbf",
   "metadata": {},
   "source": [
    "ПО проведенным исследования можно сделать вывод, что пользовательский рейтинг не оказывает влияние на продажи, в отличие от отзывов критиков, которые оказывают влияние от слабого до умеренного "
   ]
  },
  {
   "cell_type": "markdown",
   "id": "a9950897",
   "metadata": {},
   "source": [
    "### Посмотрите на общее распределение игр по жанрам. Что можно сказать о самых прибыльных жанрах? Выделяются ли жанры с высокими и низкими продажами?"
   ]
  },
  {
   "cell_type": "markdown",
   "id": "928a4b92",
   "metadata": {},
   "source": [
    "Создадим группировку в зависимости от жанра игры:"
   ]
  },
  {
   "cell_type": "code",
   "execution_count": 46,
   "id": "8a5ce715",
   "metadata": {
    "pycharm": {
     "is_executing": true
    }
   },
   "outputs": [
    {
     "data": {
      "text/html": [
       "<div>\n",
       "<style scoped>\n",
       "    .dataframe tbody tr th:only-of-type {\n",
       "        vertical-align: middle;\n",
       "    }\n",
       "\n",
       "    .dataframe tbody tr th {\n",
       "        vertical-align: top;\n",
       "    }\n",
       "\n",
       "    .dataframe thead th {\n",
       "        text-align: right;\n",
       "    }\n",
       "</style>\n",
       "<table border=\"1\" class=\"dataframe\">\n",
       "  <thead>\n",
       "    <tr style=\"text-align: right;\">\n",
       "      <th></th>\n",
       "      <th>all_regions_sales</th>\n",
       "    </tr>\n",
       "    <tr>\n",
       "      <th>genre</th>\n",
       "      <th></th>\n",
       "    </tr>\n",
       "  </thead>\n",
       "  <tbody>\n",
       "    <tr>\n",
       "      <th>Adventure</th>\n",
       "      <td>0.030</td>\n",
       "    </tr>\n",
       "    <tr>\n",
       "      <th>Puzzle</th>\n",
       "      <td>0.030</td>\n",
       "    </tr>\n",
       "    <tr>\n",
       "      <th>Strategy</th>\n",
       "      <td>0.050</td>\n",
       "    </tr>\n",
       "    <tr>\n",
       "      <th>Racing</th>\n",
       "      <td>0.055</td>\n",
       "    </tr>\n",
       "    <tr>\n",
       "      <th>Misc</th>\n",
       "      <td>0.060</td>\n",
       "    </tr>\n",
       "    <tr>\n",
       "      <th>Action</th>\n",
       "      <td>0.060</td>\n",
       "    </tr>\n",
       "    <tr>\n",
       "      <th>Fighting</th>\n",
       "      <td>0.090</td>\n",
       "    </tr>\n",
       "    <tr>\n",
       "      <th>Platform</th>\n",
       "      <td>0.100</td>\n",
       "    </tr>\n",
       "    <tr>\n",
       "      <th>Simulation</th>\n",
       "      <td>0.100</td>\n",
       "    </tr>\n",
       "    <tr>\n",
       "      <th>Role-Playing</th>\n",
       "      <td>0.115</td>\n",
       "    </tr>\n",
       "    <tr>\n",
       "      <th>Sports</th>\n",
       "      <td>0.120</td>\n",
       "    </tr>\n",
       "    <tr>\n",
       "      <th>Shooter</th>\n",
       "      <td>0.380</td>\n",
       "    </tr>\n",
       "  </tbody>\n",
       "</table>\n",
       "</div>"
      ],
      "text/plain": [
       "              all_regions_sales\n",
       "genre                          \n",
       "Adventure                 0.030\n",
       "Puzzle                    0.030\n",
       "Strategy                  0.050\n",
       "Racing                    0.055\n",
       "Misc                      0.060\n",
       "Action                    0.060\n",
       "Fighting                  0.090\n",
       "Platform                  0.100\n",
       "Simulation                0.100\n",
       "Role-Playing              0.115\n",
       "Sports                    0.120\n",
       "Shooter                   0.380"
      ]
     },
     "metadata": {},
     "output_type": "display_data"
    },
    {
     "data": {
      "image/png": "[encoded data removed]",
      "text/plain": [
       "<Figure size 432x288 with 1 Axes>"
      ]
     },
     "metadata": {
      "needs_background": "light"
     },
     "output_type": "display_data"
    }
   ],
   "source": [
    "group_sales_genre = df.query('platform in @all_best_sales_platform & year_of_release>2013').\\\n",
    "pivot_table( index='genre',values = 'all_regions_sales',aggfunc = 'median').fillna(0)\n",
    "group_sales_genre.plot(legend = True, kind='bar')\n",
    "display (group_sales_genre.sort_values(by='all_regions_sales'))"
   ]
  },
  {
   "cell_type": "markdown",
   "id": "b22870d5",
   "metadata": {},
   "source": [
    "Исходя из приведенных данных можно сказать, что самый популярный (по продажам) жанр это Shooter.Sports\n",
    "Далее RPG"
   ]
  },
  {
   "cell_type": "markdown",
   "id": "2d1b9202",
   "metadata": {},
   "source": [
    "### Шаг 4. Составьте портрет пользователя каждого региона"
   ]
  },
  {
   "cell_type": "markdown",
   "id": "460773e6",
   "metadata": {},
   "source": [
    "#### Определите для пользователя каждого региона (NA, EU, JP): Самые популярные платформы (топ-5). Опишите различия в долях продаж."
   ]
  },
  {
   "cell_type": "markdown",
   "id": "59332d07",
   "metadata": {},
   "source": [
    "сгруппируем и подсчитаем данные:"
   ]
  },
  {
   "cell_type": "code",
   "execution_count": 47,
   "id": "73d33b04",
   "metadata": {
    "pycharm": {
     "is_executing": true
    },
    "scrolled": true
   },
   "outputs": [
    {
     "data": {
      "text/html": [
       "<div>\n",
       "<style scoped>\n",
       "    .dataframe tbody tr th:only-of-type {\n",
       "        vertical-align: middle;\n",
       "    }\n",
       "\n",
       "    .dataframe tbody tr th {\n",
       "        vertical-align: top;\n",
       "    }\n",
       "\n",
       "    .dataframe thead th {\n",
       "        text-align: right;\n",
       "    }\n",
       "</style>\n",
       "<table border=\"1\" class=\"dataframe\">\n",
       "  <thead>\n",
       "    <tr style=\"text-align: right;\">\n",
       "      <th></th>\n",
       "      <th>na_sales</th>\n",
       "      <th>share_sales</th>\n",
       "    </tr>\n",
       "    <tr>\n",
       "      <th>platform</th>\n",
       "      <th></th>\n",
       "      <th></th>\n",
       "    </tr>\n",
       "  </thead>\n",
       "  <tbody>\n",
       "    <tr>\n",
       "      <th>PS4</th>\n",
       "      <td>63.86</td>\n",
       "      <td>0.451690</td>\n",
       "    </tr>\n",
       "    <tr>\n",
       "      <th>XOne</th>\n",
       "      <td>50.30</td>\n",
       "      <td>0.355779</td>\n",
       "    </tr>\n",
       "    <tr>\n",
       "      <th>3DS</th>\n",
       "      <td>10.31</td>\n",
       "      <td>0.072924</td>\n",
       "    </tr>\n",
       "    <tr>\n",
       "      <th>WiiU</th>\n",
       "      <td>8.86</td>\n",
       "      <td>0.062668</td>\n",
       "    </tr>\n",
       "    <tr>\n",
       "      <th>X360</th>\n",
       "      <td>8.05</td>\n",
       "      <td>0.056939</td>\n",
       "    </tr>\n",
       "  </tbody>\n",
       "</table>\n",
       "</div>"
      ],
      "text/plain": [
       "          na_sales  share_sales\n",
       "platform                       \n",
       "PS4          63.86     0.451690\n",
       "XOne         50.30     0.355779\n",
       "3DS          10.31     0.072924\n",
       "WiiU          8.86     0.062668\n",
       "X360          8.05     0.056939"
      ]
     },
     "metadata": {},
     "output_type": "display_data"
    },
    {
     "data": {
      "text/html": [
       "<div>\n",
       "<style scoped>\n",
       "    .dataframe tbody tr th:only-of-type {\n",
       "        vertical-align: middle;\n",
       "    }\n",
       "\n",
       "    .dataframe tbody tr th {\n",
       "        vertical-align: top;\n",
       "    }\n",
       "\n",
       "    .dataframe thead th {\n",
       "        text-align: right;\n",
       "    }\n",
       "</style>\n",
       "<table border=\"1\" class=\"dataframe\">\n",
       "  <thead>\n",
       "    <tr style=\"text-align: right;\">\n",
       "      <th></th>\n",
       "      <th>eu_sales</th>\n",
       "      <th>share_sales</th>\n",
       "    </tr>\n",
       "    <tr>\n",
       "      <th>platform</th>\n",
       "      <th></th>\n",
       "      <th></th>\n",
       "    </tr>\n",
       "  </thead>\n",
       "  <tbody>\n",
       "    <tr>\n",
       "      <th>PS4</th>\n",
       "      <td>83.54</td>\n",
       "      <td>0.616850</td>\n",
       "    </tr>\n",
       "    <tr>\n",
       "      <th>XOne</th>\n",
       "      <td>28.10</td>\n",
       "      <td>0.207487</td>\n",
       "    </tr>\n",
       "    <tr>\n",
       "      <th>PC</th>\n",
       "      <td>9.10</td>\n",
       "      <td>0.067193</td>\n",
       "    </tr>\n",
       "    <tr>\n",
       "      <th>3DS</th>\n",
       "      <td>7.39</td>\n",
       "      <td>0.054567</td>\n",
       "    </tr>\n",
       "    <tr>\n",
       "      <th>PS3</th>\n",
       "      <td>7.30</td>\n",
       "      <td>0.053902</td>\n",
       "    </tr>\n",
       "  </tbody>\n",
       "</table>\n",
       "</div>"
      ],
      "text/plain": [
       "          eu_sales  share_sales\n",
       "platform                       \n",
       "PS4          83.54     0.616850\n",
       "XOne         28.10     0.207487\n",
       "PC            9.10     0.067193\n",
       "3DS           7.39     0.054567\n",
       "PS3           7.30     0.053902"
      ]
     },
     "metadata": {},
     "output_type": "display_data"
    },
    {
     "data": {
      "text/html": [
       "<div>\n",
       "<style scoped>\n",
       "    .dataframe tbody tr th:only-of-type {\n",
       "        vertical-align: middle;\n",
       "    }\n",
       "\n",
       "    .dataframe tbody tr th {\n",
       "        vertical-align: top;\n",
       "    }\n",
       "\n",
       "    .dataframe thead th {\n",
       "        text-align: right;\n",
       "    }\n",
       "</style>\n",
       "<table border=\"1\" class=\"dataframe\">\n",
       "  <thead>\n",
       "    <tr style=\"text-align: right;\">\n",
       "      <th></th>\n",
       "      <th>jp_sales</th>\n",
       "      <th>share_sales</th>\n",
       "    </tr>\n",
       "    <tr>\n",
       "      <th>platform</th>\n",
       "      <th></th>\n",
       "      <th></th>\n",
       "    </tr>\n",
       "  </thead>\n",
       "  <tbody>\n",
       "    <tr>\n",
       "      <th>3DS</th>\n",
       "      <td>23.55</td>\n",
       "      <td>0.443503</td>\n",
       "    </tr>\n",
       "    <tr>\n",
       "      <th>PS4</th>\n",
       "      <td>12.05</td>\n",
       "      <td>0.226930</td>\n",
       "    </tr>\n",
       "    <tr>\n",
       "      <th>PSV</th>\n",
       "      <td>8.41</td>\n",
       "      <td>0.158380</td>\n",
       "    </tr>\n",
       "    <tr>\n",
       "      <th>PS3</th>\n",
       "      <td>4.97</td>\n",
       "      <td>0.093597</td>\n",
       "    </tr>\n",
       "    <tr>\n",
       "      <th>WiiU</th>\n",
       "      <td>4.12</td>\n",
       "      <td>0.077589</td>\n",
       "    </tr>\n",
       "  </tbody>\n",
       "</table>\n",
       "</div>"
      ],
      "text/plain": [
       "          jp_sales  share_sales\n",
       "platform                       \n",
       "3DS          23.55     0.443503\n",
       "PS4          12.05     0.226930\n",
       "PSV           8.41     0.158380\n",
       "PS3           4.97     0.093597\n",
       "WiiU          4.12     0.077589"
      ]
     },
     "metadata": {},
     "output_type": "display_data"
    },
    {
     "data": {
      "text/html": [
       "<div>\n",
       "<style scoped>\n",
       "    .dataframe tbody tr th:only-of-type {\n",
       "        vertical-align: middle;\n",
       "    }\n",
       "\n",
       "    .dataframe tbody tr th {\n",
       "        vertical-align: top;\n",
       "    }\n",
       "\n",
       "    .dataframe thead th {\n",
       "        text-align: right;\n",
       "    }\n",
       "</style>\n",
       "<table border=\"1\" class=\"dataframe\">\n",
       "  <thead>\n",
       "    <tr style=\"text-align: right;\">\n",
       "      <th></th>\n",
       "      <th>other_sales</th>\n",
       "      <th>share_sales</th>\n",
       "    </tr>\n",
       "    <tr>\n",
       "      <th>platform</th>\n",
       "      <th></th>\n",
       "      <th></th>\n",
       "    </tr>\n",
       "  </thead>\n",
       "  <tbody>\n",
       "    <tr>\n",
       "      <th>PS4</th>\n",
       "      <td>28.70</td>\n",
       "      <td>0.682521</td>\n",
       "    </tr>\n",
       "    <tr>\n",
       "      <th>XOne</th>\n",
       "      <td>7.71</td>\n",
       "      <td>0.183353</td>\n",
       "    </tr>\n",
       "    <tr>\n",
       "      <th>PS3</th>\n",
       "      <td>2.49</td>\n",
       "      <td>0.059215</td>\n",
       "    </tr>\n",
       "    <tr>\n",
       "      <th>3DS</th>\n",
       "      <td>1.67</td>\n",
       "      <td>0.039715</td>\n",
       "    </tr>\n",
       "    <tr>\n",
       "      <th>WiiU</th>\n",
       "      <td>1.48</td>\n",
       "      <td>0.035196</td>\n",
       "    </tr>\n",
       "  </tbody>\n",
       "</table>\n",
       "</div>"
      ],
      "text/plain": [
       "          other_sales  share_sales\n",
       "platform                          \n",
       "PS4             28.70     0.682521\n",
       "XOne             7.71     0.183353\n",
       "PS3              2.49     0.059215\n",
       "3DS              1.67     0.039715\n",
       "WiiU             1.48     0.035196"
      ]
     },
     "metadata": {},
     "output_type": "display_data"
    }
   ],
   "source": [
    "# \n",
    "region_columns = ['na_sales','eu_sales','jp_sales','other_sales']\n",
    "for region in region_columns:\n",
    "    ax = df.query('year_of_release>2013').pivot_table(index = 'platform', values = region, aggfunc = 'sum').sort_values(by=region,ascending=False ).head(5)\n",
    "    all_sales_region = ax[ax.columns[0]].sum()\n",
    "    ax['share_sales']=ax[ax.columns[0]] / all_sales_region\n",
    "    display (ax)\n"
   ]
  },
  {
   "cell_type": "markdown",
   "id": "b24eae85",
   "metadata": {},
   "source": [
    "В северной Америке, продажи игр по платформам первые места разделяют  PS4 XOne (общий порядок -  PS4 XOne X360 3DS PS3)\n",
    "В европе более популярна PS4, которая занимает почти половину рынка продажи\n",
    "В Японии первое место занимает 3DS, далее с почти одинаковой долей рынка - PS4 PSV PS3.\n",
    "В группе остальных стран, лидирует с большим отрывом PS4 (далее XOne, PS3 X360 3DS)\n",
    "Таким образом, можно сказать, что Европа в игровых предпочтениях больше схожа с группой Другие страны.\n",
    "Япония предпочитает свои особенные консоли( в том числе WiiU). А Северная америка находится гдето посередине."
   ]
  },
  {
   "cell_type": "markdown",
   "id": "6ea83852",
   "metadata": {},
   "source": [
    "#### Определите для пользователя каждого региона (NA, EU, JP): Самые популярные жанры (топ-5). Поясните разницу."
   ]
  },
  {
   "cell_type": "markdown",
   "id": "d75e8965",
   "metadata": {},
   "source": [
    "сгруппируем и подсчитаем данные:"
   ]
  },
  {
   "cell_type": "code",
   "execution_count": 48,
   "id": "787d873b",
   "metadata": {
    "pycharm": {
     "is_executing": true
    }
   },
   "outputs": [
    {
     "data": {
      "text/html": [
       "<div>\n",
       "<style scoped>\n",
       "    .dataframe tbody tr th:only-of-type {\n",
       "        vertical-align: middle;\n",
       "    }\n",
       "\n",
       "    .dataframe tbody tr th {\n",
       "        vertical-align: top;\n",
       "    }\n",
       "\n",
       "    .dataframe thead th {\n",
       "        text-align: right;\n",
       "    }\n",
       "</style>\n",
       "<table border=\"1\" class=\"dataframe\">\n",
       "  <thead>\n",
       "    <tr style=\"text-align: right;\">\n",
       "      <th></th>\n",
       "      <th>na_sales</th>\n",
       "      <th>share_sales</th>\n",
       "    </tr>\n",
       "    <tr>\n",
       "      <th>genre</th>\n",
       "      <th></th>\n",
       "      <th></th>\n",
       "    </tr>\n",
       "  </thead>\n",
       "  <tbody>\n",
       "    <tr>\n",
       "      <th>Shooter</th>\n",
       "      <td>48.18</td>\n",
       "      <td>0.360710</td>\n",
       "    </tr>\n",
       "    <tr>\n",
       "      <th>Action</th>\n",
       "      <td>33.68</td>\n",
       "      <td>0.252152</td>\n",
       "    </tr>\n",
       "    <tr>\n",
       "      <th>Sports</th>\n",
       "      <td>26.31</td>\n",
       "      <td>0.196975</td>\n",
       "    </tr>\n",
       "    <tr>\n",
       "      <th>Role-Playing</th>\n",
       "      <td>19.82</td>\n",
       "      <td>0.148387</td>\n",
       "    </tr>\n",
       "    <tr>\n",
       "      <th>Misc</th>\n",
       "      <td>5.58</td>\n",
       "      <td>0.041776</td>\n",
       "    </tr>\n",
       "  </tbody>\n",
       "</table>\n",
       "</div>"
      ],
      "text/plain": [
       "              na_sales  share_sales\n",
       "genre                              \n",
       "Shooter          48.18     0.360710\n",
       "Action           33.68     0.252152\n",
       "Sports           26.31     0.196975\n",
       "Role-Playing     19.82     0.148387\n",
       "Misc              5.58     0.041776"
      ]
     },
     "metadata": {},
     "output_type": "display_data"
    },
    {
     "data": {
      "text/html": [
       "<div>\n",
       "<style scoped>\n",
       "    .dataframe tbody tr th:only-of-type {\n",
       "        vertical-align: middle;\n",
       "    }\n",
       "\n",
       "    .dataframe tbody tr th {\n",
       "        vertical-align: top;\n",
       "    }\n",
       "\n",
       "    .dataframe thead th {\n",
       "        text-align: right;\n",
       "    }\n",
       "</style>\n",
       "<table border=\"1\" class=\"dataframe\">\n",
       "  <thead>\n",
       "    <tr style=\"text-align: right;\">\n",
       "      <th></th>\n",
       "      <th>eu_sales</th>\n",
       "      <th>share_sales</th>\n",
       "    </tr>\n",
       "    <tr>\n",
       "      <th>genre</th>\n",
       "      <th></th>\n",
       "      <th></th>\n",
       "    </tr>\n",
       "  </thead>\n",
       "  <tbody>\n",
       "    <tr>\n",
       "      <th>Shooter</th>\n",
       "      <td>40.28</td>\n",
       "      <td>0.318042</td>\n",
       "    </tr>\n",
       "    <tr>\n",
       "      <th>Action</th>\n",
       "      <td>34.82</td>\n",
       "      <td>0.274931</td>\n",
       "    </tr>\n",
       "    <tr>\n",
       "      <th>Sports</th>\n",
       "      <td>27.82</td>\n",
       "      <td>0.219660</td>\n",
       "    </tr>\n",
       "    <tr>\n",
       "      <th>Role-Playing</th>\n",
       "      <td>17.21</td>\n",
       "      <td>0.135886</td>\n",
       "    </tr>\n",
       "    <tr>\n",
       "      <th>Racing</th>\n",
       "      <td>6.52</td>\n",
       "      <td>0.051480</td>\n",
       "    </tr>\n",
       "  </tbody>\n",
       "</table>\n",
       "</div>"
      ],
      "text/plain": [
       "              eu_sales  share_sales\n",
       "genre                              \n",
       "Shooter          40.28     0.318042\n",
       "Action           34.82     0.274931\n",
       "Sports           27.82     0.219660\n",
       "Role-Playing     17.21     0.135886\n",
       "Racing            6.52     0.051480"
      ]
     },
     "metadata": {},
     "output_type": "display_data"
    },
    {
     "data": {
      "text/html": [
       "<div>\n",
       "<style scoped>\n",
       "    .dataframe tbody tr th:only-of-type {\n",
       "        vertical-align: middle;\n",
       "    }\n",
       "\n",
       "    .dataframe tbody tr th {\n",
       "        vertical-align: top;\n",
       "    }\n",
       "\n",
       "    .dataframe thead th {\n",
       "        text-align: right;\n",
       "    }\n",
       "</style>\n",
       "<table border=\"1\" class=\"dataframe\">\n",
       "  <thead>\n",
       "    <tr style=\"text-align: right;\">\n",
       "      <th></th>\n",
       "      <th>jp_sales</th>\n",
       "      <th>share_sales</th>\n",
       "    </tr>\n",
       "    <tr>\n",
       "      <th>genre</th>\n",
       "      <th></th>\n",
       "      <th></th>\n",
       "    </tr>\n",
       "  </thead>\n",
       "  <tbody>\n",
       "    <tr>\n",
       "      <th>Action</th>\n",
       "      <td>23.05</td>\n",
       "      <td>0.504818</td>\n",
       "    </tr>\n",
       "    <tr>\n",
       "      <th>Role-Playing</th>\n",
       "      <td>13.41</td>\n",
       "      <td>0.293693</td>\n",
       "    </tr>\n",
       "    <tr>\n",
       "      <th>Shooter</th>\n",
       "      <td>3.79</td>\n",
       "      <td>0.083005</td>\n",
       "    </tr>\n",
       "    <tr>\n",
       "      <th>Misc</th>\n",
       "      <td>3.19</td>\n",
       "      <td>0.069864</td>\n",
       "    </tr>\n",
       "    <tr>\n",
       "      <th>Adventure</th>\n",
       "      <td>2.22</td>\n",
       "      <td>0.048620</td>\n",
       "    </tr>\n",
       "  </tbody>\n",
       "</table>\n",
       "</div>"
      ],
      "text/plain": [
       "              jp_sales  share_sales\n",
       "genre                              \n",
       "Action           23.05     0.504818\n",
       "Role-Playing     13.41     0.293693\n",
       "Shooter           3.79     0.083005\n",
       "Misc              3.19     0.069864\n",
       "Adventure         2.22     0.048620"
      ]
     },
     "metadata": {},
     "output_type": "display_data"
    },
    {
     "data": {
      "text/html": [
       "<div>\n",
       "<style scoped>\n",
       "    .dataframe tbody tr th:only-of-type {\n",
       "        vertical-align: middle;\n",
       "    }\n",
       "\n",
       "    .dataframe tbody tr th {\n",
       "        vertical-align: top;\n",
       "    }\n",
       "\n",
       "    .dataframe thead th {\n",
       "        text-align: right;\n",
       "    }\n",
       "</style>\n",
       "<table border=\"1\" class=\"dataframe\">\n",
       "  <thead>\n",
       "    <tr style=\"text-align: right;\">\n",
       "      <th></th>\n",
       "      <th>other_sales</th>\n",
       "      <th>share_sales</th>\n",
       "    </tr>\n",
       "    <tr>\n",
       "      <th>genre</th>\n",
       "      <th></th>\n",
       "      <th></th>\n",
       "    </tr>\n",
       "  </thead>\n",
       "  <tbody>\n",
       "    <tr>\n",
       "      <th>Shooter</th>\n",
       "      <td>13.48</td>\n",
       "      <td>0.340748</td>\n",
       "    </tr>\n",
       "    <tr>\n",
       "      <th>Action</th>\n",
       "      <td>10.58</td>\n",
       "      <td>0.267442</td>\n",
       "    </tr>\n",
       "    <tr>\n",
       "      <th>Sports</th>\n",
       "      <td>8.55</td>\n",
       "      <td>0.216127</td>\n",
       "    </tr>\n",
       "    <tr>\n",
       "      <th>Role-Playing</th>\n",
       "      <td>5.38</td>\n",
       "      <td>0.135996</td>\n",
       "    </tr>\n",
       "    <tr>\n",
       "      <th>Fighting</th>\n",
       "      <td>1.57</td>\n",
       "      <td>0.039687</td>\n",
       "    </tr>\n",
       "  </tbody>\n",
       "</table>\n",
       "</div>"
      ],
      "text/plain": [
       "              other_sales  share_sales\n",
       "genre                                 \n",
       "Shooter             13.48     0.340748\n",
       "Action              10.58     0.267442\n",
       "Sports               8.55     0.216127\n",
       "Role-Playing         5.38     0.135996\n",
       "Fighting             1.57     0.039687"
      ]
     },
     "metadata": {},
     "output_type": "display_data"
    }
   ],
   "source": [
    "# \n",
    "region_columns = ['na_sales','eu_sales','jp_sales','other_sales']\n",
    "for region in region_columns:\n",
    "    ax = df.query('year_of_release>2013').pivot_table(index = 'genre', values = region, aggfunc = 'sum').sort_values(by=region,ascending=False ).head(5)\n",
    "    all_sales_region = ax[ax.columns[0]].sum()\n",
    "    ax['share_sales']=ax[ax.columns[0]] / all_sales_region\n",
    "    display (ax)\n"
   ]
  },
  {
   "cell_type": "markdown",
   "id": "ce26c46b",
   "metadata": {},
   "source": [
    "В северной Америке в равной степени популярны  Shooter Action\n",
    "В Европе, примерно тоже самое(Action Shooter) но на первое место выходят Action\n",
    "В ЯПонии Role-Playing Action\n",
    "В других странах Action Shooter Sports\n",
    "И здесь мы можем видеть схожесть интересов Европейского и геймера из Других стран. В небольшой степени на них похожи игроки Из Северной Америки, отличающиеся большей склонностью к Shooter. Япония и здесь совсем особенная страна, предпочитает на первом месте Role-Playing  и  лишь потом - Action\n"
   ]
  },
  {
   "cell_type": "markdown",
   "id": "b36a9616",
   "metadata": {},
   "source": [
    "#### Влияет ли рейтинг ESRB на продажи в отдельном регионе?"
   ]
  },
  {
   "cell_type": "markdown",
   "id": "6174dd31",
   "metadata": {},
   "source": [
    "сгруппируем и подсчитаем данные:"
   ]
  },
  {
   "cell_type": "code",
   "execution_count": 49,
   "id": "e7e12dbf",
   "metadata": {
    "pycharm": {
     "is_executing": true
    }
   },
   "outputs": [
    {
     "data": {
      "text/html": [
       "<div>\n",
       "<style scoped>\n",
       "    .dataframe tbody tr th:only-of-type {\n",
       "        vertical-align: middle;\n",
       "    }\n",
       "\n",
       "    .dataframe tbody tr th {\n",
       "        vertical-align: top;\n",
       "    }\n",
       "\n",
       "    .dataframe thead th {\n",
       "        text-align: right;\n",
       "    }\n",
       "</style>\n",
       "<table border=\"1\" class=\"dataframe\">\n",
       "  <thead>\n",
       "    <tr style=\"text-align: right;\">\n",
       "      <th></th>\n",
       "      <th>na_sales</th>\n",
       "      <th>share_sales</th>\n",
       "    </tr>\n",
       "    <tr>\n",
       "      <th>rating</th>\n",
       "      <th></th>\n",
       "      <th></th>\n",
       "    </tr>\n",
       "  </thead>\n",
       "  <tbody>\n",
       "    <tr>\n",
       "      <th>M</th>\n",
       "      <td>47.03</td>\n",
       "      <td>0.309836</td>\n",
       "    </tr>\n",
       "    <tr>\n",
       "      <th>WITHOUT_RATE</th>\n",
       "      <td>37.44</td>\n",
       "      <td>0.246657</td>\n",
       "    </tr>\n",
       "    <tr>\n",
       "      <th>E</th>\n",
       "      <td>26.59</td>\n",
       "      <td>0.175176</td>\n",
       "    </tr>\n",
       "    <tr>\n",
       "      <th>T</th>\n",
       "      <td>22.86</td>\n",
       "      <td>0.150603</td>\n",
       "    </tr>\n",
       "    <tr>\n",
       "      <th>E10+</th>\n",
       "      <td>17.87</td>\n",
       "      <td>0.117728</td>\n",
       "    </tr>\n",
       "  </tbody>\n",
       "</table>\n",
       "</div>"
      ],
      "text/plain": [
       "              na_sales  share_sales\n",
       "rating                             \n",
       "M                47.03     0.309836\n",
       "WITHOUT_RATE     37.44     0.246657\n",
       "E                26.59     0.175176\n",
       "T                22.86     0.150603\n",
       "E10+             17.87     0.117728"
      ]
     },
     "metadata": {},
     "output_type": "display_data"
    },
    {
     "data": {
      "text/html": [
       "<div>\n",
       "<style scoped>\n",
       "    .dataframe tbody tr th:only-of-type {\n",
       "        vertical-align: middle;\n",
       "    }\n",
       "\n",
       "    .dataframe tbody tr th {\n",
       "        vertical-align: top;\n",
       "    }\n",
       "\n",
       "    .dataframe thead th {\n",
       "        text-align: right;\n",
       "    }\n",
       "</style>\n",
       "<table border=\"1\" class=\"dataframe\">\n",
       "  <thead>\n",
       "    <tr style=\"text-align: right;\">\n",
       "      <th></th>\n",
       "      <th>eu_sales</th>\n",
       "      <th>share_sales</th>\n",
       "    </tr>\n",
       "    <tr>\n",
       "      <th>rating</th>\n",
       "      <th></th>\n",
       "      <th></th>\n",
       "    </tr>\n",
       "  </thead>\n",
       "  <tbody>\n",
       "    <tr>\n",
       "      <th>M</th>\n",
       "      <td>45.54</td>\n",
       "      <td>0.307827</td>\n",
       "    </tr>\n",
       "    <tr>\n",
       "      <th>WITHOUT_RATE</th>\n",
       "      <td>35.71</td>\n",
       "      <td>0.241382</td>\n",
       "    </tr>\n",
       "    <tr>\n",
       "      <th>E</th>\n",
       "      <td>34.83</td>\n",
       "      <td>0.235433</td>\n",
       "    </tr>\n",
       "    <tr>\n",
       "      <th>T</th>\n",
       "      <td>20.32</td>\n",
       "      <td>0.137353</td>\n",
       "    </tr>\n",
       "    <tr>\n",
       "      <th>E10+</th>\n",
       "      <td>11.54</td>\n",
       "      <td>0.078005</td>\n",
       "    </tr>\n",
       "  </tbody>\n",
       "</table>\n",
       "</div>"
      ],
      "text/plain": [
       "              eu_sales  share_sales\n",
       "rating                             \n",
       "M                45.54     0.307827\n",
       "WITHOUT_RATE     35.71     0.241382\n",
       "E                34.83     0.235433\n",
       "T                20.32     0.137353\n",
       "E10+             11.54     0.078005"
      ]
     },
     "metadata": {},
     "output_type": "display_data"
    },
    {
     "data": {
      "text/html": [
       "<div>\n",
       "<style scoped>\n",
       "    .dataframe tbody tr th:only-of-type {\n",
       "        vertical-align: middle;\n",
       "    }\n",
       "\n",
       "    .dataframe tbody tr th {\n",
       "        vertical-align: top;\n",
       "    }\n",
       "\n",
       "    .dataframe thead th {\n",
       "        text-align: right;\n",
       "    }\n",
       "</style>\n",
       "<table border=\"1\" class=\"dataframe\">\n",
       "  <thead>\n",
       "    <tr style=\"text-align: right;\">\n",
       "      <th></th>\n",
       "      <th>jp_sales</th>\n",
       "      <th>share_sales</th>\n",
       "    </tr>\n",
       "    <tr>\n",
       "      <th>rating</th>\n",
       "      <th></th>\n",
       "      <th></th>\n",
       "    </tr>\n",
       "  </thead>\n",
       "  <tbody>\n",
       "    <tr>\n",
       "      <th>WITHOUT_RATE</th>\n",
       "      <td>32.89</td>\n",
       "      <td>0.615918</td>\n",
       "    </tr>\n",
       "    <tr>\n",
       "      <th>T</th>\n",
       "      <td>7.70</td>\n",
       "      <td>0.144195</td>\n",
       "    </tr>\n",
       "    <tr>\n",
       "      <th>E</th>\n",
       "      <td>5.25</td>\n",
       "      <td>0.098315</td>\n",
       "    </tr>\n",
       "    <tr>\n",
       "      <th>M</th>\n",
       "      <td>4.29</td>\n",
       "      <td>0.080337</td>\n",
       "    </tr>\n",
       "    <tr>\n",
       "      <th>E10+</th>\n",
       "      <td>3.27</td>\n",
       "      <td>0.061236</td>\n",
       "    </tr>\n",
       "  </tbody>\n",
       "</table>\n",
       "</div>"
      ],
      "text/plain": [
       "              jp_sales  share_sales\n",
       "rating                             \n",
       "WITHOUT_RATE     32.89     0.615918\n",
       "T                 7.70     0.144195\n",
       "E                 5.25     0.098315\n",
       "M                 4.29     0.080337\n",
       "E10+              3.27     0.061236"
      ]
     },
     "metadata": {},
     "output_type": "display_data"
    },
    {
     "data": {
      "text/html": [
       "<div>\n",
       "<style scoped>\n",
       "    .dataframe tbody tr th:only-of-type {\n",
       "        vertical-align: middle;\n",
       "    }\n",
       "\n",
       "    .dataframe tbody tr th {\n",
       "        vertical-align: top;\n",
       "    }\n",
       "\n",
       "    .dataframe thead th {\n",
       "        text-align: right;\n",
       "    }\n",
       "</style>\n",
       "<table border=\"1\" class=\"dataframe\">\n",
       "  <thead>\n",
       "    <tr style=\"text-align: right;\">\n",
       "      <th></th>\n",
       "      <th>other_sales</th>\n",
       "      <th>share_sales</th>\n",
       "    </tr>\n",
       "    <tr>\n",
       "      <th>rating</th>\n",
       "      <th></th>\n",
       "      <th></th>\n",
       "    </tr>\n",
       "  </thead>\n",
       "  <tbody>\n",
       "    <tr>\n",
       "      <th>M</th>\n",
       "      <td>14.24</td>\n",
       "      <td>0.317928</td>\n",
       "    </tr>\n",
       "    <tr>\n",
       "      <th>WITHOUT_RATE</th>\n",
       "      <td>11.13</td>\n",
       "      <td>0.248493</td>\n",
       "    </tr>\n",
       "    <tr>\n",
       "      <th>E</th>\n",
       "      <td>8.57</td>\n",
       "      <td>0.191337</td>\n",
       "    </tr>\n",
       "    <tr>\n",
       "      <th>T</th>\n",
       "      <td>6.85</td>\n",
       "      <td>0.152936</td>\n",
       "    </tr>\n",
       "    <tr>\n",
       "      <th>E10+</th>\n",
       "      <td>4.00</td>\n",
       "      <td>0.089306</td>\n",
       "    </tr>\n",
       "  </tbody>\n",
       "</table>\n",
       "</div>"
      ],
      "text/plain": [
       "              other_sales  share_sales\n",
       "rating                                \n",
       "M                   14.24     0.317928\n",
       "WITHOUT_RATE        11.13     0.248493\n",
       "E                    8.57     0.191337\n",
       "T                    6.85     0.152936\n",
       "E10+                 4.00     0.089306"
      ]
     },
     "metadata": {},
     "output_type": "display_data"
    }
   ],
   "source": [
    "# \n",
    "region_columns = ['na_sales','eu_sales','jp_sales','other_sales']\n",
    "for region in region_columns:\n",
    "    ax = df.query('year_of_release>2013').pivot_table(index = 'rating', values = region, aggfunc = 'sum').sort_values(by=region,ascending=False ).head(5)\n",
    "\n",
    "    all_sales_region = ax[ax.columns[0]].sum()\n",
    "    ax['share_sales']=ax[ax.columns[0]] / all_sales_region\n",
    "    display (ax)\n"
   ]
  },
  {
   "cell_type": "markdown",
   "id": "9732a91c",
   "metadata": {},
   "source": [
    "Здесь все страны похожи(M  E T E10+), кроме японии, у которой \n",
    "рейтинги Т и М предпочитаемы в обратном порядке (T E M E10+)"
   ]
  },
  {
   "cell_type": "markdown",
   "id": "5667ec5f",
   "metadata": {},
   "source": [
    "<div class=\"alert alert-info\">\n",
    "v2. Исправлено. \n",
    "\n",
    "    WIKI:\n",
    "    \n",
    "        Для определения рейтинга издатель присылает в ESRB видеоролик, который содержит наиболее впечатляющие и резкие сцены игры. Также издатель заполняет специальную анкету сведениями о содержании игры.\n",
    "\n",
    "        На веб-сайте ESRB сообщается, что затем рецензенты независимо оценивают продукт и определяют рейтинг. Оценкой рейтинга занимаются многие люди разных возрастов и слоёв общества. Это могут быть бывшие школьные учителя, родители, профессионалы и различные работники из других сфер деятельности, не связанные с игровой индустрией. Если рецензенты сходятся в оценке, то к рейтингу добавляют краткие описания и ESRB уведомляет издателя о своём решении.\n",
    "\n",
    "        Когда игра готова к продаже, издатель отправляет копии финальной версии в ESRB. Подвергается осмотру упаковка игры, а предоставленные издателем сведения о содержании игры обычно проверяются путём её тестирования. Если игра оказывается более жёсткой, чем было представлено в видеоролике, или покупатели высказываются о несоответствии рейтинга и содержимого продукта, к издателю могут быть применены различные санкции.\n",
    "    \n",
    "\n",
    "На основе вышеприведенного, могу предположить, что либо были обстоятельства, по которым игры не получили рейтинговую оценку. Но тогда бы у них, скорее всего, был рейтинг «RP» («Rating Pending») — «Рейтинг ожидается».\n",
    "    \n",
    "Либо, что более вероятно, судя по достаточно высоким показателям особенно в Японии, игры вошли в другие категории (например AO Adults Only 18+).\n",
    "    \n",
    "</div>"
   ]
  },
  {
   "cell_type": "markdown",
   "id": "662f9a59",
   "metadata": {},
   "source": [
    "### Шаг 5. Проверьте гипотезы"
   ]
  },
  {
   "cell_type": "markdown",
   "id": "c96beae2",
   "metadata": {},
   "source": [
    "#### Средние пользовательские рейтинги платформ Xbox One и PC одинаковые;"
   ]
  },
  {
   "cell_type": "markdown",
   "id": "7a2c6bad",
   "metadata": {},
   "source": [
    "Нулевая гипотеза - Средние пользовательские рейтинги платформ Xbox One и PC одинаковые.\n",
    "Альтернативная гипотеза - Средние пользовательские рейтинги платформ Xbox One и PC разные."
   ]
  },
  {
   "cell_type": "markdown",
   "id": "1bde51ad",
   "metadata": {},
   "source": [
    "пользовательские рейтинги платформ Xbox One"
   ]
  },
  {
   "cell_type": "code",
   "execution_count": 50,
   "id": "991a2199",
   "metadata": {
    "pycharm": {
     "is_executing": true
    }
   },
   "outputs": [
    {
     "data": {
      "text/plain": [
       "6.542148760330578"
      ]
     },
     "execution_count": 50,
     "metadata": {},
     "output_type": "execute_result"
    }
   ],
   "source": [
    "#\n",
    "\n",
    "user_rates_xboxone = df.query('platform ==\"XOne\" & user_score != -999')['user_score']\n",
    "user_rates_xboxone.mean()"
   ]
  },
  {
   "cell_type": "markdown",
   "id": "d8be04af",
   "metadata": {},
   "source": [
    "пользовательские рейтинги платформ PC"
   ]
  },
  {
   "cell_type": "code",
   "execution_count": 51,
   "id": "039349f9",
   "metadata": {
    "pycharm": {
     "is_executing": true
    }
   },
   "outputs": [
    {
     "data": {
      "text/plain": [
       "6.29642857142857"
      ]
     },
     "execution_count": 51,
     "metadata": {},
     "output_type": "execute_result"
    }
   ],
   "source": [
    "#\n",
    "user_rates_pc = df.query('platform ==\"PC\" & user_score != -999')['user_score']\n",
    "user_rates_pc.mean()"
   ]
  },
  {
   "cell_type": "code",
   "execution_count": null,
   "id": "4aa0ff4c",
   "metadata": {},
   "outputs": [],
   "source": []
  },
  {
   "cell_type": "markdown",
   "id": "44de7404",
   "metadata": {},
   "source": [
    "Нужен статистический тест, который сравнивает средние двух множеств"
   ]
  },
  {
   "cell_type": "code",
   "execution_count": 52,
   "id": "96cd4f46",
   "metadata": {
    "pycharm": {
     "is_executing": true
    }
   },
   "outputs": [
    {
     "name": "stdout",
     "output_type": "stream",
     "text": [
      "p-значение: 0.2778542084733835\n",
      "Не получилось отвергнуть нулевую гипотезу\n"
     ]
    }
   ],
   "source": [
    "\n",
    "\n",
    "alpha = .05 # критический уровень статистической значимости\n",
    "\n",
    "# \n",
    "results = st.ttest_ind(user_rates_xboxone, user_rates_pc)\n",
    "print('p-значение:',results.pvalue)\n",
    "\n",
    "if results.pvalue<alpha:\n",
    "    print(\"Отвергаем нулевую гипотезу\")\n",
    "else:\n",
    "    print(\"Не получилось отвергнуть нулевую гипотезу\")\n",
    "    "
   ]
  },
  {
   "cell_type": "markdown",
   "id": "c143c303",
   "metadata": {},
   "source": [
    "Не отвергаем нулевую гипотезу. То есть, все говорит в пользу гипотезы, что средние пользовательские рейтинги платформ одинаковые.\n"
   ]
  },
  {
   "cell_type": "markdown",
   "id": "3ee9f2fc",
   "metadata": {},
   "source": [
    "#### Средние пользовательские рейтинги жанров Action (англ. «действие», экшен-игры) и Sports (англ. «спортивные соревнования») разные."
   ]
  },
  {
   "cell_type": "markdown",
   "id": "49a7f3fb",
   "metadata": {},
   "source": [
    "Нулевая гипотеза - Средние пользовательские жанров Action и Sports одинаковые. \n",
    "\n",
    "Альтернативная гипотеза - Средние пользовательские жанров Action и Sports разные."
   ]
  },
  {
   "cell_type": "markdown",
   "id": "23167dc4",
   "metadata": {},
   "source": [
    "Средние пользовательские рейтинги жанров Action"
   ]
  },
  {
   "cell_type": "code",
   "execution_count": 53,
   "id": "fb094e00",
   "metadata": {
    "pycharm": {
     "is_executing": true
    }
   },
   "outputs": [
    {
     "data": {
      "text/plain": [
       "6.808290155440415"
      ]
     },
     "execution_count": 53,
     "metadata": {},
     "output_type": "execute_result"
    }
   ],
   "source": [
    "#\n",
    "\n",
    "user_rates_action = df.query('genre ==\"Action\" & user_score != -999')['user_score']\n",
    "user_rates_action.mean()"
   ]
  },
  {
   "cell_type": "markdown",
   "id": "7f4c8dfd",
   "metadata": {},
   "source": [
    "Средние пользовательские рейтинги жанров  Sports"
   ]
  },
  {
   "cell_type": "code",
   "execution_count": 54,
   "id": "31855c6a",
   "metadata": {
    "pycharm": {
     "is_executing": true
    }
   },
   "outputs": [
    {
     "data": {
      "text/plain": [
       "5.198780487804878"
      ]
     },
     "execution_count": 54,
     "metadata": {},
     "output_type": "execute_result"
    }
   ],
   "source": [
    "#\n",
    "\n",
    "user_rates_Sports = df.query('genre ==\"Sports\" & user_score != -999')['user_score']\n",
    "user_rates_Sports.mean()"
   ]
  },
  {
   "cell_type": "markdown",
   "id": "50504156",
   "metadata": {},
   "source": [
    "Нужен статистический тест, который сравнивает средние двух множеств"
   ]
  },
  {
   "cell_type": "code",
   "execution_count": 55,
   "id": "4e42757a",
   "metadata": {
    "pycharm": {
     "is_executing": true
    },
    "scrolled": true
   },
   "outputs": [
    {
     "name": "stdout",
     "output_type": "stream",
     "text": [
      "p-значение: 1.0012846807938657e-13\n",
      "Отвергаем нулевую гипотезу\n"
     ]
    }
   ],
   "source": [
    "\n",
    "\n",
    "alpha = .05 # критический уровень статистической значимости\n",
    "\n",
    "# \n",
    "results = st.ttest_ind(user_rates_action, user_rates_Sports)\n",
    "print('p-значение:',results.pvalue)\n",
    "\n",
    "if results.pvalue<alpha:\n",
    "    print(\"Отвергаем нулевую гипотезу\")\n",
    "else:\n",
    "    print(\"Не получилось отвергнуть нулевую гипотезу\")"
   ]
  },
  {
   "cell_type": "markdown",
   "id": "74541610",
   "metadata": {},
   "source": [
    "Гипотеза о том, что средние Средние пользовательские рейтинги жанров Action (англ. «действие», экшен-игры) и Sports (англ. «спортивные соревнования») одинаковые отвергнута."
   ]
  },
  {
   "cell_type": "markdown",
   "id": "e2010d9d",
   "metadata": {},
   "source": [
    "## Вывод"
   ]
  },
  {
   "cell_type": "markdown",
   "id": "9b2279c4",
   "metadata": {},
   "source": [
    "Вывод.Исходя из цели проекта и согласно проведенным исследованиям можно сказать, что есть зависимость популярности и количества продаж от жанра.\n",
    "Выборка данных продаж  по регионам показывает относительно стабильный интерес кигровой индустрии в Японии и значительный рост на протяжении исследуемого периода в других регионах.\n",
    "Для ряда платформ с очень низкими продажами и кортким жизненным циклом нет смысла исследовать характеристики по причине слишком маленькой доли продаж, по сравнении с другими.\n",
    "Средний жизненный цикл платформы 5-7 лет, при этом для проггноза в этой быстро меняющейся индустрии достаточно 2-3  лет назад.\n",
    "При анализе выяснилось, что нет смысла рассматривать все годы исследуенмого периода, важны только последние данные.\n",
    "\n",
    "Исходя из графиков, потенциально прибыльные платформы -  PS4 XOne PC.\n",
    "Расположены в порядке убывания потенциала, посчитанного на основе процента продаж предыдущих периодов.\n",
    "мы видим что среди лидеров по охвату рынка PS4, PSP, XBOX One. Их медианные значения продаж и диапазон  квартилей значительно превосходит остальные.\n",
    "от пользовательских рейтингов  продажи не зависят.\n",
    "\n",
    "critic_score - отзыв 70 и выше даёт хорошую гарантию высоких продаж\n",
    "\n",
    "Исходя из приведенных данных можно сказать, что самый популярный (по продажам) жанр это Action. Далее RPG, Adventure,Sports\n",
    "\n",
    "По данным пользователей и регионам можно сказать, что популярные жанры следующие:\n",
    "В северной Америке, продажи игр по платформам первые места разделяют PS4 XOne (общий порядок - PS4 XOne X360 3DS PS3) В европе более популярна PS4, которая занимает почти половину рынка продажи В Японии первое место занимает 3DS, далее с почти одинаковой долей рынка - PS4 PSV PS3. В группе остальных стран, лидирует с большим отрывом PS4 (далее XOne, PS3 X360 3DS) Таким образом, можно сказать, что Европа в игровых предпочтениях больше схожа с группой Другие страны. Япония предпочитает свои особенные консоли( в том числе WiiU). А Северная америка находится гдето посередине.\n",
    "\n",
    "\n",
    "В северной Америке в равной степени популярны Shooter Action В Европе, примерно тоже самое(Action Shooter) но на первое место выходят Action В ЯПонии Role-Playing Action В других странах Action Shooter Sports И здесь мы можем видеть схожесть интересов Европейского и геймера из Других стран. В небольшой степени на них похожи игроки Из Северной Америки, отличающиеся большей склонностью к Shooter. Япония и здесь совсем особенная страна, предпочитает на первом месте Role-Playing и лишь потом - Action\n",
    "\n",
    "Относительно влияния рейтингов по регионам, можно сказать следующее:\n",
    "Здесь все страны похожи(M E T E10+), кроме японии, у которой рейтинги Т и М предпочитаемы в обратном порядке (T E M E10+)\n",
    "\n",
    "Согласно статистическим исследованиям можно сказать что все говорит в пользу гипотезы, что средние пользовательские рейтинги платформ разные.\n",
    "Гипотеза же, о том, что средние Средние пользовательские рейтинги жанров Action (англ. «действие», экшен-игры) и Sports (англ. «спортивные соревнования»)одинаковые не отвергнута.\n",
    "\n",
    "Рекомендация общего характера это сконцентрировать рекламные компании на жанре Role-Playing в Японии и На жанрах Action Shooter в остальных. Стоит ориентироваться на платформы PS4 XOne в европе и Америке, и на 3DS в Японии. Стоит также уделить внимание на отзывы критиков и ориентироваться на относительно прибыльные рейтинги  М."
   ]
  }
 ],
 "metadata": {
  "kernelspec": {
   "display_name": "base",
   "language": "python",
   "name": "base"
  },
  "language_info": {
   "codemirror_mode": {
    "name": "ipython",
    "version": 3
   },
   "file_extension": ".py",
   "mimetype": "text/x-python",
   "name": "python",
   "nbconvert_exporter": "python",
   "pygments_lexer": "ipython3",
   "version": "3.8.8"
  },
  "toc": {
   "base_numbering": 1,
   "nav_menu": {},
   "number_sections": true,
   "sideBar": true,
   "skip_h1_title": false,
   "title_cell": "Table of Contents",
   "title_sidebar": "Contents",
   "toc_cell": false,
   "toc_position": {},
   "toc_section_display": true,
   "toc_window_display": false
  }
 },
 "nbformat": 4,
 "nbformat_minor": 5
}
